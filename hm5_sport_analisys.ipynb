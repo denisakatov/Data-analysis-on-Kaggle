{
  "nbformat": 4,
  "nbformat_minor": 0,
  "metadata": {
    "colab": {
      "name": "hm5_sport_analisys.ipynb",
      "provenance": [],
      "collapsed_sections": [],
      "mount_file_id": "1_m3ztVeM19wU5nZHdfbk3MAdG-9Z3YoX",
      "authorship_tag": "ABX9TyNQHkyjWCrUJuuOI7l7LUyH",
      "include_colab_link": true
    },
    "kernelspec": {
      "name": "python3",
      "display_name": "Python 3"
    }
  },
  "cells": [
    {
      "cell_type": "markdown",
      "metadata": {
        "id": "view-in-github",
        "colab_type": "text"
      },
      "source": [
        "<a href=\"https://colab.research.google.com/github/denisakatov/Data-analysis-on-Kaggle/blob/main/hm5_sport_analisys.ipynb\" target=\"_parent\"><img src=\"https://colab.research.google.com/assets/colab-badge.svg\" alt=\"Open In Colab\"/></a>"
      ]
    },
    {
      "cell_type": "code",
      "metadata": {
        "id": "D70laMHq8-c7"
      },
      "source": [
        "import warnings\n",
        "from tqdm import tqdm\n",
        "from typing import List, Tuple\n",
        "\n",
        "import numpy as np\n",
        "import pandas as pd\n",
        "import seaborn as sns\n",
        "import xgboost as xgb\n",
        "import lightgbm as lgb\n",
        "import matplotlib.pyplot as plt\n",
        "from scipy.stats import ttest_rel\n",
        "\n",
        "from sklearn.metrics import r2_score, roc_auc_score\n",
        "from sklearn.ensemble import RandomForestRegressor\n",
        "from sklearn.model_selection import KFold, StratifiedKFold, train_test_split, cross_val_score\n",
        "warnings.simplefilter(\"ignore\")\n",
        "%matplotlib inline"
      ],
      "execution_count": 1,
      "outputs": []
    },
    {
      "cell_type": "code",
      "metadata": {
        "id": "K4O6JTcm9Jv-"
      },
      "source": [
        "liderboard = pd.read_csv('/content/drive/MyDrive/Colab Notebooks/Kaggle /2/data/assignment_2_test.csv')\n",
        "train = pd.read_csv('/content/drive/MyDrive/Colab Notebooks/Kaggle /2/data/assignment_2_train.csv')"
      ],
      "execution_count": 2,
      "outputs": []
    },
    {
      "cell_type": "code",
      "metadata": {
        "id": "E9j3xDH9MhHS"
      },
      "source": [
        "# Категориальные признаки для train переводим в category для возможности обработки категориальных признаков lightgbm\n",
        "\n",
        "for c in liderboard.select_dtypes(include=[np.object]):\n",
        "  liderboard[c] = liderboard[c].astype('category')"
      ],
      "execution_count": 3,
      "outputs": []
    },
    {
      "cell_type": "code",
      "metadata": {
        "colab": {
          "base_uri": "https://localhost:8080/",
          "height": 156
        },
        "id": "RvLPiv2LucEB",
        "outputId": "d6784c3a-a0c9-4fd0-d9be-ecb7eeca5f4c"
      },
      "source": [
        "train.head(2)"
      ],
      "execution_count": 4,
      "outputs": [
        {
          "output_type": "execute_result",
          "data": {
            "text/html": [
              "<div>\n",
              "<style scoped>\n",
              "    .dataframe tbody tr th:only-of-type {\n",
              "        vertical-align: middle;\n",
              "    }\n",
              "\n",
              "    .dataframe tbody tr th {\n",
              "        vertical-align: top;\n",
              "    }\n",
              "\n",
              "    .dataframe thead th {\n",
              "        text-align: right;\n",
              "    }\n",
              "</style>\n",
              "<table border=\"1\" class=\"dataframe\">\n",
              "  <thead>\n",
              "    <tr style=\"text-align: right;\">\n",
              "      <th></th>\n",
              "      <th>TransactionID</th>\n",
              "      <th>isFraud</th>\n",
              "      <th>TransactionDT</th>\n",
              "      <th>TransactionAmt</th>\n",
              "      <th>ProductCD</th>\n",
              "      <th>card1</th>\n",
              "      <th>card2</th>\n",
              "      <th>card3</th>\n",
              "      <th>card4</th>\n",
              "      <th>card5</th>\n",
              "      <th>card6</th>\n",
              "      <th>addr1</th>\n",
              "      <th>addr2</th>\n",
              "      <th>dist1</th>\n",
              "      <th>dist2</th>\n",
              "      <th>P_emaildomain</th>\n",
              "      <th>R_emaildomain</th>\n",
              "      <th>C1</th>\n",
              "      <th>C2</th>\n",
              "      <th>C3</th>\n",
              "      <th>C4</th>\n",
              "      <th>C5</th>\n",
              "      <th>C6</th>\n",
              "      <th>C7</th>\n",
              "      <th>C8</th>\n",
              "      <th>C9</th>\n",
              "      <th>C10</th>\n",
              "      <th>C11</th>\n",
              "      <th>C12</th>\n",
              "      <th>C13</th>\n",
              "      <th>C14</th>\n",
              "      <th>D1</th>\n",
              "      <th>D2</th>\n",
              "      <th>D3</th>\n",
              "      <th>D4</th>\n",
              "      <th>D5</th>\n",
              "      <th>D6</th>\n",
              "      <th>D7</th>\n",
              "      <th>D8</th>\n",
              "      <th>D9</th>\n",
              "      <th>...</th>\n",
              "      <th>V300</th>\n",
              "      <th>V301</th>\n",
              "      <th>V302</th>\n",
              "      <th>V303</th>\n",
              "      <th>V304</th>\n",
              "      <th>V305</th>\n",
              "      <th>V306</th>\n",
              "      <th>V307</th>\n",
              "      <th>V308</th>\n",
              "      <th>V309</th>\n",
              "      <th>V310</th>\n",
              "      <th>V311</th>\n",
              "      <th>V312</th>\n",
              "      <th>V313</th>\n",
              "      <th>V314</th>\n",
              "      <th>V315</th>\n",
              "      <th>V316</th>\n",
              "      <th>V317</th>\n",
              "      <th>V318</th>\n",
              "      <th>V319</th>\n",
              "      <th>V320</th>\n",
              "      <th>V321</th>\n",
              "      <th>V322</th>\n",
              "      <th>V323</th>\n",
              "      <th>V324</th>\n",
              "      <th>V325</th>\n",
              "      <th>V326</th>\n",
              "      <th>V327</th>\n",
              "      <th>V328</th>\n",
              "      <th>V329</th>\n",
              "      <th>V330</th>\n",
              "      <th>V331</th>\n",
              "      <th>V332</th>\n",
              "      <th>V333</th>\n",
              "      <th>V334</th>\n",
              "      <th>V335</th>\n",
              "      <th>V336</th>\n",
              "      <th>V337</th>\n",
              "      <th>V338</th>\n",
              "      <th>V339</th>\n",
              "    </tr>\n",
              "  </thead>\n",
              "  <tbody>\n",
              "    <tr>\n",
              "      <th>0</th>\n",
              "      <td>2987000</td>\n",
              "      <td>0</td>\n",
              "      <td>86400</td>\n",
              "      <td>68.5</td>\n",
              "      <td>W</td>\n",
              "      <td>13926</td>\n",
              "      <td>NaN</td>\n",
              "      <td>150.0</td>\n",
              "      <td>discover</td>\n",
              "      <td>142.0</td>\n",
              "      <td>credit</td>\n",
              "      <td>315.0</td>\n",
              "      <td>87.0</td>\n",
              "      <td>19.0</td>\n",
              "      <td>NaN</td>\n",
              "      <td>NaN</td>\n",
              "      <td>NaN</td>\n",
              "      <td>1.0</td>\n",
              "      <td>1.0</td>\n",
              "      <td>0.0</td>\n",
              "      <td>0.0</td>\n",
              "      <td>0.0</td>\n",
              "      <td>1.0</td>\n",
              "      <td>0.0</td>\n",
              "      <td>0.0</td>\n",
              "      <td>1.0</td>\n",
              "      <td>0.0</td>\n",
              "      <td>2.0</td>\n",
              "      <td>0.0</td>\n",
              "      <td>1.0</td>\n",
              "      <td>1.0</td>\n",
              "      <td>14.0</td>\n",
              "      <td>NaN</td>\n",
              "      <td>13.0</td>\n",
              "      <td>NaN</td>\n",
              "      <td>NaN</td>\n",
              "      <td>NaN</td>\n",
              "      <td>NaN</td>\n",
              "      <td>NaN</td>\n",
              "      <td>NaN</td>\n",
              "      <td>...</td>\n",
              "      <td>0.0</td>\n",
              "      <td>0.0</td>\n",
              "      <td>0.0</td>\n",
              "      <td>0.0</td>\n",
              "      <td>0.0</td>\n",
              "      <td>1.0</td>\n",
              "      <td>0.0</td>\n",
              "      <td>117.0</td>\n",
              "      <td>0.0</td>\n",
              "      <td>0.0</td>\n",
              "      <td>0.0</td>\n",
              "      <td>0.0</td>\n",
              "      <td>0.0</td>\n",
              "      <td>0.0</td>\n",
              "      <td>0.0</td>\n",
              "      <td>0.0</td>\n",
              "      <td>0.0</td>\n",
              "      <td>117.0</td>\n",
              "      <td>0.0</td>\n",
              "      <td>0.0</td>\n",
              "      <td>0.0</td>\n",
              "      <td>0.0</td>\n",
              "      <td>NaN</td>\n",
              "      <td>NaN</td>\n",
              "      <td>NaN</td>\n",
              "      <td>NaN</td>\n",
              "      <td>NaN</td>\n",
              "      <td>NaN</td>\n",
              "      <td>NaN</td>\n",
              "      <td>NaN</td>\n",
              "      <td>NaN</td>\n",
              "      <td>NaN</td>\n",
              "      <td>NaN</td>\n",
              "      <td>NaN</td>\n",
              "      <td>NaN</td>\n",
              "      <td>NaN</td>\n",
              "      <td>NaN</td>\n",
              "      <td>NaN</td>\n",
              "      <td>NaN</td>\n",
              "      <td>NaN</td>\n",
              "    </tr>\n",
              "    <tr>\n",
              "      <th>1</th>\n",
              "      <td>2987001</td>\n",
              "      <td>0</td>\n",
              "      <td>86401</td>\n",
              "      <td>29.0</td>\n",
              "      <td>W</td>\n",
              "      <td>2755</td>\n",
              "      <td>404.0</td>\n",
              "      <td>150.0</td>\n",
              "      <td>mastercard</td>\n",
              "      <td>102.0</td>\n",
              "      <td>credit</td>\n",
              "      <td>325.0</td>\n",
              "      <td>87.0</td>\n",
              "      <td>NaN</td>\n",
              "      <td>NaN</td>\n",
              "      <td>gmail.com</td>\n",
              "      <td>NaN</td>\n",
              "      <td>1.0</td>\n",
              "      <td>1.0</td>\n",
              "      <td>0.0</td>\n",
              "      <td>0.0</td>\n",
              "      <td>0.0</td>\n",
              "      <td>1.0</td>\n",
              "      <td>0.0</td>\n",
              "      <td>0.0</td>\n",
              "      <td>0.0</td>\n",
              "      <td>0.0</td>\n",
              "      <td>1.0</td>\n",
              "      <td>0.0</td>\n",
              "      <td>1.0</td>\n",
              "      <td>1.0</td>\n",
              "      <td>0.0</td>\n",
              "      <td>NaN</td>\n",
              "      <td>NaN</td>\n",
              "      <td>0.0</td>\n",
              "      <td>NaN</td>\n",
              "      <td>NaN</td>\n",
              "      <td>NaN</td>\n",
              "      <td>NaN</td>\n",
              "      <td>NaN</td>\n",
              "      <td>...</td>\n",
              "      <td>0.0</td>\n",
              "      <td>0.0</td>\n",
              "      <td>0.0</td>\n",
              "      <td>0.0</td>\n",
              "      <td>0.0</td>\n",
              "      <td>1.0</td>\n",
              "      <td>0.0</td>\n",
              "      <td>0.0</td>\n",
              "      <td>0.0</td>\n",
              "      <td>0.0</td>\n",
              "      <td>0.0</td>\n",
              "      <td>0.0</td>\n",
              "      <td>0.0</td>\n",
              "      <td>0.0</td>\n",
              "      <td>0.0</td>\n",
              "      <td>0.0</td>\n",
              "      <td>0.0</td>\n",
              "      <td>0.0</td>\n",
              "      <td>0.0</td>\n",
              "      <td>0.0</td>\n",
              "      <td>0.0</td>\n",
              "      <td>0.0</td>\n",
              "      <td>NaN</td>\n",
              "      <td>NaN</td>\n",
              "      <td>NaN</td>\n",
              "      <td>NaN</td>\n",
              "      <td>NaN</td>\n",
              "      <td>NaN</td>\n",
              "      <td>NaN</td>\n",
              "      <td>NaN</td>\n",
              "      <td>NaN</td>\n",
              "      <td>NaN</td>\n",
              "      <td>NaN</td>\n",
              "      <td>NaN</td>\n",
              "      <td>NaN</td>\n",
              "      <td>NaN</td>\n",
              "      <td>NaN</td>\n",
              "      <td>NaN</td>\n",
              "      <td>NaN</td>\n",
              "      <td>NaN</td>\n",
              "    </tr>\n",
              "  </tbody>\n",
              "</table>\n",
              "<p>2 rows × 394 columns</p>\n",
              "</div>"
            ],
            "text/plain": [
              "   TransactionID  isFraud  TransactionDT  ...  V337 V338  V339\n",
              "0        2987000        0          86400  ...   NaN  NaN   NaN\n",
              "1        2987001        0          86401  ...   NaN  NaN   NaN\n",
              "\n",
              "[2 rows x 394 columns]"
            ]
          },
          "metadata": {
            "tags": []
          },
          "execution_count": 4
        }
      ]
    },
    {
      "cell_type": "code",
      "metadata": {
        "id": "w8rHOv9duhB7"
      },
      "source": [
        "Y = train.isFraud\n",
        "X = train.drop(['isFraud'], axis=1)"
      ],
      "execution_count": 5,
      "outputs": []
    },
    {
      "cell_type": "code",
      "metadata": {
        "colab": {
          "base_uri": "https://localhost:8080/"
        },
        "id": "7n447bPFwGRO",
        "outputId": "5b646a4a-b7ef-42fd-8e79-5b5d8e6b1e6f"
      },
      "source": [
        "print('Датасет состоит из {} строк и {} столбцов'.format(*X.shape))"
      ],
      "execution_count": 6,
      "outputs": [
        {
          "output_type": "stream",
          "text": [
            "Датасет состоит из 180000 строк и 393 столбцов\n"
          ],
          "name": "stdout"
        }
      ]
    },
    {
      "cell_type": "code",
      "metadata": {
        "id": "F1NfJvg43vR7"
      },
      "source": [
        "# Категориальные признаки переводим в category для возможности обработки категориальных признаков lightgbm\n",
        "X_category = X.select_dtypes(include=[np.object])\n",
        "\n",
        "for c in X_category:\n",
        "  X[c] = X[c].astype('category')"
      ],
      "execution_count": 7,
      "outputs": []
    },
    {
      "cell_type": "code",
      "metadata": {
        "colab": {
          "base_uri": "https://localhost:8080/",
          "height": 156
        },
        "id": "uU6w_8WH0U04",
        "outputId": "69c8f053-94cd-49ab-c043-641822fdae11"
      },
      "source": [
        "X.head(2)"
      ],
      "execution_count": 8,
      "outputs": [
        {
          "output_type": "execute_result",
          "data": {
            "text/html": [
              "<div>\n",
              "<style scoped>\n",
              "    .dataframe tbody tr th:only-of-type {\n",
              "        vertical-align: middle;\n",
              "    }\n",
              "\n",
              "    .dataframe tbody tr th {\n",
              "        vertical-align: top;\n",
              "    }\n",
              "\n",
              "    .dataframe thead th {\n",
              "        text-align: right;\n",
              "    }\n",
              "</style>\n",
              "<table border=\"1\" class=\"dataframe\">\n",
              "  <thead>\n",
              "    <tr style=\"text-align: right;\">\n",
              "      <th></th>\n",
              "      <th>TransactionID</th>\n",
              "      <th>TransactionDT</th>\n",
              "      <th>TransactionAmt</th>\n",
              "      <th>ProductCD</th>\n",
              "      <th>card1</th>\n",
              "      <th>card2</th>\n",
              "      <th>card3</th>\n",
              "      <th>card4</th>\n",
              "      <th>card5</th>\n",
              "      <th>card6</th>\n",
              "      <th>addr1</th>\n",
              "      <th>addr2</th>\n",
              "      <th>dist1</th>\n",
              "      <th>dist2</th>\n",
              "      <th>P_emaildomain</th>\n",
              "      <th>R_emaildomain</th>\n",
              "      <th>C1</th>\n",
              "      <th>C2</th>\n",
              "      <th>C3</th>\n",
              "      <th>C4</th>\n",
              "      <th>C5</th>\n",
              "      <th>C6</th>\n",
              "      <th>C7</th>\n",
              "      <th>C8</th>\n",
              "      <th>C9</th>\n",
              "      <th>C10</th>\n",
              "      <th>C11</th>\n",
              "      <th>C12</th>\n",
              "      <th>C13</th>\n",
              "      <th>C14</th>\n",
              "      <th>D1</th>\n",
              "      <th>D2</th>\n",
              "      <th>D3</th>\n",
              "      <th>D4</th>\n",
              "      <th>D5</th>\n",
              "      <th>D6</th>\n",
              "      <th>D7</th>\n",
              "      <th>D8</th>\n",
              "      <th>D9</th>\n",
              "      <th>D10</th>\n",
              "      <th>...</th>\n",
              "      <th>V300</th>\n",
              "      <th>V301</th>\n",
              "      <th>V302</th>\n",
              "      <th>V303</th>\n",
              "      <th>V304</th>\n",
              "      <th>V305</th>\n",
              "      <th>V306</th>\n",
              "      <th>V307</th>\n",
              "      <th>V308</th>\n",
              "      <th>V309</th>\n",
              "      <th>V310</th>\n",
              "      <th>V311</th>\n",
              "      <th>V312</th>\n",
              "      <th>V313</th>\n",
              "      <th>V314</th>\n",
              "      <th>V315</th>\n",
              "      <th>V316</th>\n",
              "      <th>V317</th>\n",
              "      <th>V318</th>\n",
              "      <th>V319</th>\n",
              "      <th>V320</th>\n",
              "      <th>V321</th>\n",
              "      <th>V322</th>\n",
              "      <th>V323</th>\n",
              "      <th>V324</th>\n",
              "      <th>V325</th>\n",
              "      <th>V326</th>\n",
              "      <th>V327</th>\n",
              "      <th>V328</th>\n",
              "      <th>V329</th>\n",
              "      <th>V330</th>\n",
              "      <th>V331</th>\n",
              "      <th>V332</th>\n",
              "      <th>V333</th>\n",
              "      <th>V334</th>\n",
              "      <th>V335</th>\n",
              "      <th>V336</th>\n",
              "      <th>V337</th>\n",
              "      <th>V338</th>\n",
              "      <th>V339</th>\n",
              "    </tr>\n",
              "  </thead>\n",
              "  <tbody>\n",
              "    <tr>\n",
              "      <th>0</th>\n",
              "      <td>2987000</td>\n",
              "      <td>86400</td>\n",
              "      <td>68.5</td>\n",
              "      <td>W</td>\n",
              "      <td>13926</td>\n",
              "      <td>NaN</td>\n",
              "      <td>150.0</td>\n",
              "      <td>discover</td>\n",
              "      <td>142.0</td>\n",
              "      <td>credit</td>\n",
              "      <td>315.0</td>\n",
              "      <td>87.0</td>\n",
              "      <td>19.0</td>\n",
              "      <td>NaN</td>\n",
              "      <td>NaN</td>\n",
              "      <td>NaN</td>\n",
              "      <td>1.0</td>\n",
              "      <td>1.0</td>\n",
              "      <td>0.0</td>\n",
              "      <td>0.0</td>\n",
              "      <td>0.0</td>\n",
              "      <td>1.0</td>\n",
              "      <td>0.0</td>\n",
              "      <td>0.0</td>\n",
              "      <td>1.0</td>\n",
              "      <td>0.0</td>\n",
              "      <td>2.0</td>\n",
              "      <td>0.0</td>\n",
              "      <td>1.0</td>\n",
              "      <td>1.0</td>\n",
              "      <td>14.0</td>\n",
              "      <td>NaN</td>\n",
              "      <td>13.0</td>\n",
              "      <td>NaN</td>\n",
              "      <td>NaN</td>\n",
              "      <td>NaN</td>\n",
              "      <td>NaN</td>\n",
              "      <td>NaN</td>\n",
              "      <td>NaN</td>\n",
              "      <td>13.0</td>\n",
              "      <td>...</td>\n",
              "      <td>0.0</td>\n",
              "      <td>0.0</td>\n",
              "      <td>0.0</td>\n",
              "      <td>0.0</td>\n",
              "      <td>0.0</td>\n",
              "      <td>1.0</td>\n",
              "      <td>0.0</td>\n",
              "      <td>117.0</td>\n",
              "      <td>0.0</td>\n",
              "      <td>0.0</td>\n",
              "      <td>0.0</td>\n",
              "      <td>0.0</td>\n",
              "      <td>0.0</td>\n",
              "      <td>0.0</td>\n",
              "      <td>0.0</td>\n",
              "      <td>0.0</td>\n",
              "      <td>0.0</td>\n",
              "      <td>117.0</td>\n",
              "      <td>0.0</td>\n",
              "      <td>0.0</td>\n",
              "      <td>0.0</td>\n",
              "      <td>0.0</td>\n",
              "      <td>NaN</td>\n",
              "      <td>NaN</td>\n",
              "      <td>NaN</td>\n",
              "      <td>NaN</td>\n",
              "      <td>NaN</td>\n",
              "      <td>NaN</td>\n",
              "      <td>NaN</td>\n",
              "      <td>NaN</td>\n",
              "      <td>NaN</td>\n",
              "      <td>NaN</td>\n",
              "      <td>NaN</td>\n",
              "      <td>NaN</td>\n",
              "      <td>NaN</td>\n",
              "      <td>NaN</td>\n",
              "      <td>NaN</td>\n",
              "      <td>NaN</td>\n",
              "      <td>NaN</td>\n",
              "      <td>NaN</td>\n",
              "    </tr>\n",
              "    <tr>\n",
              "      <th>1</th>\n",
              "      <td>2987001</td>\n",
              "      <td>86401</td>\n",
              "      <td>29.0</td>\n",
              "      <td>W</td>\n",
              "      <td>2755</td>\n",
              "      <td>404.0</td>\n",
              "      <td>150.0</td>\n",
              "      <td>mastercard</td>\n",
              "      <td>102.0</td>\n",
              "      <td>credit</td>\n",
              "      <td>325.0</td>\n",
              "      <td>87.0</td>\n",
              "      <td>NaN</td>\n",
              "      <td>NaN</td>\n",
              "      <td>gmail.com</td>\n",
              "      <td>NaN</td>\n",
              "      <td>1.0</td>\n",
              "      <td>1.0</td>\n",
              "      <td>0.0</td>\n",
              "      <td>0.0</td>\n",
              "      <td>0.0</td>\n",
              "      <td>1.0</td>\n",
              "      <td>0.0</td>\n",
              "      <td>0.0</td>\n",
              "      <td>0.0</td>\n",
              "      <td>0.0</td>\n",
              "      <td>1.0</td>\n",
              "      <td>0.0</td>\n",
              "      <td>1.0</td>\n",
              "      <td>1.0</td>\n",
              "      <td>0.0</td>\n",
              "      <td>NaN</td>\n",
              "      <td>NaN</td>\n",
              "      <td>0.0</td>\n",
              "      <td>NaN</td>\n",
              "      <td>NaN</td>\n",
              "      <td>NaN</td>\n",
              "      <td>NaN</td>\n",
              "      <td>NaN</td>\n",
              "      <td>0.0</td>\n",
              "      <td>...</td>\n",
              "      <td>0.0</td>\n",
              "      <td>0.0</td>\n",
              "      <td>0.0</td>\n",
              "      <td>0.0</td>\n",
              "      <td>0.0</td>\n",
              "      <td>1.0</td>\n",
              "      <td>0.0</td>\n",
              "      <td>0.0</td>\n",
              "      <td>0.0</td>\n",
              "      <td>0.0</td>\n",
              "      <td>0.0</td>\n",
              "      <td>0.0</td>\n",
              "      <td>0.0</td>\n",
              "      <td>0.0</td>\n",
              "      <td>0.0</td>\n",
              "      <td>0.0</td>\n",
              "      <td>0.0</td>\n",
              "      <td>0.0</td>\n",
              "      <td>0.0</td>\n",
              "      <td>0.0</td>\n",
              "      <td>0.0</td>\n",
              "      <td>0.0</td>\n",
              "      <td>NaN</td>\n",
              "      <td>NaN</td>\n",
              "      <td>NaN</td>\n",
              "      <td>NaN</td>\n",
              "      <td>NaN</td>\n",
              "      <td>NaN</td>\n",
              "      <td>NaN</td>\n",
              "      <td>NaN</td>\n",
              "      <td>NaN</td>\n",
              "      <td>NaN</td>\n",
              "      <td>NaN</td>\n",
              "      <td>NaN</td>\n",
              "      <td>NaN</td>\n",
              "      <td>NaN</td>\n",
              "      <td>NaN</td>\n",
              "      <td>NaN</td>\n",
              "      <td>NaN</td>\n",
              "      <td>NaN</td>\n",
              "    </tr>\n",
              "  </tbody>\n",
              "</table>\n",
              "<p>2 rows × 393 columns</p>\n",
              "</div>"
            ],
            "text/plain": [
              "   TransactionID  TransactionDT  TransactionAmt  ... V337  V338  V339\n",
              "0        2987000          86400            68.5  ...  NaN   NaN   NaN\n",
              "1        2987001          86401            29.0  ...  NaN   NaN   NaN\n",
              "\n",
              "[2 rows x 393 columns]"
            ]
          },
          "metadata": {
            "tags": []
          },
          "execution_count": 8
        }
      ]
    },
    {
      "cell_type": "code",
      "metadata": {
        "colab": {
          "base_uri": "https://localhost:8080/",
          "height": 156
        },
        "id": "vVma2D-s05IG",
        "outputId": "5513882a-3923-4c3b-ab64-042bd8257cb6"
      },
      "source": [
        "X.head(2)"
      ],
      "execution_count": 9,
      "outputs": [
        {
          "output_type": "execute_result",
          "data": {
            "text/html": [
              "<div>\n",
              "<style scoped>\n",
              "    .dataframe tbody tr th:only-of-type {\n",
              "        vertical-align: middle;\n",
              "    }\n",
              "\n",
              "    .dataframe tbody tr th {\n",
              "        vertical-align: top;\n",
              "    }\n",
              "\n",
              "    .dataframe thead th {\n",
              "        text-align: right;\n",
              "    }\n",
              "</style>\n",
              "<table border=\"1\" class=\"dataframe\">\n",
              "  <thead>\n",
              "    <tr style=\"text-align: right;\">\n",
              "      <th></th>\n",
              "      <th>TransactionID</th>\n",
              "      <th>TransactionDT</th>\n",
              "      <th>TransactionAmt</th>\n",
              "      <th>ProductCD</th>\n",
              "      <th>card1</th>\n",
              "      <th>card2</th>\n",
              "      <th>card3</th>\n",
              "      <th>card4</th>\n",
              "      <th>card5</th>\n",
              "      <th>card6</th>\n",
              "      <th>addr1</th>\n",
              "      <th>addr2</th>\n",
              "      <th>dist1</th>\n",
              "      <th>dist2</th>\n",
              "      <th>P_emaildomain</th>\n",
              "      <th>R_emaildomain</th>\n",
              "      <th>C1</th>\n",
              "      <th>C2</th>\n",
              "      <th>C3</th>\n",
              "      <th>C4</th>\n",
              "      <th>C5</th>\n",
              "      <th>C6</th>\n",
              "      <th>C7</th>\n",
              "      <th>C8</th>\n",
              "      <th>C9</th>\n",
              "      <th>C10</th>\n",
              "      <th>C11</th>\n",
              "      <th>C12</th>\n",
              "      <th>C13</th>\n",
              "      <th>C14</th>\n",
              "      <th>D1</th>\n",
              "      <th>D2</th>\n",
              "      <th>D3</th>\n",
              "      <th>D4</th>\n",
              "      <th>D5</th>\n",
              "      <th>D6</th>\n",
              "      <th>D7</th>\n",
              "      <th>D8</th>\n",
              "      <th>D9</th>\n",
              "      <th>D10</th>\n",
              "      <th>...</th>\n",
              "      <th>V300</th>\n",
              "      <th>V301</th>\n",
              "      <th>V302</th>\n",
              "      <th>V303</th>\n",
              "      <th>V304</th>\n",
              "      <th>V305</th>\n",
              "      <th>V306</th>\n",
              "      <th>V307</th>\n",
              "      <th>V308</th>\n",
              "      <th>V309</th>\n",
              "      <th>V310</th>\n",
              "      <th>V311</th>\n",
              "      <th>V312</th>\n",
              "      <th>V313</th>\n",
              "      <th>V314</th>\n",
              "      <th>V315</th>\n",
              "      <th>V316</th>\n",
              "      <th>V317</th>\n",
              "      <th>V318</th>\n",
              "      <th>V319</th>\n",
              "      <th>V320</th>\n",
              "      <th>V321</th>\n",
              "      <th>V322</th>\n",
              "      <th>V323</th>\n",
              "      <th>V324</th>\n",
              "      <th>V325</th>\n",
              "      <th>V326</th>\n",
              "      <th>V327</th>\n",
              "      <th>V328</th>\n",
              "      <th>V329</th>\n",
              "      <th>V330</th>\n",
              "      <th>V331</th>\n",
              "      <th>V332</th>\n",
              "      <th>V333</th>\n",
              "      <th>V334</th>\n",
              "      <th>V335</th>\n",
              "      <th>V336</th>\n",
              "      <th>V337</th>\n",
              "      <th>V338</th>\n",
              "      <th>V339</th>\n",
              "    </tr>\n",
              "  </thead>\n",
              "  <tbody>\n",
              "    <tr>\n",
              "      <th>0</th>\n",
              "      <td>2987000</td>\n",
              "      <td>86400</td>\n",
              "      <td>68.5</td>\n",
              "      <td>W</td>\n",
              "      <td>13926</td>\n",
              "      <td>NaN</td>\n",
              "      <td>150.0</td>\n",
              "      <td>discover</td>\n",
              "      <td>142.0</td>\n",
              "      <td>credit</td>\n",
              "      <td>315.0</td>\n",
              "      <td>87.0</td>\n",
              "      <td>19.0</td>\n",
              "      <td>NaN</td>\n",
              "      <td>NaN</td>\n",
              "      <td>NaN</td>\n",
              "      <td>1.0</td>\n",
              "      <td>1.0</td>\n",
              "      <td>0.0</td>\n",
              "      <td>0.0</td>\n",
              "      <td>0.0</td>\n",
              "      <td>1.0</td>\n",
              "      <td>0.0</td>\n",
              "      <td>0.0</td>\n",
              "      <td>1.0</td>\n",
              "      <td>0.0</td>\n",
              "      <td>2.0</td>\n",
              "      <td>0.0</td>\n",
              "      <td>1.0</td>\n",
              "      <td>1.0</td>\n",
              "      <td>14.0</td>\n",
              "      <td>NaN</td>\n",
              "      <td>13.0</td>\n",
              "      <td>NaN</td>\n",
              "      <td>NaN</td>\n",
              "      <td>NaN</td>\n",
              "      <td>NaN</td>\n",
              "      <td>NaN</td>\n",
              "      <td>NaN</td>\n",
              "      <td>13.0</td>\n",
              "      <td>...</td>\n",
              "      <td>0.0</td>\n",
              "      <td>0.0</td>\n",
              "      <td>0.0</td>\n",
              "      <td>0.0</td>\n",
              "      <td>0.0</td>\n",
              "      <td>1.0</td>\n",
              "      <td>0.0</td>\n",
              "      <td>117.0</td>\n",
              "      <td>0.0</td>\n",
              "      <td>0.0</td>\n",
              "      <td>0.0</td>\n",
              "      <td>0.0</td>\n",
              "      <td>0.0</td>\n",
              "      <td>0.0</td>\n",
              "      <td>0.0</td>\n",
              "      <td>0.0</td>\n",
              "      <td>0.0</td>\n",
              "      <td>117.0</td>\n",
              "      <td>0.0</td>\n",
              "      <td>0.0</td>\n",
              "      <td>0.0</td>\n",
              "      <td>0.0</td>\n",
              "      <td>NaN</td>\n",
              "      <td>NaN</td>\n",
              "      <td>NaN</td>\n",
              "      <td>NaN</td>\n",
              "      <td>NaN</td>\n",
              "      <td>NaN</td>\n",
              "      <td>NaN</td>\n",
              "      <td>NaN</td>\n",
              "      <td>NaN</td>\n",
              "      <td>NaN</td>\n",
              "      <td>NaN</td>\n",
              "      <td>NaN</td>\n",
              "      <td>NaN</td>\n",
              "      <td>NaN</td>\n",
              "      <td>NaN</td>\n",
              "      <td>NaN</td>\n",
              "      <td>NaN</td>\n",
              "      <td>NaN</td>\n",
              "    </tr>\n",
              "    <tr>\n",
              "      <th>1</th>\n",
              "      <td>2987001</td>\n",
              "      <td>86401</td>\n",
              "      <td>29.0</td>\n",
              "      <td>W</td>\n",
              "      <td>2755</td>\n",
              "      <td>404.0</td>\n",
              "      <td>150.0</td>\n",
              "      <td>mastercard</td>\n",
              "      <td>102.0</td>\n",
              "      <td>credit</td>\n",
              "      <td>325.0</td>\n",
              "      <td>87.0</td>\n",
              "      <td>NaN</td>\n",
              "      <td>NaN</td>\n",
              "      <td>gmail.com</td>\n",
              "      <td>NaN</td>\n",
              "      <td>1.0</td>\n",
              "      <td>1.0</td>\n",
              "      <td>0.0</td>\n",
              "      <td>0.0</td>\n",
              "      <td>0.0</td>\n",
              "      <td>1.0</td>\n",
              "      <td>0.0</td>\n",
              "      <td>0.0</td>\n",
              "      <td>0.0</td>\n",
              "      <td>0.0</td>\n",
              "      <td>1.0</td>\n",
              "      <td>0.0</td>\n",
              "      <td>1.0</td>\n",
              "      <td>1.0</td>\n",
              "      <td>0.0</td>\n",
              "      <td>NaN</td>\n",
              "      <td>NaN</td>\n",
              "      <td>0.0</td>\n",
              "      <td>NaN</td>\n",
              "      <td>NaN</td>\n",
              "      <td>NaN</td>\n",
              "      <td>NaN</td>\n",
              "      <td>NaN</td>\n",
              "      <td>0.0</td>\n",
              "      <td>...</td>\n",
              "      <td>0.0</td>\n",
              "      <td>0.0</td>\n",
              "      <td>0.0</td>\n",
              "      <td>0.0</td>\n",
              "      <td>0.0</td>\n",
              "      <td>1.0</td>\n",
              "      <td>0.0</td>\n",
              "      <td>0.0</td>\n",
              "      <td>0.0</td>\n",
              "      <td>0.0</td>\n",
              "      <td>0.0</td>\n",
              "      <td>0.0</td>\n",
              "      <td>0.0</td>\n",
              "      <td>0.0</td>\n",
              "      <td>0.0</td>\n",
              "      <td>0.0</td>\n",
              "      <td>0.0</td>\n",
              "      <td>0.0</td>\n",
              "      <td>0.0</td>\n",
              "      <td>0.0</td>\n",
              "      <td>0.0</td>\n",
              "      <td>0.0</td>\n",
              "      <td>NaN</td>\n",
              "      <td>NaN</td>\n",
              "      <td>NaN</td>\n",
              "      <td>NaN</td>\n",
              "      <td>NaN</td>\n",
              "      <td>NaN</td>\n",
              "      <td>NaN</td>\n",
              "      <td>NaN</td>\n",
              "      <td>NaN</td>\n",
              "      <td>NaN</td>\n",
              "      <td>NaN</td>\n",
              "      <td>NaN</td>\n",
              "      <td>NaN</td>\n",
              "      <td>NaN</td>\n",
              "      <td>NaN</td>\n",
              "      <td>NaN</td>\n",
              "      <td>NaN</td>\n",
              "      <td>NaN</td>\n",
              "    </tr>\n",
              "  </tbody>\n",
              "</table>\n",
              "<p>2 rows × 393 columns</p>\n",
              "</div>"
            ],
            "text/plain": [
              "   TransactionID  TransactionDT  TransactionAmt  ... V337  V338  V339\n",
              "0        2987000          86400            68.5  ...  NaN   NaN   NaN\n",
              "1        2987001          86401            29.0  ...  NaN   NaN   NaN\n",
              "\n",
              "[2 rows x 393 columns]"
            ]
          },
          "metadata": {
            "tags": []
          },
          "execution_count": 9
        }
      ]
    },
    {
      "cell_type": "code",
      "metadata": {
        "id": "mALj3ubLys6u"
      },
      "source": [
        "params = {\n",
        "    \"boosting_type\": \"gbdt\",\n",
        "    \"objective\": \"binary\",\n",
        "    \"metric\": \"auc\",\n",
        "    \"learning_rate\": 0.01,\n",
        "    \"n_estimators\": 50,\n",
        "    \"n_jobs\": 6,\n",
        "    \"seed\": 27\n",
        "}"
      ],
      "execution_count": 10,
      "outputs": []
    },
    {
      "cell_type": "code",
      "metadata": {
        "colab": {
          "base_uri": "https://localhost:8080/"
        },
        "id": "L7qXstbYbyS1",
        "outputId": "a144ed29-e7b7-42d0-b7a7-8435107cb69f"
      },
      "source": [
        "x_train, x_valid = train_test_split(X,train_size=0.7,shuffle=True,random_state = 1,)\n",
        "y_train, y_valid = train_test_split(Y, train_size=0.7, shuffle=True, random_state=1,)\n",
        "dtrain = lgb.Dataset(data=x_train, label=y_train)\n",
        "dvalid = lgb.Dataset(data=x_valid, label=y_valid)\n",
        "\n",
        "model = lgb.train(\n",
        "      params=params,\n",
        "      train_set=dtrain,\n",
        "      num_boost_round=200,\n",
        "      valid_sets=[dtrain, dvalid],\n",
        "      categorical_feature=\"auto\",\n",
        "      early_stopping_rounds=50,\n",
        "      verbose_eval=10\n",
        "        )\n",
        "  \n"
      ],
      "execution_count": 11,
      "outputs": [
        {
          "output_type": "stream",
          "text": [
            "Training until validation scores don't improve for 50 rounds.\n",
            "[10]\ttraining's auc: 0.835413\tvalid_1's auc: 0.829611\n",
            "[20]\ttraining's auc: 0.851371\tvalid_1's auc: 0.842652\n",
            "[30]\ttraining's auc: 0.871352\tvalid_1's auc: 0.862668\n",
            "[40]\ttraining's auc: 0.879627\tvalid_1's auc: 0.868971\n",
            "[50]\ttraining's auc: 0.885162\tvalid_1's auc: 0.873931\n",
            "Did not meet early stopping. Best iteration is:\n",
            "[50]\ttraining's auc: 0.885162\tvalid_1's auc: 0.873931\n"
          ],
          "name": "stdout"
        }
      ]
    },
    {
      "cell_type": "code",
      "metadata": {
        "id": "sI-GLABUfju3"
      },
      "source": [
        "liderboard_score = roc_auc_score(Y, model.predict(X))"
      ],
      "execution_count": 12,
      "outputs": []
    },
    {
      "cell_type": "code",
      "metadata": {
        "colab": {
          "base_uri": "https://localhost:8080/"
        },
        "id": "F_ERZ_NUgpdo",
        "outputId": "2297a060-65d7-4dc0-8b98-3d506040d19a"
      },
      "source": [
        "liderboard_score"
      ],
      "execution_count": 13,
      "outputs": [
        {
          "output_type": "execute_result",
          "data": {
            "text/plain": [
              "0.8818524334607714"
            ]
          },
          "metadata": {
            "tags": []
          },
          "execution_count": 13
        }
      ]
    },
    {
      "cell_type": "code",
      "metadata": {
        "colab": {
          "base_uri": "https://localhost:8080/"
        },
        "id": "NbECcLO5BWWq",
        "outputId": "918ad61c-4f9e-477a-ce9d-0643ad8df5f4"
      },
      "source": [
        "train_score = roc_auc_score(y_train, model.predict(x_train))\n",
        "valid_score = roc_auc_score(y_valid, model.predict(x_valid))\n",
        "\n",
        "print(f\"Train-score: {round(train_score, 3)}, Valid-score: {round(valid_score, 3)}, Liderboard_score: {round(liderboard_score, 3)}\")"
      ],
      "execution_count": 14,
      "outputs": [
        {
          "output_type": "stream",
          "text": [
            "Train-score: 0.885, Valid-score: 0.874, Liderboard_score: 0.882\n"
          ],
          "name": "stdout"
        }
      ]
    },
    {
      "cell_type": "markdown",
      "metadata": {
        "id": "V6X9lpKyu_5x"
      },
      "source": [
        "## Задание 1: признак TransactionDT - это смещение в секундах относительно базовой даты. Базовая дата - 2017-12-01, преобразовать признак TransactionDT в datetime, прибавив к базовой дате исходное значение признака. Из полученного признака выделить год, месяц, день недели, час, день."
      ]
    },
    {
      "cell_type": "code",
      "metadata": {
        "id": "MJN7BywOja9H"
      },
      "source": [
        "import datetime"
      ],
      "execution_count": 15,
      "outputs": []
    },
    {
      "cell_type": "code",
      "metadata": {
        "id": "9OnxjQMojgMI"
      },
      "source": [
        "base_date = datetime.date(2017,12,1)"
      ],
      "execution_count": 16,
      "outputs": []
    },
    {
      "cell_type": "code",
      "metadata": {
        "colab": {
          "base_uri": "https://localhost:8080/"
        },
        "id": "v15nMj66mmX1",
        "outputId": "5b9b9c57-338b-4deb-c8a7-4a524aaeb4ff"
      },
      "source": [
        "base_date"
      ],
      "execution_count": 17,
      "outputs": [
        {
          "output_type": "execute_result",
          "data": {
            "text/plain": [
              "datetime.date(2017, 12, 1)"
            ]
          },
          "metadata": {
            "tags": []
          },
          "execution_count": 17
        }
      ]
    },
    {
      "cell_type": "code",
      "metadata": {
        "id": "-31ufNSGbItO"
      },
      "source": [
        "X['TransactionDT_datetime'] = pd.to_datetime(X['TransactionDT'].apply(lambda x: base_date - datetime.timedelta(seconds=x)))"
      ],
      "execution_count": 18,
      "outputs": []
    },
    {
      "cell_type": "code",
      "metadata": {
        "id": "tLkTLPj8miMa"
      },
      "source": [
        "X['year'], X['month'], X['day'] = X['TransactionDT_datetime'].dt.year,\\\n",
        "                         X['TransactionDT_datetime'].dt.month, X['TransactionDT_datetime'].dt.day"
      ],
      "execution_count": 19,
      "outputs": []
    },
    {
      "cell_type": "code",
      "metadata": {
        "colab": {
          "base_uri": "https://localhost:8080/",
          "height": 107
        },
        "id": "j0nZqdfmpvhX",
        "outputId": "6d704c57-a737-4ef6-a4c3-42f0d08fabd8"
      },
      "source": [
        "X[['year', 'month', 'day']].head(2)"
      ],
      "execution_count": 20,
      "outputs": [
        {
          "output_type": "execute_result",
          "data": {
            "text/html": [
              "<div>\n",
              "<style scoped>\n",
              "    .dataframe tbody tr th:only-of-type {\n",
              "        vertical-align: middle;\n",
              "    }\n",
              "\n",
              "    .dataframe tbody tr th {\n",
              "        vertical-align: top;\n",
              "    }\n",
              "\n",
              "    .dataframe thead th {\n",
              "        text-align: right;\n",
              "    }\n",
              "</style>\n",
              "<table border=\"1\" class=\"dataframe\">\n",
              "  <thead>\n",
              "    <tr style=\"text-align: right;\">\n",
              "      <th></th>\n",
              "      <th>year</th>\n",
              "      <th>month</th>\n",
              "      <th>day</th>\n",
              "    </tr>\n",
              "  </thead>\n",
              "  <tbody>\n",
              "    <tr>\n",
              "      <th>0</th>\n",
              "      <td>2017</td>\n",
              "      <td>11</td>\n",
              "      <td>30</td>\n",
              "    </tr>\n",
              "    <tr>\n",
              "      <th>1</th>\n",
              "      <td>2017</td>\n",
              "      <td>11</td>\n",
              "      <td>30</td>\n",
              "    </tr>\n",
              "  </tbody>\n",
              "</table>\n",
              "</div>"
            ],
            "text/plain": [
              "   year  month  day\n",
              "0  2017     11   30\n",
              "1  2017     11   30"
            ]
          },
          "metadata": {
            "tags": []
          },
          "execution_count": 20
        }
      ]
    },
    {
      "cell_type": "code",
      "metadata": {
        "id": "gfgJRqgpsrT2"
      },
      "source": [
        "for c in X[['year', 'month', 'day']]:\n",
        "    X[c] = X[c].astype('category')"
      ],
      "execution_count": 21,
      "outputs": []
    },
    {
      "cell_type": "code",
      "metadata": {
        "id": "zN-EFkDR4Iwv"
      },
      "source": [
        "X = X.drop(['TransactionDT_datetime', 'TransactionDT'],axis=1)"
      ],
      "execution_count": 22,
      "outputs": []
    },
    {
      "cell_type": "code",
      "metadata": {
        "colab": {
          "base_uri": "https://localhost:8080/"
        },
        "id": "6t3jv5eBqM4m",
        "outputId": "64d1ea5d-9c84-481a-fbb1-abb772c83b33"
      },
      "source": [
        "x_train1, x_valid1 = train_test_split(X, train_size=0.7, shuffle=True, random_state=1,)\n",
        "y_train1, y_valid1 = train_test_split(Y, train_size=0.7, shuffle=True, random_state=1,)\n",
        "dtrain1 = lgb.Dataset(data=x_train1, label=y_train1)\n",
        "dvalid1 = lgb.Dataset(data=x_valid1, label=y_valid1)\n",
        "\n",
        "model1 = lgb.train(\n",
        "      params=params,\n",
        "      train_set=dtrain1,\n",
        "      num_boost_round=200,\n",
        "      valid_sets=[dtrain1, dvalid1],\n",
        "      categorical_feature=\"auto\",\n",
        "      early_stopping_rounds=50,\n",
        "      verbose_eval=10,\n",
        "        )\n"
      ],
      "execution_count": 23,
      "outputs": [
        {
          "output_type": "stream",
          "text": [
            "Training until validation scores don't improve for 50 rounds.\n",
            "[10]\ttraining's auc: 0.835413\tvalid_1's auc: 0.829611\n",
            "[20]\ttraining's auc: 0.85137\tvalid_1's auc: 0.842652\n",
            "[30]\ttraining's auc: 0.871406\tvalid_1's auc: 0.862735\n",
            "[40]\ttraining's auc: 0.880225\tvalid_1's auc: 0.869378\n",
            "[50]\ttraining's auc: 0.8855\tvalid_1's auc: 0.874277\n",
            "Did not meet early stopping. Best iteration is:\n",
            "[50]\ttraining's auc: 0.8855\tvalid_1's auc: 0.874277\n"
          ],
          "name": "stdout"
        }
      ]
    },
    {
      "cell_type": "code",
      "metadata": {
        "id": "4SKl98ykuOtS"
      },
      "source": [
        "liderboard_score1 = roc_auc_score(Y, model1.predict(X))\n",
        "train_score1 = roc_auc_score(y_train1, model1.predict(x_train1))\n",
        "valid_score1 = roc_auc_score(y_valid1, model1.predict(x_valid1))"
      ],
      "execution_count": 24,
      "outputs": []
    },
    {
      "cell_type": "markdown",
      "metadata": {
        "id": "PsWd_p9Uu2g1"
      },
      "source": [
        "### Задание 2: сделать конкатенацию признаков\n",
        "* card1 + card2;\n",
        "* card1 + card2 + card_3 + card_5;\n",
        "* card1 + card2 + card_3 + card_5 + addr1 + addr2\n",
        "\n",
        "Рассматривать их как категориальных признаки."
      ]
    },
    {
      "cell_type": "code",
      "metadata": {
        "id": "D9KRet2NvkWy"
      },
      "source": [
        "X['card1_2']=X['card1']+X['card2']\n",
        "X['card1_2'] =X['card1_2'].astype('category')"
      ],
      "execution_count": 25,
      "outputs": []
    },
    {
      "cell_type": "markdown",
      "metadata": {
        "id": "5LihCNcMDx40"
      },
      "source": [
        "Если необходимо сконкатенировать просто имена, то можно использовать код ниже."
      ]
    },
    {
      "cell_type": "code",
      "metadata": {
        "id": "5WF8C8qNDlXc"
      },
      "source": [
        "# X['card1_2']=X['card1'].astype(np.str)+'_'+X['card2'].astype(np.str)\n",
        "# X['card1_2'] = X['card1_2'].astype('category')"
      ],
      "execution_count": 26,
      "outputs": []
    },
    {
      "cell_type": "code",
      "metadata": {
        "colab": {
          "base_uri": "https://localhost:8080/"
        },
        "id": "bpDK6ik0Cguk",
        "outputId": "e3087955-724f-4889-b155-74ff4f3f6f43"
      },
      "source": [
        "X['card1_2']"
      ],
      "execution_count": 27,
      "outputs": [
        {
          "output_type": "execute_result",
          "data": {
            "text/plain": [
              "0             NaN\n",
              "1          3159.0\n",
              "2          5153.0\n",
              "3         18699.0\n",
              "4          5011.0\n",
              "           ...   \n",
              "179995     2187.0\n",
              "179996    10589.0\n",
              "179997     6175.0\n",
              "179998     8281.0\n",
              "179999    18008.0\n",
              "Name: card1_2, Length: 180000, dtype: category\n",
              "Categories (7534, float64): [1134.0, 1149.0, 1187.0, 1309.0, ..., 18938.0, 18940.0, 18943.0, 18948.0]"
            ]
          },
          "metadata": {
            "tags": []
          },
          "execution_count": 27
        }
      ]
    },
    {
      "cell_type": "code",
      "metadata": {
        "id": "vwC6g1EsvrSy"
      },
      "source": [
        "X['card1_2_3_5']=X['card1']+X['card2']+X['card3']+X['card5']\n",
        "X['card1_2_3_5'] = X['card1_2_3_5'].astype('category')"
      ],
      "execution_count": 28,
      "outputs": []
    },
    {
      "cell_type": "code",
      "metadata": {
        "id": "8JIceGSpzpQN"
      },
      "source": [
        "X['card1_2_3_5_addr1_2']=X['card1']+X['card2']+X['card3']+X['card5']+X['addr1']+X['addr2']\n",
        "X['card1_2_3_5_addr1_2'] = X['card1_2_3_5_addr1_2'].astype('category')"
      ],
      "execution_count": 29,
      "outputs": []
    },
    {
      "cell_type": "code",
      "metadata": {
        "colab": {
          "base_uri": "https://localhost:8080/"
        },
        "id": "LovtzNYi0bs9",
        "outputId": "cef50b79-9561-4e1e-c697-770579505f1e"
      },
      "source": [
        "x_train2, x_valid2 = train_test_split(X,train_size=0.7,shuffle=True,random_state = 1,)\n",
        "y_train2, y_valid2 = train_test_split(Y,train_size=0.7, shuffle=True, random_state=1,)\n",
        "dtrain2 = lgb.Dataset(data=x_train2, label=y_train2)\n",
        "dvalid2 = lgb.Dataset(data=x_valid2, label=y_valid2)\n",
        "\n",
        "model2 = lgb.train(\n",
        "      params=params,\n",
        "      train_set=dtrain2,\n",
        "      num_boost_round=200,\n",
        "      valid_sets=[dtrain2, dvalid2],\n",
        "      categorical_feature=\"auto\",\n",
        "      early_stopping_rounds=50,\n",
        "      verbose_eval=10\n",
        "        )\n"
      ],
      "execution_count": 30,
      "outputs": [
        {
          "output_type": "stream",
          "text": [
            "Training until validation scores don't improve for 50 rounds.\n",
            "[10]\ttraining's auc: 0.865399\tvalid_1's auc: 0.836636\n",
            "[20]\ttraining's auc: 0.88348\tvalid_1's auc: 0.85006\n",
            "[30]\ttraining's auc: 0.900615\tvalid_1's auc: 0.865745\n",
            "[40]\ttraining's auc: 0.907189\tvalid_1's auc: 0.871459\n",
            "[50]\ttraining's auc: 0.914394\tvalid_1's auc: 0.877471\n",
            "Did not meet early stopping. Best iteration is:\n",
            "[50]\ttraining's auc: 0.914394\tvalid_1's auc: 0.877471\n"
          ],
          "name": "stdout"
        }
      ]
    },
    {
      "cell_type": "code",
      "metadata": {
        "id": "BP-gedHS2aL3"
      },
      "source": [
        "liderboard_score2 = roc_auc_score(Y, model2.predict(X))\n",
        "train_score2 = roc_auc_score(y_train2, model2.predict(x_train2))\n",
        "valid_score2 = roc_auc_score(y_valid2, model2.predict(x_valid2))"
      ],
      "execution_count": 31,
      "outputs": []
    },
    {
      "cell_type": "markdown",
      "metadata": {
        "id": "AP661_0j5El2"
      },
      "source": [
        "### Задание 3: Сделать FrequencyEncoder для признаков card1 - card6, addr1, addr2."
      ]
    },
    {
      "cell_type": "code",
      "metadata": {
        "id": "wW3r5NQv5Vzi"
      },
      "source": [
        "def frequency_encoder(X, features):\n",
        "    X = X.copy()\n",
        "    for f in features:\n",
        "        name = f'{f}_frequency'\n",
        "        print(name)\n",
        "        X[name] = X[f].map(X[f].value_counts(normalize=True))\n",
        "    return X\n"
      ],
      "execution_count": 32,
      "outputs": []
    },
    {
      "cell_type": "code",
      "metadata": {
        "id": "5YSMeazFIb60"
      },
      "source": [
        "features = ['card1', 'card2','card3','card4','card5','card6', 'addr1', 'addr2']"
      ],
      "execution_count": 33,
      "outputs": []
    },
    {
      "cell_type": "code",
      "metadata": {
        "colab": {
          "base_uri": "https://localhost:8080/"
        },
        "id": "VphMfBg-LYE-",
        "outputId": "fc153b34-e7d6-4758-eee0-f85e234352a3"
      },
      "source": [
        "X = frequency_encoder(X, features)\n"
      ],
      "execution_count": 34,
      "outputs": [
        {
          "output_type": "stream",
          "text": [
            "card1_frequency\n",
            "card2_frequency\n",
            "card3_frequency\n",
            "card4_frequency\n",
            "card5_frequency\n",
            "card6_frequency\n",
            "addr1_frequency\n",
            "addr2_frequency\n"
          ],
          "name": "stdout"
        }
      ]
    },
    {
      "cell_type": "code",
      "metadata": {
        "colab": {
          "base_uri": "https://localhost:8080/",
          "height": 246
        },
        "id": "jf7jy03uYD4u",
        "outputId": "359cc088-ef61-4198-9cf4-e0e7d2294035"
      },
      "source": [
        "X.head()"
      ],
      "execution_count": 35,
      "outputs": [
        {
          "output_type": "execute_result",
          "data": {
            "text/html": [
              "<div>\n",
              "<style scoped>\n",
              "    .dataframe tbody tr th:only-of-type {\n",
              "        vertical-align: middle;\n",
              "    }\n",
              "\n",
              "    .dataframe tbody tr th {\n",
              "        vertical-align: top;\n",
              "    }\n",
              "\n",
              "    .dataframe thead th {\n",
              "        text-align: right;\n",
              "    }\n",
              "</style>\n",
              "<table border=\"1\" class=\"dataframe\">\n",
              "  <thead>\n",
              "    <tr style=\"text-align: right;\">\n",
              "      <th></th>\n",
              "      <th>TransactionID</th>\n",
              "      <th>TransactionAmt</th>\n",
              "      <th>ProductCD</th>\n",
              "      <th>card1</th>\n",
              "      <th>card2</th>\n",
              "      <th>card3</th>\n",
              "      <th>card4</th>\n",
              "      <th>card5</th>\n",
              "      <th>card6</th>\n",
              "      <th>addr1</th>\n",
              "      <th>addr2</th>\n",
              "      <th>dist1</th>\n",
              "      <th>dist2</th>\n",
              "      <th>P_emaildomain</th>\n",
              "      <th>R_emaildomain</th>\n",
              "      <th>C1</th>\n",
              "      <th>C2</th>\n",
              "      <th>C3</th>\n",
              "      <th>C4</th>\n",
              "      <th>C5</th>\n",
              "      <th>C6</th>\n",
              "      <th>C7</th>\n",
              "      <th>C8</th>\n",
              "      <th>C9</th>\n",
              "      <th>C10</th>\n",
              "      <th>C11</th>\n",
              "      <th>C12</th>\n",
              "      <th>C13</th>\n",
              "      <th>C14</th>\n",
              "      <th>D1</th>\n",
              "      <th>D2</th>\n",
              "      <th>D3</th>\n",
              "      <th>D4</th>\n",
              "      <th>D5</th>\n",
              "      <th>D6</th>\n",
              "      <th>D7</th>\n",
              "      <th>D8</th>\n",
              "      <th>D9</th>\n",
              "      <th>D10</th>\n",
              "      <th>D11</th>\n",
              "      <th>...</th>\n",
              "      <th>V314</th>\n",
              "      <th>V315</th>\n",
              "      <th>V316</th>\n",
              "      <th>V317</th>\n",
              "      <th>V318</th>\n",
              "      <th>V319</th>\n",
              "      <th>V320</th>\n",
              "      <th>V321</th>\n",
              "      <th>V322</th>\n",
              "      <th>V323</th>\n",
              "      <th>V324</th>\n",
              "      <th>V325</th>\n",
              "      <th>V326</th>\n",
              "      <th>V327</th>\n",
              "      <th>V328</th>\n",
              "      <th>V329</th>\n",
              "      <th>V330</th>\n",
              "      <th>V331</th>\n",
              "      <th>V332</th>\n",
              "      <th>V333</th>\n",
              "      <th>V334</th>\n",
              "      <th>V335</th>\n",
              "      <th>V336</th>\n",
              "      <th>V337</th>\n",
              "      <th>V338</th>\n",
              "      <th>V339</th>\n",
              "      <th>year</th>\n",
              "      <th>month</th>\n",
              "      <th>day</th>\n",
              "      <th>card1_2</th>\n",
              "      <th>card1_2_3_5</th>\n",
              "      <th>card1_2_3_5_addr1_2</th>\n",
              "      <th>card1_frequency</th>\n",
              "      <th>card2_frequency</th>\n",
              "      <th>card3_frequency</th>\n",
              "      <th>card4_frequency</th>\n",
              "      <th>card5_frequency</th>\n",
              "      <th>card6_frequency</th>\n",
              "      <th>addr1_frequency</th>\n",
              "      <th>addr2_frequency</th>\n",
              "    </tr>\n",
              "  </thead>\n",
              "  <tbody>\n",
              "    <tr>\n",
              "      <th>0</th>\n",
              "      <td>2987000</td>\n",
              "      <td>68.5</td>\n",
              "      <td>W</td>\n",
              "      <td>13926</td>\n",
              "      <td>NaN</td>\n",
              "      <td>150.0</td>\n",
              "      <td>discover</td>\n",
              "      <td>142.0</td>\n",
              "      <td>credit</td>\n",
              "      <td>315.0</td>\n",
              "      <td>87.0</td>\n",
              "      <td>19.0</td>\n",
              "      <td>NaN</td>\n",
              "      <td>NaN</td>\n",
              "      <td>NaN</td>\n",
              "      <td>1.0</td>\n",
              "      <td>1.0</td>\n",
              "      <td>0.0</td>\n",
              "      <td>0.0</td>\n",
              "      <td>0.0</td>\n",
              "      <td>1.0</td>\n",
              "      <td>0.0</td>\n",
              "      <td>0.0</td>\n",
              "      <td>1.0</td>\n",
              "      <td>0.0</td>\n",
              "      <td>2.0</td>\n",
              "      <td>0.0</td>\n",
              "      <td>1.0</td>\n",
              "      <td>1.0</td>\n",
              "      <td>14.0</td>\n",
              "      <td>NaN</td>\n",
              "      <td>13.0</td>\n",
              "      <td>NaN</td>\n",
              "      <td>NaN</td>\n",
              "      <td>NaN</td>\n",
              "      <td>NaN</td>\n",
              "      <td>NaN</td>\n",
              "      <td>NaN</td>\n",
              "      <td>13.0</td>\n",
              "      <td>13.0</td>\n",
              "      <td>...</td>\n",
              "      <td>0.0</td>\n",
              "      <td>0.0</td>\n",
              "      <td>0.0</td>\n",
              "      <td>117.0</td>\n",
              "      <td>0.0</td>\n",
              "      <td>0.0</td>\n",
              "      <td>0.0</td>\n",
              "      <td>0.0</td>\n",
              "      <td>NaN</td>\n",
              "      <td>NaN</td>\n",
              "      <td>NaN</td>\n",
              "      <td>NaN</td>\n",
              "      <td>NaN</td>\n",
              "      <td>NaN</td>\n",
              "      <td>NaN</td>\n",
              "      <td>NaN</td>\n",
              "      <td>NaN</td>\n",
              "      <td>NaN</td>\n",
              "      <td>NaN</td>\n",
              "      <td>NaN</td>\n",
              "      <td>NaN</td>\n",
              "      <td>NaN</td>\n",
              "      <td>NaN</td>\n",
              "      <td>NaN</td>\n",
              "      <td>NaN</td>\n",
              "      <td>NaN</td>\n",
              "      <td>2017</td>\n",
              "      <td>11</td>\n",
              "      <td>30</td>\n",
              "      <td>NaN</td>\n",
              "      <td>NaN</td>\n",
              "      <td>NaN</td>\n",
              "      <td>0.000061</td>\n",
              "      <td>NaN</td>\n",
              "      <td>0.879737</td>\n",
              "      <td>0.013212</td>\n",
              "      <td>0.000274</td>\n",
              "      <td>0.317951</td>\n",
              "      <td>0.042773</td>\n",
              "      <td>0.982344</td>\n",
              "    </tr>\n",
              "    <tr>\n",
              "      <th>1</th>\n",
              "      <td>2987001</td>\n",
              "      <td>29.0</td>\n",
              "      <td>W</td>\n",
              "      <td>2755</td>\n",
              "      <td>404.0</td>\n",
              "      <td>150.0</td>\n",
              "      <td>mastercard</td>\n",
              "      <td>102.0</td>\n",
              "      <td>credit</td>\n",
              "      <td>325.0</td>\n",
              "      <td>87.0</td>\n",
              "      <td>NaN</td>\n",
              "      <td>NaN</td>\n",
              "      <td>gmail.com</td>\n",
              "      <td>NaN</td>\n",
              "      <td>1.0</td>\n",
              "      <td>1.0</td>\n",
              "      <td>0.0</td>\n",
              "      <td>0.0</td>\n",
              "      <td>0.0</td>\n",
              "      <td>1.0</td>\n",
              "      <td>0.0</td>\n",
              "      <td>0.0</td>\n",
              "      <td>0.0</td>\n",
              "      <td>0.0</td>\n",
              "      <td>1.0</td>\n",
              "      <td>0.0</td>\n",
              "      <td>1.0</td>\n",
              "      <td>1.0</td>\n",
              "      <td>0.0</td>\n",
              "      <td>NaN</td>\n",
              "      <td>NaN</td>\n",
              "      <td>0.0</td>\n",
              "      <td>NaN</td>\n",
              "      <td>NaN</td>\n",
              "      <td>NaN</td>\n",
              "      <td>NaN</td>\n",
              "      <td>NaN</td>\n",
              "      <td>0.0</td>\n",
              "      <td>NaN</td>\n",
              "      <td>...</td>\n",
              "      <td>0.0</td>\n",
              "      <td>0.0</td>\n",
              "      <td>0.0</td>\n",
              "      <td>0.0</td>\n",
              "      <td>0.0</td>\n",
              "      <td>0.0</td>\n",
              "      <td>0.0</td>\n",
              "      <td>0.0</td>\n",
              "      <td>NaN</td>\n",
              "      <td>NaN</td>\n",
              "      <td>NaN</td>\n",
              "      <td>NaN</td>\n",
              "      <td>NaN</td>\n",
              "      <td>NaN</td>\n",
              "      <td>NaN</td>\n",
              "      <td>NaN</td>\n",
              "      <td>NaN</td>\n",
              "      <td>NaN</td>\n",
              "      <td>NaN</td>\n",
              "      <td>NaN</td>\n",
              "      <td>NaN</td>\n",
              "      <td>NaN</td>\n",
              "      <td>NaN</td>\n",
              "      <td>NaN</td>\n",
              "      <td>NaN</td>\n",
              "      <td>NaN</td>\n",
              "      <td>2017</td>\n",
              "      <td>11</td>\n",
              "      <td>30</td>\n",
              "      <td>3159.0</td>\n",
              "      <td>3411.0</td>\n",
              "      <td>3823.0</td>\n",
              "      <td>0.001244</td>\n",
              "      <td>0.006855</td>\n",
              "      <td>0.879737</td>\n",
              "      <td>0.302797</td>\n",
              "      <td>0.054723</td>\n",
              "      <td>0.317951</td>\n",
              "      <td>0.080004</td>\n",
              "      <td>0.982344</td>\n",
              "    </tr>\n",
              "    <tr>\n",
              "      <th>2</th>\n",
              "      <td>2987002</td>\n",
              "      <td>59.0</td>\n",
              "      <td>W</td>\n",
              "      <td>4663</td>\n",
              "      <td>490.0</td>\n",
              "      <td>150.0</td>\n",
              "      <td>visa</td>\n",
              "      <td>166.0</td>\n",
              "      <td>debit</td>\n",
              "      <td>330.0</td>\n",
              "      <td>87.0</td>\n",
              "      <td>287.0</td>\n",
              "      <td>NaN</td>\n",
              "      <td>outlook.com</td>\n",
              "      <td>NaN</td>\n",
              "      <td>1.0</td>\n",
              "      <td>1.0</td>\n",
              "      <td>0.0</td>\n",
              "      <td>0.0</td>\n",
              "      <td>0.0</td>\n",
              "      <td>1.0</td>\n",
              "      <td>0.0</td>\n",
              "      <td>0.0</td>\n",
              "      <td>1.0</td>\n",
              "      <td>0.0</td>\n",
              "      <td>1.0</td>\n",
              "      <td>0.0</td>\n",
              "      <td>1.0</td>\n",
              "      <td>1.0</td>\n",
              "      <td>0.0</td>\n",
              "      <td>NaN</td>\n",
              "      <td>NaN</td>\n",
              "      <td>0.0</td>\n",
              "      <td>NaN</td>\n",
              "      <td>NaN</td>\n",
              "      <td>NaN</td>\n",
              "      <td>NaN</td>\n",
              "      <td>NaN</td>\n",
              "      <td>0.0</td>\n",
              "      <td>315.0</td>\n",
              "      <td>...</td>\n",
              "      <td>0.0</td>\n",
              "      <td>0.0</td>\n",
              "      <td>0.0</td>\n",
              "      <td>0.0</td>\n",
              "      <td>0.0</td>\n",
              "      <td>0.0</td>\n",
              "      <td>0.0</td>\n",
              "      <td>0.0</td>\n",
              "      <td>NaN</td>\n",
              "      <td>NaN</td>\n",
              "      <td>NaN</td>\n",
              "      <td>NaN</td>\n",
              "      <td>NaN</td>\n",
              "      <td>NaN</td>\n",
              "      <td>NaN</td>\n",
              "      <td>NaN</td>\n",
              "      <td>NaN</td>\n",
              "      <td>NaN</td>\n",
              "      <td>NaN</td>\n",
              "      <td>NaN</td>\n",
              "      <td>NaN</td>\n",
              "      <td>NaN</td>\n",
              "      <td>NaN</td>\n",
              "      <td>NaN</td>\n",
              "      <td>NaN</td>\n",
              "      <td>NaN</td>\n",
              "      <td>2017</td>\n",
              "      <td>11</td>\n",
              "      <td>30</td>\n",
              "      <td>5153.0</td>\n",
              "      <td>5469.0</td>\n",
              "      <td>5886.0</td>\n",
              "      <td>0.001428</td>\n",
              "      <td>0.061413</td>\n",
              "      <td>0.879737</td>\n",
              "      <td>0.657224</td>\n",
              "      <td>0.080269</td>\n",
              "      <td>0.681949</td>\n",
              "      <td>0.046205</td>\n",
              "      <td>0.982344</td>\n",
              "    </tr>\n",
              "    <tr>\n",
              "      <th>3</th>\n",
              "      <td>2987003</td>\n",
              "      <td>50.0</td>\n",
              "      <td>W</td>\n",
              "      <td>18132</td>\n",
              "      <td>567.0</td>\n",
              "      <td>150.0</td>\n",
              "      <td>mastercard</td>\n",
              "      <td>117.0</td>\n",
              "      <td>debit</td>\n",
              "      <td>476.0</td>\n",
              "      <td>87.0</td>\n",
              "      <td>NaN</td>\n",
              "      <td>NaN</td>\n",
              "      <td>yahoo.com</td>\n",
              "      <td>NaN</td>\n",
              "      <td>2.0</td>\n",
              "      <td>5.0</td>\n",
              "      <td>0.0</td>\n",
              "      <td>0.0</td>\n",
              "      <td>0.0</td>\n",
              "      <td>4.0</td>\n",
              "      <td>0.0</td>\n",
              "      <td>0.0</td>\n",
              "      <td>1.0</td>\n",
              "      <td>0.0</td>\n",
              "      <td>1.0</td>\n",
              "      <td>0.0</td>\n",
              "      <td>25.0</td>\n",
              "      <td>1.0</td>\n",
              "      <td>112.0</td>\n",
              "      <td>112.0</td>\n",
              "      <td>0.0</td>\n",
              "      <td>94.0</td>\n",
              "      <td>0.0</td>\n",
              "      <td>NaN</td>\n",
              "      <td>NaN</td>\n",
              "      <td>NaN</td>\n",
              "      <td>NaN</td>\n",
              "      <td>84.0</td>\n",
              "      <td>NaN</td>\n",
              "      <td>...</td>\n",
              "      <td>0.0</td>\n",
              "      <td>0.0</td>\n",
              "      <td>50.0</td>\n",
              "      <td>1404.0</td>\n",
              "      <td>790.0</td>\n",
              "      <td>0.0</td>\n",
              "      <td>0.0</td>\n",
              "      <td>0.0</td>\n",
              "      <td>NaN</td>\n",
              "      <td>NaN</td>\n",
              "      <td>NaN</td>\n",
              "      <td>NaN</td>\n",
              "      <td>NaN</td>\n",
              "      <td>NaN</td>\n",
              "      <td>NaN</td>\n",
              "      <td>NaN</td>\n",
              "      <td>NaN</td>\n",
              "      <td>NaN</td>\n",
              "      <td>NaN</td>\n",
              "      <td>NaN</td>\n",
              "      <td>NaN</td>\n",
              "      <td>NaN</td>\n",
              "      <td>NaN</td>\n",
              "      <td>NaN</td>\n",
              "      <td>NaN</td>\n",
              "      <td>NaN</td>\n",
              "      <td>2017</td>\n",
              "      <td>11</td>\n",
              "      <td>30</td>\n",
              "      <td>18699.0</td>\n",
              "      <td>18966.0</td>\n",
              "      <td>19529.0</td>\n",
              "      <td>0.006600</td>\n",
              "      <td>0.010012</td>\n",
              "      <td>0.879737</td>\n",
              "      <td>0.302797</td>\n",
              "      <td>0.037303</td>\n",
              "      <td>0.681949</td>\n",
              "      <td>0.017276</td>\n",
              "      <td>0.982344</td>\n",
              "    </tr>\n",
              "    <tr>\n",
              "      <th>4</th>\n",
              "      <td>2987004</td>\n",
              "      <td>50.0</td>\n",
              "      <td>H</td>\n",
              "      <td>4497</td>\n",
              "      <td>514.0</td>\n",
              "      <td>150.0</td>\n",
              "      <td>mastercard</td>\n",
              "      <td>102.0</td>\n",
              "      <td>credit</td>\n",
              "      <td>420.0</td>\n",
              "      <td>87.0</td>\n",
              "      <td>NaN</td>\n",
              "      <td>NaN</td>\n",
              "      <td>gmail.com</td>\n",
              "      <td>NaN</td>\n",
              "      <td>1.0</td>\n",
              "      <td>1.0</td>\n",
              "      <td>0.0</td>\n",
              "      <td>0.0</td>\n",
              "      <td>0.0</td>\n",
              "      <td>1.0</td>\n",
              "      <td>0.0</td>\n",
              "      <td>1.0</td>\n",
              "      <td>0.0</td>\n",
              "      <td>1.0</td>\n",
              "      <td>1.0</td>\n",
              "      <td>0.0</td>\n",
              "      <td>1.0</td>\n",
              "      <td>1.0</td>\n",
              "      <td>0.0</td>\n",
              "      <td>NaN</td>\n",
              "      <td>NaN</td>\n",
              "      <td>NaN</td>\n",
              "      <td>NaN</td>\n",
              "      <td>NaN</td>\n",
              "      <td>NaN</td>\n",
              "      <td>NaN</td>\n",
              "      <td>NaN</td>\n",
              "      <td>NaN</td>\n",
              "      <td>NaN</td>\n",
              "      <td>...</td>\n",
              "      <td>0.0</td>\n",
              "      <td>0.0</td>\n",
              "      <td>0.0</td>\n",
              "      <td>0.0</td>\n",
              "      <td>0.0</td>\n",
              "      <td>0.0</td>\n",
              "      <td>0.0</td>\n",
              "      <td>0.0</td>\n",
              "      <td>0.0</td>\n",
              "      <td>0.0</td>\n",
              "      <td>0.0</td>\n",
              "      <td>0.0</td>\n",
              "      <td>0.0</td>\n",
              "      <td>0.0</td>\n",
              "      <td>0.0</td>\n",
              "      <td>0.0</td>\n",
              "      <td>0.0</td>\n",
              "      <td>0.0</td>\n",
              "      <td>0.0</td>\n",
              "      <td>0.0</td>\n",
              "      <td>0.0</td>\n",
              "      <td>0.0</td>\n",
              "      <td>0.0</td>\n",
              "      <td>0.0</td>\n",
              "      <td>0.0</td>\n",
              "      <td>0.0</td>\n",
              "      <td>2017</td>\n",
              "      <td>11</td>\n",
              "      <td>30</td>\n",
              "      <td>5011.0</td>\n",
              "      <td>5263.0</td>\n",
              "      <td>5770.0</td>\n",
              "      <td>0.000011</td>\n",
              "      <td>0.030836</td>\n",
              "      <td>0.879737</td>\n",
              "      <td>0.302797</td>\n",
              "      <td>0.054723</td>\n",
              "      <td>0.317951</td>\n",
              "      <td>0.007810</td>\n",
              "      <td>0.982344</td>\n",
              "    </tr>\n",
              "  </tbody>\n",
              "</table>\n",
              "<p>5 rows × 406 columns</p>\n",
              "</div>"
            ],
            "text/plain": [
              "   TransactionID  TransactionAmt  ... addr1_frequency  addr2_frequency\n",
              "0        2987000            68.5  ...        0.042773         0.982344\n",
              "1        2987001            29.0  ...        0.080004         0.982344\n",
              "2        2987002            59.0  ...        0.046205         0.982344\n",
              "3        2987003            50.0  ...        0.017276         0.982344\n",
              "4        2987004            50.0  ...        0.007810         0.982344\n",
              "\n",
              "[5 rows x 406 columns]"
            ]
          },
          "metadata": {
            "tags": []
          },
          "execution_count": 35
        }
      ]
    },
    {
      "cell_type": "code",
      "metadata": {
        "colab": {
          "base_uri": "https://localhost:8080/"
        },
        "id": "IlVbgeRlEY1o",
        "outputId": "ebdff565-d6d4-4a1f-8502-9a5b645b2a64"
      },
      "source": [
        "x_train3, x_valid3 = train_test_split(X,train_size=0.7,shuffle=True,random_state = 1,)\n",
        "y_train3, y_valid3 = train_test_split(Y,train_size=0.7, shuffle=True, random_state=1,)\n",
        "dtrain3 = lgb.Dataset(data=x_train3, label=y_train3)\n",
        "dvalid3 = lgb.Dataset(data=x_valid3, label=y_valid3)\n",
        "\n",
        "model3 = lgb.train(\n",
        "      params=params,\n",
        "      train_set=dtrain3,\n",
        "      num_boost_round=200,\n",
        "      valid_sets=[dtrain3, dvalid3],\n",
        "      categorical_feature=\"auto\",\n",
        "      early_stopping_rounds=50,\n",
        "      verbose_eval=10\n",
        "        )\n"
      ],
      "execution_count": 36,
      "outputs": [
        {
          "output_type": "stream",
          "text": [
            "Training until validation scores don't improve for 50 rounds.\n",
            "[10]\ttraining's auc: 0.862731\tvalid_1's auc: 0.835382\n",
            "[20]\ttraining's auc: 0.88699\tvalid_1's auc: 0.852141\n",
            "[30]\ttraining's auc: 0.900816\tvalid_1's auc: 0.865044\n",
            "[40]\ttraining's auc: 0.907569\tvalid_1's auc: 0.873397\n",
            "[50]\ttraining's auc: 0.917337\tvalid_1's auc: 0.881773\n",
            "Did not meet early stopping. Best iteration is:\n",
            "[50]\ttraining's auc: 0.917337\tvalid_1's auc: 0.881773\n"
          ],
          "name": "stdout"
        }
      ]
    },
    {
      "cell_type": "code",
      "metadata": {
        "id": "uWj3f4BscIaY"
      },
      "source": [
        "liderboard_score3 = roc_auc_score(Y, model3.predict(X))\n",
        "train_score3 = roc_auc_score(y_train3, model3.predict(x_train3))\n",
        "valid_score3 = roc_auc_score(y_valid3, model3.predict(x_valid3))"
      ],
      "execution_count": 38,
      "outputs": []
    },
    {
      "cell_type": "markdown",
      "metadata": {
        "id": "lny5SzKH5Kvd"
      },
      "source": [
        "### Задание 4: Создать признаки на основе отношения: TransactionAmt к вычисленной статистике. Статистика - среднее значение / стандартное отклонение TransactionAmt, сгруппированное по card1 - card6, addr1, addr2, и по признакам, созданным в задании 2."
      ]
    },
    {
      "cell_type": "code",
      "metadata": {
        "id": "booGvNtLNMr9"
      },
      "source": [
        "features = ['card1', 'card2','card3','card4','card5','card6', 'addr1', 'addr2','card1_2_3_5','card1_2','card1_2_3_5_addr1_2']"
      ],
      "execution_count": 39,
      "outputs": []
    },
    {
      "cell_type": "code",
      "metadata": {
        "id": "FbnmWgCXNYsj"
      },
      "source": [
        "def std_features(x,features):\n",
        "    for f in features:\n",
        "        name = f'{f}_Std'\n",
        "        X[name] = X[f].map(X.groupby([f])['TransactionAmt'].std())\n",
        "        return X\n",
        "\n",
        "def mean_features(x,features):\n",
        "    for f in features:\n",
        "        name = f'{f}_Mean'\n",
        "        X[name] = X[f].map(X.groupby([f])['TransactionAmt'].mean())\n",
        "        return X\n"
      ],
      "execution_count": 40,
      "outputs": []
    },
    {
      "cell_type": "code",
      "metadata": {
        "id": "dFGOsl30PxUg"
      },
      "source": [
        "X = std_features(X, features)\n",
        "X = mean_features(X, features)"
      ],
      "execution_count": 41,
      "outputs": []
    },
    {
      "cell_type": "markdown",
      "metadata": {
        "id": "84MOt0xvbyyB"
      },
      "source": [
        "Just to check"
      ]
    },
    {
      "cell_type": "code",
      "metadata": {
        "colab": {
          "base_uri": "https://localhost:8080/"
        },
        "id": "02cD9nzOMvmg",
        "outputId": "8d6a10ca-a41c-4e84-c750-2e3ca1517a4e"
      },
      "source": [
        "X['card1_Mean']"
      ],
      "execution_count": 42,
      "outputs": [
        {
          "output_type": "execute_result",
          "data": {
            "text/plain": [
              "0         193.227273\n",
              "1         229.588080\n",
              "2          88.574163\n",
              "3         112.887660\n",
              "4          40.000000\n",
              "             ...    \n",
              "179995     58.534000\n",
              "179996    146.116966\n",
              "179997    166.518073\n",
              "179998     49.400000\n",
              "179999    238.074385\n",
              "Name: card1_Mean, Length: 180000, dtype: float64"
            ]
          },
          "metadata": {
            "tags": []
          },
          "execution_count": 42
        }
      ]
    },
    {
      "cell_type": "code",
      "metadata": {
        "colab": {
          "base_uri": "https://localhost:8080/"
        },
        "id": "rDBD95fLb2ee",
        "outputId": "9c9303a0-2410-4332-c110-2181c4a1df95"
      },
      "source": [
        "x_train4, x_valid4 = train_test_split(X,train_size=0.7,shuffle=True,random_state = 1,)\n",
        "y_train4, y_valid4 = train_test_split(Y,train_size=0.7, shuffle=True, random_state=1,)\n",
        "dtrain4 = lgb.Dataset(data=x_train4, label=y_train4)\n",
        "dvalid4 = lgb.Dataset(data=x_valid4, label=y_valid4)\n",
        "\n",
        "model4 = lgb.train(\n",
        "      params=params,\n",
        "      train_set=dtrain4,\n",
        "      num_boost_round=200,\n",
        "      valid_sets=[dtrain4, dvalid4],\n",
        "      categorical_feature=\"auto\",\n",
        "      early_stopping_rounds=50,\n",
        "      verbose_eval=10\n",
        "        )\n"
      ],
      "execution_count": 43,
      "outputs": [
        {
          "output_type": "stream",
          "text": [
            "Training until validation scores don't improve for 50 rounds.\n",
            "[10]\ttraining's auc: 0.862731\tvalid_1's auc: 0.835382\n",
            "[20]\ttraining's auc: 0.885446\tvalid_1's auc: 0.851243\n",
            "[30]\ttraining's auc: 0.900488\tvalid_1's auc: 0.864626\n",
            "[40]\ttraining's auc: 0.905145\tvalid_1's auc: 0.870206\n",
            "[50]\ttraining's auc: 0.914813\tvalid_1's auc: 0.87863\n",
            "Did not meet early stopping. Best iteration is:\n",
            "[50]\ttraining's auc: 0.914813\tvalid_1's auc: 0.87863\n"
          ],
          "name": "stdout"
        }
      ]
    },
    {
      "cell_type": "code",
      "metadata": {
        "id": "UXwruRIPc3eK"
      },
      "source": [
        "liderboard_score4 = roc_auc_score(Y, model4.predict(X))\n"
      ],
      "execution_count": 44,
      "outputs": []
    },
    {
      "cell_type": "code",
      "metadata": {
        "id": "ZJHy6tQqcOeU"
      },
      "source": [
        "train_score4 = roc_auc_score(y_train4, model4.predict(x_train4))\n",
        "valid_score4 = roc_auc_score(y_valid4, model4.predict(x_valid4))"
      ],
      "execution_count": 45,
      "outputs": []
    },
    {
      "cell_type": "markdown",
      "metadata": {
        "id": "OW4K_1Kd5cRl"
      },
      "source": [
        "### Задание 5: Создать признаки на основе отношения: D15 к вычисленной статистике. Статистика - среднее значение / стандартное отклонение D15, сгруппированное по card1 - card6, addr1, addr2, и по признакам, созданным в задании 2."
      ]
    },
    {
      "cell_type": "code",
      "metadata": {
        "id": "_XXRfOC1ScID"
      },
      "source": [
        "def std_features_D15(x):\n",
        "    for f in features:\n",
        "        name = f'{f}_D15_Std'\n",
        "        X[name] = X[f].map(X.groupby([f])['D15'].std())\n",
        "        return X\n",
        "\n",
        "def mean_features_D15(x):\n",
        "    for f in features:\n",
        "        name = f'{f}_D15_Mean'\n",
        "        X[name] = X[f].map(X.groupby([f])['D15'].mean())\n",
        "        return X\n"
      ],
      "execution_count": 46,
      "outputs": []
    },
    {
      "cell_type": "code",
      "metadata": {
        "id": "Y0fH7JjIeVdo"
      },
      "source": [
        "X = std_features(X, features)\n",
        "X = mean_features(X, features)"
      ],
      "execution_count": 47,
      "outputs": []
    },
    {
      "cell_type": "code",
      "metadata": {
        "colab": {
          "base_uri": "https://localhost:8080/"
        },
        "id": "0sCHx3bYeVdp",
        "outputId": "7f1567d8-4206-454e-ab86-3455da068de7"
      },
      "source": [
        "x_train5, x_valid5 = train_test_split(X,train_size=0.7,shuffle=True,random_state = 1,)\n",
        "y_train5, y_valid5 = train_test_split(Y,train_size=0.7, shuffle=True, random_state=1,)\n",
        "dtrain5 = lgb.Dataset(data=x_train5, label=y_train5)\n",
        "dvalid5 = lgb.Dataset(data=x_valid5, label=y_valid5)\n",
        "\n",
        "model5 = lgb.train(\n",
        "      params=params,\n",
        "      train_set=dtrain5,\n",
        "      num_boost_round=200,\n",
        "      valid_sets=[dtrain5, dvalid5],\n",
        "      categorical_feature=\"auto\",\n",
        "      early_stopping_rounds=50,\n",
        "      verbose_eval=10\n",
        "        )\n"
      ],
      "execution_count": 48,
      "outputs": [
        {
          "output_type": "stream",
          "text": [
            "Training until validation scores don't improve for 50 rounds.\n",
            "[10]\ttraining's auc: 0.862731\tvalid_1's auc: 0.835382\n",
            "[20]\ttraining's auc: 0.885446\tvalid_1's auc: 0.851243\n",
            "[30]\ttraining's auc: 0.900488\tvalid_1's auc: 0.864626\n",
            "[40]\ttraining's auc: 0.905145\tvalid_1's auc: 0.870206\n",
            "[50]\ttraining's auc: 0.914813\tvalid_1's auc: 0.87863\n",
            "Did not meet early stopping. Best iteration is:\n",
            "[50]\ttraining's auc: 0.914813\tvalid_1's auc: 0.87863\n"
          ],
          "name": "stdout"
        }
      ]
    },
    {
      "cell_type": "code",
      "metadata": {
        "id": "vPrg50QEeVds"
      },
      "source": [
        "liderboard_score4 = roc_auc_score(Y, model5.predict(X))\n"
      ],
      "execution_count": 49,
      "outputs": []
    },
    {
      "cell_type": "code",
      "metadata": {
        "id": "wWlrYAy7eVdt"
      },
      "source": [
        "train_score5 = roc_auc_score(y_train5, model5.predict(x_train5))\n",
        "valid_score5 = roc_auc_score(y_valid5, model5.predict(x_valid5))"
      ],
      "execution_count": 50,
      "outputs": []
    },
    {
      "cell_type": "markdown",
      "metadata": {
        "id": "QhrdcOgS5eO9"
      },
      "source": [
        "### Задание 6: выделить дробную часть и целую часть признака TransactionAmt в два отдельных признака. После создать отдельных признак - логарифм от TransactionAmt"
      ]
    },
    {
      "cell_type": "code",
      "metadata": {
        "id": "qQ20jRJT5beV"
      },
      "source": [
        "def TransactionAmt_Fraction(x):\n",
        "    x = x.copy()\n",
        "    x['TransactionAmt_whole'] = x['TransactionAmt']//1\n",
        "    x['TransactionAmt_frac'] = x['TransactionAmt']%1\n",
        "    x['TransactionAmt_log'] = np.log(x['TransactionAmt'])\n",
        "    return x"
      ],
      "execution_count": 51,
      "outputs": []
    },
    {
      "cell_type": "code",
      "metadata": {
        "id": "JuhDNmZ6e894"
      },
      "source": [
        "X = TransactionAmt_Fraction(X)"
      ],
      "execution_count": 52,
      "outputs": []
    },
    {
      "cell_type": "code",
      "metadata": {
        "colab": {
          "base_uri": "https://localhost:8080/"
        },
        "id": "I_AI8H75fyzv",
        "outputId": "d0d82f4b-3ed0-4be7-8b5e-a5f6afdc7c5e"
      },
      "source": [
        "x_train6, x_valid6 = train_test_split(X,train_size=0.7,shuffle=True,random_state = 1,)\n",
        "y_train6, y_valid6 = train_test_split(Y,train_size=0.7, shuffle=True, random_state=1,)\n",
        "dtrain6 = lgb.Dataset(data=x_train6, label=y_train6)\n",
        "dvalid6 = lgb.Dataset(data=x_valid6, label=y_valid6)\n",
        "\n",
        "model6 = lgb.train(\n",
        "      params=params,\n",
        "      train_set=dtrain6,\n",
        "      num_boost_round=200,\n",
        "      valid_sets=[dtrain6, dvalid6],\n",
        "      categorical_feature=\"auto\",\n",
        "      early_stopping_rounds=50,\n",
        "      verbose_eval=10\n",
        "        )\n"
      ],
      "execution_count": 53,
      "outputs": [
        {
          "output_type": "stream",
          "text": [
            "Training until validation scores don't improve for 50 rounds.\n",
            "[10]\ttraining's auc: 0.862731\tvalid_1's auc: 0.835382\n",
            "[20]\ttraining's auc: 0.885446\tvalid_1's auc: 0.851243\n",
            "[30]\ttraining's auc: 0.900487\tvalid_1's auc: 0.864626\n",
            "[40]\ttraining's auc: 0.905145\tvalid_1's auc: 0.870206\n",
            "[50]\ttraining's auc: 0.914813\tvalid_1's auc: 0.87863\n",
            "Did not meet early stopping. Best iteration is:\n",
            "[50]\ttraining's auc: 0.914813\tvalid_1's auc: 0.87863\n"
          ],
          "name": "stdout"
        }
      ]
    },
    {
      "cell_type": "code",
      "metadata": {
        "id": "BS6Efb2kiSB6"
      },
      "source": [
        "train_score6 = roc_auc_score(y_train6, model6.predict(x_train6))\n",
        "valid_score6 = roc_auc_score(y_valid6, model6.predict(x_valid6))"
      ],
      "execution_count": 54,
      "outputs": []
    },
    {
      "cell_type": "code",
      "metadata": {
        "id": "shnj_jTiiw7c"
      },
      "source": [
        ""
      ],
      "execution_count": 54,
      "outputs": []
    },
    {
      "cell_type": "markdown",
      "metadata": {
        "id": "z5xfcBVLjGpl"
      },
      "source": [
        "And compare"
      ]
    },
    {
      "cell_type": "code",
      "metadata": {
        "id": "kAnS6lKxjfkM"
      },
      "source": [
        "from sklearn.metrics import roc_curve\n",
        "\n",
        "fpr, tpr, _ = roc_curve(\n",
        "    y_train, model.predict(x_train)\n",
        ")\n",
        "fpr1, tpr1, _ = roc_curve(\n",
        "    y_train1, model1.predict(x_train1)\n",
        ")\n",
        "fpr2, tpr2, _ = roc_curve(\n",
        "    y_train2, model2.predict(x_train2)\n",
        ")\n",
        "fpr3, tpr3, _ = roc_curve(\n",
        "    y_train3, model3.predict(x_train3)\n",
        ")\n",
        "\n",
        "fpr4, tpr4, _ = roc_curve(\n",
        "    y_train4, model4.predict(x_train4)\n",
        ")\n",
        "\n",
        "\n",
        "fpr5, tpr5, _ = roc_curve(\n",
        "    y_train5, model5.predict(x_train5)\n",
        ")\n",
        "\n",
        "\n",
        "fpr6, tpr6, _ = roc_curve(\n",
        "    y_train6, model6.predict(x_train6)\n",
        ")\n",
        "\n",
        "\n",
        "fpr6, tpr6, _ = roc_curve(\n",
        "    y_train6, model6.predict(x_train6)\n",
        ")\n",
        "\n"
      ],
      "execution_count": 55,
      "outputs": []
    },
    {
      "cell_type": "code",
      "metadata": {
        "colab": {
          "base_uri": "https://localhost:8080/",
          "height": 903
        },
        "id": "cemA2zmojOOS",
        "outputId": "8a6f202f-39a8-41bb-81bf-defd59125403"
      },
      "source": [
        "fig = plt.figure(figsize=(15, 15))\n",
        "plt.plot(fpr, tpr, linewidth=3, color=\"red\", label=\"model\")\n",
        "plt.plot(fpr1, tpr1, linewidth=3, color=\"yellow\", label=\"model1\")\n",
        "plt.plot(fpr2, tpr2, linewidth=3, color=\"green\", label=\"model2\")\n",
        "plt.plot(fpr3, tpr3, linewidth=3, color=\"blue\", label=\"model3\")\n",
        "plt.plot(fpr4, tpr4, linewidth=3, color=\"orange\", label=\"model4\")\n",
        "plt.plot(fpr5, tpr5, linewidth=3, color=\"black\", label=\"model5\")\n",
        "plt.plot(fpr6, tpr6, linewidth=3, color=\"pink\", label=\"model6\")\n",
        "plt.plot([0, 1], [0, 1], linestyle=\"--\", color=\"black\", alpha=0.25)\n",
        "plt.xlabel(\"FPR\", size=15)\n",
        "plt.ylabel(\"TPR\", size=15)\n",
        "plt.legend(loc=\"best\")\n",
        "plt.xlim(0, 1)\n",
        "plt.ylim(0, 1)"
      ],
      "execution_count": 58,
      "outputs": [
        {
          "output_type": "execute_result",
          "data": {
            "text/plain": [
              "(0.0, 1.0)"
            ]
          },
          "metadata": {
            "tags": []
          },
          "execution_count": 58
        },
        {
          "output_type": "display_data",
          "data": {
            "image/png": "[encoded data removed]",
            "text/plain": [
              "<Figure size 1080x1080 with 1 Axes>"
            ]
          },
          "metadata": {
            "tags": [],
            "needs_background": "light"
          }
        }
      ]
    },
    {
      "cell_type": "markdown",
      "metadata": {
        "id": "VIlHymPFpW59"
      },
      "source": [
        "##According to chart the result is the best in third model"
      ]
    },
    {
      "cell_type": "code",
      "metadata": {
        "colab": {
          "base_uri": "https://localhost:8080/"
        },
        "id": "cqzUpuxznP7h",
        "outputId": "ee765f2f-adb6-4c41-b38a-4abbce819748"
      },
      "source": [
        "print(f'Модель:   {train_score} {valid_score}') \n",
        "print(f'Модель 1: {train_score1} {valid_score1}') \n",
        "print(f'Модель 2: {train_score2} {valid_score2}') \n",
        "print(f'Модель 3: {train_score3} {valid_score3}') \n",
        "print(f'Модель 4: {train_score4} {valid_score4}') \n",
        "print(f'Модель 5: {train_score5} {valid_score5}')\n",
        "print(f'Модель 6: {train_score6} {valid_score6}') "
      ],
      "execution_count": 62,
      "outputs": [
        {
          "output_type": "stream",
          "text": [
            "Модель:   0.885161559560488 0.8739311747067828\n",
            "Модель 1: 0.8855004764929217 0.874276775397318\n",
            "Модель 2: 0.914393971448747 0.8774706204536892\n",
            "Модель 3: 0.917336612521366 0.8817725091953652\n",
            "Модель 4: 0.9148131082611081 0.878629583323593\n",
            "Модель 5: 0.9148131082611081 0.878629583323593\n",
            "Модель 6: 0.9148131161509967 0.8786295707556097\n"
          ],
          "name": "stdout"
        }
      ]
    },
    {
      "cell_type": "code",
      "metadata": {
        "id": "mqYjHrh6n7W5"
      },
      "source": [
        ""
      ],
      "execution_count": null,
      "outputs": []
    }
  ]
}