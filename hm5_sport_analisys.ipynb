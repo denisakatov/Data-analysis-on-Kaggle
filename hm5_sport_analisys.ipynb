{
  "nbformat": 4,
  "nbformat_minor": 0,
  "metadata": {
    "colab": {
      "name": "hm5_sport_analisys.ipynb",
      "provenance": [],
      "collapsed_sections": [],
      "mount_file_id": "1_m3ztVeM19wU5nZHdfbk3MAdG-9Z3YoX",
      "authorship_tag": "ABX9TyMJtzg5O4OcrFpT+UQI/qse",
      "include_colab_link": true
    },
    "kernelspec": {
      "name": "python3",
      "display_name": "Python 3"
    }
  },
  "cells": [
    {
      "cell_type": "markdown",
      "metadata": {
        "id": "view-in-github",
        "colab_type": "text"
      },
      "source": [
        "<a href=\"https://colab.research.google.com/github/denisakatov/Data-analysis-on-Kaggle/blob/main/hm5_sport_analisys.ipynb\" target=\"_parent\"><img src=\"https://colab.research.google.com/assets/colab-badge.svg\" alt=\"Open In Colab\"/></a>"
      ]
    },
    {
      "cell_type": "code",
      "metadata": {
        "id": "D70laMHq8-c7"
      },
      "source": [
        "import warnings\n",
        "from tqdm import tqdm\n",
        "from typing import List, Tuple\n",
        "\n",
        "import numpy as np\n",
        "import pandas as pd\n",
        "import seaborn as sns\n",
        "import xgboost as xgb\n",
        "import lightgbm as lgb\n",
        "import matplotlib.pyplot as plt\n",
        "from scipy.stats import ttest_rel\n",
        "\n",
        "from sklearn.metrics import r2_score, roc_auc_score\n",
        "from sklearn.ensemble import RandomForestRegressor\n",
        "from sklearn.model_selection import KFold, StratifiedKFold, train_test_split, cross_val_score\n",
        "warnings.simplefilter(\"ignore\")\n",
        "%matplotlib inline"
      ],
      "execution_count": 1,
      "outputs": []
    },
    {
      "cell_type": "code",
      "metadata": {
        "id": "K4O6JTcm9Jv-"
      },
      "source": [
        "liderboard = pd.read_csv('/content/drive/MyDrive/Colab Notebooks/Kaggle /2/data/assignment_2_test.csv')\n",
        "train = pd.read_csv('/content/drive/MyDrive/Colab Notebooks/Kaggle /2/data/assignment_2_train.csv')"
      ],
      "execution_count": 2,
      "outputs": []
    },
    {
      "cell_type": "code",
      "metadata": {
        "id": "E9j3xDH9MhHS"
      },
      "source": [
        "# Категориальные признаки для train переводим в category для возможности обработки категориальных признаков lightgbm\n",
        "\n",
        "for c in liderboard.select_dtypes(include=[np.object]):\n",
        "  liderboard[c] = liderboard[c].astype('category')"
      ],
      "execution_count": 3,
      "outputs": []
    },
    {
      "cell_type": "code",
      "metadata": {
        "colab": {
          "base_uri": "https://localhost:8080/",
          "height": 156
        },
        "id": "RvLPiv2LucEB",
        "outputId": "0c0807f9-3f0d-4f5d-cf76-e766940d1f2a"
      },
      "source": [
        "train.head(2)"
      ],
      "execution_count": 4,
      "outputs": [
        {
          "output_type": "execute_result",
          "data": {
            "text/html": [
              "<div>\n",
              "<style scoped>\n",
              "    .dataframe tbody tr th:only-of-type {\n",
              "        vertical-align: middle;\n",
              "    }\n",
              "\n",
              "    .dataframe tbody tr th {\n",
              "        vertical-align: top;\n",
              "    }\n",
              "\n",
              "    .dataframe thead th {\n",
              "        text-align: right;\n",
              "    }\n",
              "</style>\n",
              "<table border=\"1\" class=\"dataframe\">\n",
              "  <thead>\n",
              "    <tr style=\"text-align: right;\">\n",
              "      <th></th>\n",
              "      <th>TransactionID</th>\n",
              "      <th>isFraud</th>\n",
              "      <th>TransactionDT</th>\n",
              "      <th>TransactionAmt</th>\n",
              "      <th>ProductCD</th>\n",
              "      <th>card1</th>\n",
              "      <th>card2</th>\n",
              "      <th>card3</th>\n",
              "      <th>card4</th>\n",
              "      <th>card5</th>\n",
              "      <th>card6</th>\n",
              "      <th>addr1</th>\n",
              "      <th>addr2</th>\n",
              "      <th>dist1</th>\n",
              "      <th>dist2</th>\n",
              "      <th>P_emaildomain</th>\n",
              "      <th>R_emaildomain</th>\n",
              "      <th>C1</th>\n",
              "      <th>C2</th>\n",
              "      <th>C3</th>\n",
              "      <th>C4</th>\n",
              "      <th>C5</th>\n",
              "      <th>C6</th>\n",
              "      <th>C7</th>\n",
              "      <th>C8</th>\n",
              "      <th>C9</th>\n",
              "      <th>C10</th>\n",
              "      <th>C11</th>\n",
              "      <th>C12</th>\n",
              "      <th>C13</th>\n",
              "      <th>C14</th>\n",
              "      <th>D1</th>\n",
              "      <th>D2</th>\n",
              "      <th>D3</th>\n",
              "      <th>D4</th>\n",
              "      <th>D5</th>\n",
              "      <th>D6</th>\n",
              "      <th>D7</th>\n",
              "      <th>D8</th>\n",
              "      <th>D9</th>\n",
              "      <th>...</th>\n",
              "      <th>V300</th>\n",
              "      <th>V301</th>\n",
              "      <th>V302</th>\n",
              "      <th>V303</th>\n",
              "      <th>V304</th>\n",
              "      <th>V305</th>\n",
              "      <th>V306</th>\n",
              "      <th>V307</th>\n",
              "      <th>V308</th>\n",
              "      <th>V309</th>\n",
              "      <th>V310</th>\n",
              "      <th>V311</th>\n",
              "      <th>V312</th>\n",
              "      <th>V313</th>\n",
              "      <th>V314</th>\n",
              "      <th>V315</th>\n",
              "      <th>V316</th>\n",
              "      <th>V317</th>\n",
              "      <th>V318</th>\n",
              "      <th>V319</th>\n",
              "      <th>V320</th>\n",
              "      <th>V321</th>\n",
              "      <th>V322</th>\n",
              "      <th>V323</th>\n",
              "      <th>V324</th>\n",
              "      <th>V325</th>\n",
              "      <th>V326</th>\n",
              "      <th>V327</th>\n",
              "      <th>V328</th>\n",
              "      <th>V329</th>\n",
              "      <th>V330</th>\n",
              "      <th>V331</th>\n",
              "      <th>V332</th>\n",
              "      <th>V333</th>\n",
              "      <th>V334</th>\n",
              "      <th>V335</th>\n",
              "      <th>V336</th>\n",
              "      <th>V337</th>\n",
              "      <th>V338</th>\n",
              "      <th>V339</th>\n",
              "    </tr>\n",
              "  </thead>\n",
              "  <tbody>\n",
              "    <tr>\n",
              "      <th>0</th>\n",
              "      <td>2987000</td>\n",
              "      <td>0</td>\n",
              "      <td>86400</td>\n",
              "      <td>68.5</td>\n",
              "      <td>W</td>\n",
              "      <td>13926</td>\n",
              "      <td>NaN</td>\n",
              "      <td>150.0</td>\n",
              "      <td>discover</td>\n",
              "      <td>142.0</td>\n",
              "      <td>credit</td>\n",
              "      <td>315.0</td>\n",
              "      <td>87.0</td>\n",
              "      <td>19.0</td>\n",
              "      <td>NaN</td>\n",
              "      <td>NaN</td>\n",
              "      <td>NaN</td>\n",
              "      <td>1.0</td>\n",
              "      <td>1.0</td>\n",
              "      <td>0.0</td>\n",
              "      <td>0.0</td>\n",
              "      <td>0.0</td>\n",
              "      <td>1.0</td>\n",
              "      <td>0.0</td>\n",
              "      <td>0.0</td>\n",
              "      <td>1.0</td>\n",
              "      <td>0.0</td>\n",
              "      <td>2.0</td>\n",
              "      <td>0.0</td>\n",
              "      <td>1.0</td>\n",
              "      <td>1.0</td>\n",
              "      <td>14.0</td>\n",
              "      <td>NaN</td>\n",
              "      <td>13.0</td>\n",
              "      <td>NaN</td>\n",
              "      <td>NaN</td>\n",
              "      <td>NaN</td>\n",
              "      <td>NaN</td>\n",
              "      <td>NaN</td>\n",
              "      <td>NaN</td>\n",
              "      <td>...</td>\n",
              "      <td>0.0</td>\n",
              "      <td>0.0</td>\n",
              "      <td>0.0</td>\n",
              "      <td>0.0</td>\n",
              "      <td>0.0</td>\n",
              "      <td>1.0</td>\n",
              "      <td>0.0</td>\n",
              "      <td>117.0</td>\n",
              "      <td>0.0</td>\n",
              "      <td>0.0</td>\n",
              "      <td>0.0</td>\n",
              "      <td>0.0</td>\n",
              "      <td>0.0</td>\n",
              "      <td>0.0</td>\n",
              "      <td>0.0</td>\n",
              "      <td>0.0</td>\n",
              "      <td>0.0</td>\n",
              "      <td>117.0</td>\n",
              "      <td>0.0</td>\n",
              "      <td>0.0</td>\n",
              "      <td>0.0</td>\n",
              "      <td>0.0</td>\n",
              "      <td>NaN</td>\n",
              "      <td>NaN</td>\n",
              "      <td>NaN</td>\n",
              "      <td>NaN</td>\n",
              "      <td>NaN</td>\n",
              "      <td>NaN</td>\n",
              "      <td>NaN</td>\n",
              "      <td>NaN</td>\n",
              "      <td>NaN</td>\n",
              "      <td>NaN</td>\n",
              "      <td>NaN</td>\n",
              "      <td>NaN</td>\n",
              "      <td>NaN</td>\n",
              "      <td>NaN</td>\n",
              "      <td>NaN</td>\n",
              "      <td>NaN</td>\n",
              "      <td>NaN</td>\n",
              "      <td>NaN</td>\n",
              "    </tr>\n",
              "    <tr>\n",
              "      <th>1</th>\n",
              "      <td>2987001</td>\n",
              "      <td>0</td>\n",
              "      <td>86401</td>\n",
              "      <td>29.0</td>\n",
              "      <td>W</td>\n",
              "      <td>2755</td>\n",
              "      <td>404.0</td>\n",
              "      <td>150.0</td>\n",
              "      <td>mastercard</td>\n",
              "      <td>102.0</td>\n",
              "      <td>credit</td>\n",
              "      <td>325.0</td>\n",
              "      <td>87.0</td>\n",
              "      <td>NaN</td>\n",
              "      <td>NaN</td>\n",
              "      <td>gmail.com</td>\n",
              "      <td>NaN</td>\n",
              "      <td>1.0</td>\n",
              "      <td>1.0</td>\n",
              "      <td>0.0</td>\n",
              "      <td>0.0</td>\n",
              "      <td>0.0</td>\n",
              "      <td>1.0</td>\n",
              "      <td>0.0</td>\n",
              "      <td>0.0</td>\n",
              "      <td>0.0</td>\n",
              "      <td>0.0</td>\n",
              "      <td>1.0</td>\n",
              "      <td>0.0</td>\n",
              "      <td>1.0</td>\n",
              "      <td>1.0</td>\n",
              "      <td>0.0</td>\n",
              "      <td>NaN</td>\n",
              "      <td>NaN</td>\n",
              "      <td>0.0</td>\n",
              "      <td>NaN</td>\n",
              "      <td>NaN</td>\n",
              "      <td>NaN</td>\n",
              "      <td>NaN</td>\n",
              "      <td>NaN</td>\n",
              "      <td>...</td>\n",
              "      <td>0.0</td>\n",
              "      <td>0.0</td>\n",
              "      <td>0.0</td>\n",
              "      <td>0.0</td>\n",
              "      <td>0.0</td>\n",
              "      <td>1.0</td>\n",
              "      <td>0.0</td>\n",
              "      <td>0.0</td>\n",
              "      <td>0.0</td>\n",
              "      <td>0.0</td>\n",
              "      <td>0.0</td>\n",
              "      <td>0.0</td>\n",
              "      <td>0.0</td>\n",
              "      <td>0.0</td>\n",
              "      <td>0.0</td>\n",
              "      <td>0.0</td>\n",
              "      <td>0.0</td>\n",
              "      <td>0.0</td>\n",
              "      <td>0.0</td>\n",
              "      <td>0.0</td>\n",
              "      <td>0.0</td>\n",
              "      <td>0.0</td>\n",
              "      <td>NaN</td>\n",
              "      <td>NaN</td>\n",
              "      <td>NaN</td>\n",
              "      <td>NaN</td>\n",
              "      <td>NaN</td>\n",
              "      <td>NaN</td>\n",
              "      <td>NaN</td>\n",
              "      <td>NaN</td>\n",
              "      <td>NaN</td>\n",
              "      <td>NaN</td>\n",
              "      <td>NaN</td>\n",
              "      <td>NaN</td>\n",
              "      <td>NaN</td>\n",
              "      <td>NaN</td>\n",
              "      <td>NaN</td>\n",
              "      <td>NaN</td>\n",
              "      <td>NaN</td>\n",
              "      <td>NaN</td>\n",
              "    </tr>\n",
              "  </tbody>\n",
              "</table>\n",
              "<p>2 rows × 394 columns</p>\n",
              "</div>"
            ],
            "text/plain": [
              "   TransactionID  isFraud  TransactionDT  ...  V337 V338  V339\n",
              "0        2987000        0          86400  ...   NaN  NaN   NaN\n",
              "1        2987001        0          86401  ...   NaN  NaN   NaN\n",
              "\n",
              "[2 rows x 394 columns]"
            ]
          },
          "metadata": {
            "tags": []
          },
          "execution_count": 4
        }
      ]
    },
    {
      "cell_type": "code",
      "metadata": {
        "id": "w8rHOv9duhB7"
      },
      "source": [
        "Y = train.isFraud\n",
        "X = train.drop(['isFraud'], axis=1)"
      ],
      "execution_count": 5,
      "outputs": []
    },
    {
      "cell_type": "code",
      "metadata": {
        "colab": {
          "base_uri": "https://localhost:8080/"
        },
        "id": "7n447bPFwGRO",
        "outputId": "5953e0bf-0b80-4594-fe88-28d8ab91e81c"
      },
      "source": [
        "print('Датасет состоит из {} строк и {} столбцов'.format(*X.shape))"
      ],
      "execution_count": 6,
      "outputs": [
        {
          "output_type": "stream",
          "text": [
            "Датасет состоит из 180000 строк и 393 столбцов\n"
          ],
          "name": "stdout"
        }
      ]
    },
    {
      "cell_type": "code",
      "metadata": {
        "id": "F1NfJvg43vR7"
      },
      "source": [
        "# Категориальные признаки переводим в category для возможности обработки категориальных признаков lightgbm\n",
        "X_category = X.select_dtypes(include=[np.object])\n",
        "\n",
        "for c in X_category:\n",
        "  X[c] = X[c].astype('category')"
      ],
      "execution_count": 7,
      "outputs": []
    },
    {
      "cell_type": "code",
      "metadata": {
        "colab": {
          "base_uri": "https://localhost:8080/",
          "height": 156
        },
        "id": "uU6w_8WH0U04",
        "outputId": "5a6c411e-4721-4c8c-eec6-5ef7da0d0315"
      },
      "source": [
        "X.head(2)"
      ],
      "execution_count": 8,
      "outputs": [
        {
          "output_type": "execute_result",
          "data": {
            "text/html": [
              "<div>\n",
              "<style scoped>\n",
              "    .dataframe tbody tr th:only-of-type {\n",
              "        vertical-align: middle;\n",
              "    }\n",
              "\n",
              "    .dataframe tbody tr th {\n",
              "        vertical-align: top;\n",
              "    }\n",
              "\n",
              "    .dataframe thead th {\n",
              "        text-align: right;\n",
              "    }\n",
              "</style>\n",
              "<table border=\"1\" class=\"dataframe\">\n",
              "  <thead>\n",
              "    <tr style=\"text-align: right;\">\n",
              "      <th></th>\n",
              "      <th>TransactionID</th>\n",
              "      <th>TransactionDT</th>\n",
              "      <th>TransactionAmt</th>\n",
              "      <th>ProductCD</th>\n",
              "      <th>card1</th>\n",
              "      <th>card2</th>\n",
              "      <th>card3</th>\n",
              "      <th>card4</th>\n",
              "      <th>card5</th>\n",
              "      <th>card6</th>\n",
              "      <th>addr1</th>\n",
              "      <th>addr2</th>\n",
              "      <th>dist1</th>\n",
              "      <th>dist2</th>\n",
              "      <th>P_emaildomain</th>\n",
              "      <th>R_emaildomain</th>\n",
              "      <th>C1</th>\n",
              "      <th>C2</th>\n",
              "      <th>C3</th>\n",
              "      <th>C4</th>\n",
              "      <th>C5</th>\n",
              "      <th>C6</th>\n",
              "      <th>C7</th>\n",
              "      <th>C8</th>\n",
              "      <th>C9</th>\n",
              "      <th>C10</th>\n",
              "      <th>C11</th>\n",
              "      <th>C12</th>\n",
              "      <th>C13</th>\n",
              "      <th>C14</th>\n",
              "      <th>D1</th>\n",
              "      <th>D2</th>\n",
              "      <th>D3</th>\n",
              "      <th>D4</th>\n",
              "      <th>D5</th>\n",
              "      <th>D6</th>\n",
              "      <th>D7</th>\n",
              "      <th>D8</th>\n",
              "      <th>D9</th>\n",
              "      <th>D10</th>\n",
              "      <th>...</th>\n",
              "      <th>V300</th>\n",
              "      <th>V301</th>\n",
              "      <th>V302</th>\n",
              "      <th>V303</th>\n",
              "      <th>V304</th>\n",
              "      <th>V305</th>\n",
              "      <th>V306</th>\n",
              "      <th>V307</th>\n",
              "      <th>V308</th>\n",
              "      <th>V309</th>\n",
              "      <th>V310</th>\n",
              "      <th>V311</th>\n",
              "      <th>V312</th>\n",
              "      <th>V313</th>\n",
              "      <th>V314</th>\n",
              "      <th>V315</th>\n",
              "      <th>V316</th>\n",
              "      <th>V317</th>\n",
              "      <th>V318</th>\n",
              "      <th>V319</th>\n",
              "      <th>V320</th>\n",
              "      <th>V321</th>\n",
              "      <th>V322</th>\n",
              "      <th>V323</th>\n",
              "      <th>V324</th>\n",
              "      <th>V325</th>\n",
              "      <th>V326</th>\n",
              "      <th>V327</th>\n",
              "      <th>V328</th>\n",
              "      <th>V329</th>\n",
              "      <th>V330</th>\n",
              "      <th>V331</th>\n",
              "      <th>V332</th>\n",
              "      <th>V333</th>\n",
              "      <th>V334</th>\n",
              "      <th>V335</th>\n",
              "      <th>V336</th>\n",
              "      <th>V337</th>\n",
              "      <th>V338</th>\n",
              "      <th>V339</th>\n",
              "    </tr>\n",
              "  </thead>\n",
              "  <tbody>\n",
              "    <tr>\n",
              "      <th>0</th>\n",
              "      <td>2987000</td>\n",
              "      <td>86400</td>\n",
              "      <td>68.5</td>\n",
              "      <td>W</td>\n",
              "      <td>13926</td>\n",
              "      <td>NaN</td>\n",
              "      <td>150.0</td>\n",
              "      <td>discover</td>\n",
              "      <td>142.0</td>\n",
              "      <td>credit</td>\n",
              "      <td>315.0</td>\n",
              "      <td>87.0</td>\n",
              "      <td>19.0</td>\n",
              "      <td>NaN</td>\n",
              "      <td>NaN</td>\n",
              "      <td>NaN</td>\n",
              "      <td>1.0</td>\n",
              "      <td>1.0</td>\n",
              "      <td>0.0</td>\n",
              "      <td>0.0</td>\n",
              "      <td>0.0</td>\n",
              "      <td>1.0</td>\n",
              "      <td>0.0</td>\n",
              "      <td>0.0</td>\n",
              "      <td>1.0</td>\n",
              "      <td>0.0</td>\n",
              "      <td>2.0</td>\n",
              "      <td>0.0</td>\n",
              "      <td>1.0</td>\n",
              "      <td>1.0</td>\n",
              "      <td>14.0</td>\n",
              "      <td>NaN</td>\n",
              "      <td>13.0</td>\n",
              "      <td>NaN</td>\n",
              "      <td>NaN</td>\n",
              "      <td>NaN</td>\n",
              "      <td>NaN</td>\n",
              "      <td>NaN</td>\n",
              "      <td>NaN</td>\n",
              "      <td>13.0</td>\n",
              "      <td>...</td>\n",
              "      <td>0.0</td>\n",
              "      <td>0.0</td>\n",
              "      <td>0.0</td>\n",
              "      <td>0.0</td>\n",
              "      <td>0.0</td>\n",
              "      <td>1.0</td>\n",
              "      <td>0.0</td>\n",
              "      <td>117.0</td>\n",
              "      <td>0.0</td>\n",
              "      <td>0.0</td>\n",
              "      <td>0.0</td>\n",
              "      <td>0.0</td>\n",
              "      <td>0.0</td>\n",
              "      <td>0.0</td>\n",
              "      <td>0.0</td>\n",
              "      <td>0.0</td>\n",
              "      <td>0.0</td>\n",
              "      <td>117.0</td>\n",
              "      <td>0.0</td>\n",
              "      <td>0.0</td>\n",
              "      <td>0.0</td>\n",
              "      <td>0.0</td>\n",
              "      <td>NaN</td>\n",
              "      <td>NaN</td>\n",
              "      <td>NaN</td>\n",
              "      <td>NaN</td>\n",
              "      <td>NaN</td>\n",
              "      <td>NaN</td>\n",
              "      <td>NaN</td>\n",
              "      <td>NaN</td>\n",
              "      <td>NaN</td>\n",
              "      <td>NaN</td>\n",
              "      <td>NaN</td>\n",
              "      <td>NaN</td>\n",
              "      <td>NaN</td>\n",
              "      <td>NaN</td>\n",
              "      <td>NaN</td>\n",
              "      <td>NaN</td>\n",
              "      <td>NaN</td>\n",
              "      <td>NaN</td>\n",
              "    </tr>\n",
              "    <tr>\n",
              "      <th>1</th>\n",
              "      <td>2987001</td>\n",
              "      <td>86401</td>\n",
              "      <td>29.0</td>\n",
              "      <td>W</td>\n",
              "      <td>2755</td>\n",
              "      <td>404.0</td>\n",
              "      <td>150.0</td>\n",
              "      <td>mastercard</td>\n",
              "      <td>102.0</td>\n",
              "      <td>credit</td>\n",
              "      <td>325.0</td>\n",
              "      <td>87.0</td>\n",
              "      <td>NaN</td>\n",
              "      <td>NaN</td>\n",
              "      <td>gmail.com</td>\n",
              "      <td>NaN</td>\n",
              "      <td>1.0</td>\n",
              "      <td>1.0</td>\n",
              "      <td>0.0</td>\n",
              "      <td>0.0</td>\n",
              "      <td>0.0</td>\n",
              "      <td>1.0</td>\n",
              "      <td>0.0</td>\n",
              "      <td>0.0</td>\n",
              "      <td>0.0</td>\n",
              "      <td>0.0</td>\n",
              "      <td>1.0</td>\n",
              "      <td>0.0</td>\n",
              "      <td>1.0</td>\n",
              "      <td>1.0</td>\n",
              "      <td>0.0</td>\n",
              "      <td>NaN</td>\n",
              "      <td>NaN</td>\n",
              "      <td>0.0</td>\n",
              "      <td>NaN</td>\n",
              "      <td>NaN</td>\n",
              "      <td>NaN</td>\n",
              "      <td>NaN</td>\n",
              "      <td>NaN</td>\n",
              "      <td>0.0</td>\n",
              "      <td>...</td>\n",
              "      <td>0.0</td>\n",
              "      <td>0.0</td>\n",
              "      <td>0.0</td>\n",
              "      <td>0.0</td>\n",
              "      <td>0.0</td>\n",
              "      <td>1.0</td>\n",
              "      <td>0.0</td>\n",
              "      <td>0.0</td>\n",
              "      <td>0.0</td>\n",
              "      <td>0.0</td>\n",
              "      <td>0.0</td>\n",
              "      <td>0.0</td>\n",
              "      <td>0.0</td>\n",
              "      <td>0.0</td>\n",
              "      <td>0.0</td>\n",
              "      <td>0.0</td>\n",
              "      <td>0.0</td>\n",
              "      <td>0.0</td>\n",
              "      <td>0.0</td>\n",
              "      <td>0.0</td>\n",
              "      <td>0.0</td>\n",
              "      <td>0.0</td>\n",
              "      <td>NaN</td>\n",
              "      <td>NaN</td>\n",
              "      <td>NaN</td>\n",
              "      <td>NaN</td>\n",
              "      <td>NaN</td>\n",
              "      <td>NaN</td>\n",
              "      <td>NaN</td>\n",
              "      <td>NaN</td>\n",
              "      <td>NaN</td>\n",
              "      <td>NaN</td>\n",
              "      <td>NaN</td>\n",
              "      <td>NaN</td>\n",
              "      <td>NaN</td>\n",
              "      <td>NaN</td>\n",
              "      <td>NaN</td>\n",
              "      <td>NaN</td>\n",
              "      <td>NaN</td>\n",
              "      <td>NaN</td>\n",
              "    </tr>\n",
              "  </tbody>\n",
              "</table>\n",
              "<p>2 rows × 393 columns</p>\n",
              "</div>"
            ],
            "text/plain": [
              "   TransactionID  TransactionDT  TransactionAmt  ... V337  V338  V339\n",
              "0        2987000          86400            68.5  ...  NaN   NaN   NaN\n",
              "1        2987001          86401            29.0  ...  NaN   NaN   NaN\n",
              "\n",
              "[2 rows x 393 columns]"
            ]
          },
          "metadata": {
            "tags": []
          },
          "execution_count": 8
        }
      ]
    },
    {
      "cell_type": "code",
      "metadata": {
        "colab": {
          "base_uri": "https://localhost:8080/",
          "height": 156
        },
        "id": "vVma2D-s05IG",
        "outputId": "6a3de86e-d42c-487d-b4d8-e65acc689619"
      },
      "source": [
        "X.head(2)"
      ],
      "execution_count": 9,
      "outputs": [
        {
          "output_type": "execute_result",
          "data": {
            "text/html": [
              "<div>\n",
              "<style scoped>\n",
              "    .dataframe tbody tr th:only-of-type {\n",
              "        vertical-align: middle;\n",
              "    }\n",
              "\n",
              "    .dataframe tbody tr th {\n",
              "        vertical-align: top;\n",
              "    }\n",
              "\n",
              "    .dataframe thead th {\n",
              "        text-align: right;\n",
              "    }\n",
              "</style>\n",
              "<table border=\"1\" class=\"dataframe\">\n",
              "  <thead>\n",
              "    <tr style=\"text-align: right;\">\n",
              "      <th></th>\n",
              "      <th>TransactionID</th>\n",
              "      <th>TransactionDT</th>\n",
              "      <th>TransactionAmt</th>\n",
              "      <th>ProductCD</th>\n",
              "      <th>card1</th>\n",
              "      <th>card2</th>\n",
              "      <th>card3</th>\n",
              "      <th>card4</th>\n",
              "      <th>card5</th>\n",
              "      <th>card6</th>\n",
              "      <th>addr1</th>\n",
              "      <th>addr2</th>\n",
              "      <th>dist1</th>\n",
              "      <th>dist2</th>\n",
              "      <th>P_emaildomain</th>\n",
              "      <th>R_emaildomain</th>\n",
              "      <th>C1</th>\n",
              "      <th>C2</th>\n",
              "      <th>C3</th>\n",
              "      <th>C4</th>\n",
              "      <th>C5</th>\n",
              "      <th>C6</th>\n",
              "      <th>C7</th>\n",
              "      <th>C8</th>\n",
              "      <th>C9</th>\n",
              "      <th>C10</th>\n",
              "      <th>C11</th>\n",
              "      <th>C12</th>\n",
              "      <th>C13</th>\n",
              "      <th>C14</th>\n",
              "      <th>D1</th>\n",
              "      <th>D2</th>\n",
              "      <th>D3</th>\n",
              "      <th>D4</th>\n",
              "      <th>D5</th>\n",
              "      <th>D6</th>\n",
              "      <th>D7</th>\n",
              "      <th>D8</th>\n",
              "      <th>D9</th>\n",
              "      <th>D10</th>\n",
              "      <th>...</th>\n",
              "      <th>V300</th>\n",
              "      <th>V301</th>\n",
              "      <th>V302</th>\n",
              "      <th>V303</th>\n",
              "      <th>V304</th>\n",
              "      <th>V305</th>\n",
              "      <th>V306</th>\n",
              "      <th>V307</th>\n",
              "      <th>V308</th>\n",
              "      <th>V309</th>\n",
              "      <th>V310</th>\n",
              "      <th>V311</th>\n",
              "      <th>V312</th>\n",
              "      <th>V313</th>\n",
              "      <th>V314</th>\n",
              "      <th>V315</th>\n",
              "      <th>V316</th>\n",
              "      <th>V317</th>\n",
              "      <th>V318</th>\n",
              "      <th>V319</th>\n",
              "      <th>V320</th>\n",
              "      <th>V321</th>\n",
              "      <th>V322</th>\n",
              "      <th>V323</th>\n",
              "      <th>V324</th>\n",
              "      <th>V325</th>\n",
              "      <th>V326</th>\n",
              "      <th>V327</th>\n",
              "      <th>V328</th>\n",
              "      <th>V329</th>\n",
              "      <th>V330</th>\n",
              "      <th>V331</th>\n",
              "      <th>V332</th>\n",
              "      <th>V333</th>\n",
              "      <th>V334</th>\n",
              "      <th>V335</th>\n",
              "      <th>V336</th>\n",
              "      <th>V337</th>\n",
              "      <th>V338</th>\n",
              "      <th>V339</th>\n",
              "    </tr>\n",
              "  </thead>\n",
              "  <tbody>\n",
              "    <tr>\n",
              "      <th>0</th>\n",
              "      <td>2987000</td>\n",
              "      <td>86400</td>\n",
              "      <td>68.5</td>\n",
              "      <td>W</td>\n",
              "      <td>13926</td>\n",
              "      <td>NaN</td>\n",
              "      <td>150.0</td>\n",
              "      <td>discover</td>\n",
              "      <td>142.0</td>\n",
              "      <td>credit</td>\n",
              "      <td>315.0</td>\n",
              "      <td>87.0</td>\n",
              "      <td>19.0</td>\n",
              "      <td>NaN</td>\n",
              "      <td>NaN</td>\n",
              "      <td>NaN</td>\n",
              "      <td>1.0</td>\n",
              "      <td>1.0</td>\n",
              "      <td>0.0</td>\n",
              "      <td>0.0</td>\n",
              "      <td>0.0</td>\n",
              "      <td>1.0</td>\n",
              "      <td>0.0</td>\n",
              "      <td>0.0</td>\n",
              "      <td>1.0</td>\n",
              "      <td>0.0</td>\n",
              "      <td>2.0</td>\n",
              "      <td>0.0</td>\n",
              "      <td>1.0</td>\n",
              "      <td>1.0</td>\n",
              "      <td>14.0</td>\n",
              "      <td>NaN</td>\n",
              "      <td>13.0</td>\n",
              "      <td>NaN</td>\n",
              "      <td>NaN</td>\n",
              "      <td>NaN</td>\n",
              "      <td>NaN</td>\n",
              "      <td>NaN</td>\n",
              "      <td>NaN</td>\n",
              "      <td>13.0</td>\n",
              "      <td>...</td>\n",
              "      <td>0.0</td>\n",
              "      <td>0.0</td>\n",
              "      <td>0.0</td>\n",
              "      <td>0.0</td>\n",
              "      <td>0.0</td>\n",
              "      <td>1.0</td>\n",
              "      <td>0.0</td>\n",
              "      <td>117.0</td>\n",
              "      <td>0.0</td>\n",
              "      <td>0.0</td>\n",
              "      <td>0.0</td>\n",
              "      <td>0.0</td>\n",
              "      <td>0.0</td>\n",
              "      <td>0.0</td>\n",
              "      <td>0.0</td>\n",
              "      <td>0.0</td>\n",
              "      <td>0.0</td>\n",
              "      <td>117.0</td>\n",
              "      <td>0.0</td>\n",
              "      <td>0.0</td>\n",
              "      <td>0.0</td>\n",
              "      <td>0.0</td>\n",
              "      <td>NaN</td>\n",
              "      <td>NaN</td>\n",
              "      <td>NaN</td>\n",
              "      <td>NaN</td>\n",
              "      <td>NaN</td>\n",
              "      <td>NaN</td>\n",
              "      <td>NaN</td>\n",
              "      <td>NaN</td>\n",
              "      <td>NaN</td>\n",
              "      <td>NaN</td>\n",
              "      <td>NaN</td>\n",
              "      <td>NaN</td>\n",
              "      <td>NaN</td>\n",
              "      <td>NaN</td>\n",
              "      <td>NaN</td>\n",
              "      <td>NaN</td>\n",
              "      <td>NaN</td>\n",
              "      <td>NaN</td>\n",
              "    </tr>\n",
              "    <tr>\n",
              "      <th>1</th>\n",
              "      <td>2987001</td>\n",
              "      <td>86401</td>\n",
              "      <td>29.0</td>\n",
              "      <td>W</td>\n",
              "      <td>2755</td>\n",
              "      <td>404.0</td>\n",
              "      <td>150.0</td>\n",
              "      <td>mastercard</td>\n",
              "      <td>102.0</td>\n",
              "      <td>credit</td>\n",
              "      <td>325.0</td>\n",
              "      <td>87.0</td>\n",
              "      <td>NaN</td>\n",
              "      <td>NaN</td>\n",
              "      <td>gmail.com</td>\n",
              "      <td>NaN</td>\n",
              "      <td>1.0</td>\n",
              "      <td>1.0</td>\n",
              "      <td>0.0</td>\n",
              "      <td>0.0</td>\n",
              "      <td>0.0</td>\n",
              "      <td>1.0</td>\n",
              "      <td>0.0</td>\n",
              "      <td>0.0</td>\n",
              "      <td>0.0</td>\n",
              "      <td>0.0</td>\n",
              "      <td>1.0</td>\n",
              "      <td>0.0</td>\n",
              "      <td>1.0</td>\n",
              "      <td>1.0</td>\n",
              "      <td>0.0</td>\n",
              "      <td>NaN</td>\n",
              "      <td>NaN</td>\n",
              "      <td>0.0</td>\n",
              "      <td>NaN</td>\n",
              "      <td>NaN</td>\n",
              "      <td>NaN</td>\n",
              "      <td>NaN</td>\n",
              "      <td>NaN</td>\n",
              "      <td>0.0</td>\n",
              "      <td>...</td>\n",
              "      <td>0.0</td>\n",
              "      <td>0.0</td>\n",
              "      <td>0.0</td>\n",
              "      <td>0.0</td>\n",
              "      <td>0.0</td>\n",
              "      <td>1.0</td>\n",
              "      <td>0.0</td>\n",
              "      <td>0.0</td>\n",
              "      <td>0.0</td>\n",
              "      <td>0.0</td>\n",
              "      <td>0.0</td>\n",
              "      <td>0.0</td>\n",
              "      <td>0.0</td>\n",
              "      <td>0.0</td>\n",
              "      <td>0.0</td>\n",
              "      <td>0.0</td>\n",
              "      <td>0.0</td>\n",
              "      <td>0.0</td>\n",
              "      <td>0.0</td>\n",
              "      <td>0.0</td>\n",
              "      <td>0.0</td>\n",
              "      <td>0.0</td>\n",
              "      <td>NaN</td>\n",
              "      <td>NaN</td>\n",
              "      <td>NaN</td>\n",
              "      <td>NaN</td>\n",
              "      <td>NaN</td>\n",
              "      <td>NaN</td>\n",
              "      <td>NaN</td>\n",
              "      <td>NaN</td>\n",
              "      <td>NaN</td>\n",
              "      <td>NaN</td>\n",
              "      <td>NaN</td>\n",
              "      <td>NaN</td>\n",
              "      <td>NaN</td>\n",
              "      <td>NaN</td>\n",
              "      <td>NaN</td>\n",
              "      <td>NaN</td>\n",
              "      <td>NaN</td>\n",
              "      <td>NaN</td>\n",
              "    </tr>\n",
              "  </tbody>\n",
              "</table>\n",
              "<p>2 rows × 393 columns</p>\n",
              "</div>"
            ],
            "text/plain": [
              "   TransactionID  TransactionDT  TransactionAmt  ... V337  V338  V339\n",
              "0        2987000          86400            68.5  ...  NaN   NaN   NaN\n",
              "1        2987001          86401            29.0  ...  NaN   NaN   NaN\n",
              "\n",
              "[2 rows x 393 columns]"
            ]
          },
          "metadata": {
            "tags": []
          },
          "execution_count": 9
        }
      ]
    },
    {
      "cell_type": "code",
      "metadata": {
        "id": "mALj3ubLys6u"
      },
      "source": [
        "params = {\n",
        "    \"boosting_type\": \"gbdt\",\n",
        "    \"objective\": \"binary\",\n",
        "    \"metric\": \"auc\",\n",
        "    \"learning_rate\": 0.01,\n",
        "    \"n_estimators\": 200,\n",
        "    \"n_jobs\": 6,\n",
        "    \"seed\": 27\n",
        "}"
      ],
      "execution_count": 10,
      "outputs": []
    },
    {
      "cell_type": "code",
      "metadata": {
        "colab": {
          "base_uri": "https://localhost:8080/"
        },
        "id": "L7qXstbYbyS1",
        "outputId": "3d4cfc25-30d3-4e70-e20e-319697a1cfa0"
      },
      "source": [
        "x_train, x_valid = train_test_split(X,train_size=0.7,shuffle=True,random_state = 1,)\n",
        "y_train, y_valid = train_test_split(Y, train_size=0.7, shuffle=True, random_state=1,)\n",
        "dtrain = lgb.Dataset(data=x_train, label=y_train)\n",
        "dvalid = lgb.Dataset(data=x_valid, label=y_valid)\n",
        "\n",
        "model = lgb.train(\n",
        "      params=params,\n",
        "      train_set=dtrain,\n",
        "      num_boost_round=200,\n",
        "      valid_sets=[dtrain, dvalid],\n",
        "      categorical_feature=\"auto\",\n",
        "      early_stopping_rounds=50,\n",
        "      verbose_eval=10\n",
        "        )\n",
        "  \n"
      ],
      "execution_count": 11,
      "outputs": [
        {
          "output_type": "stream",
          "text": [
            "Training until validation scores don't improve for 50 rounds.\n",
            "[10]\ttraining's auc: 0.835413\tvalid_1's auc: 0.829611\n",
            "[20]\ttraining's auc: 0.851371\tvalid_1's auc: 0.842652\n",
            "[30]\ttraining's auc: 0.871352\tvalid_1's auc: 0.862668\n",
            "[40]\ttraining's auc: 0.879627\tvalid_1's auc: 0.868971\n",
            "[50]\ttraining's auc: 0.885162\tvalid_1's auc: 0.873931\n",
            "[60]\ttraining's auc: 0.888298\tvalid_1's auc: 0.877464\n",
            "[70]\ttraining's auc: 0.890777\tvalid_1's auc: 0.880339\n",
            "[80]\ttraining's auc: 0.897042\tvalid_1's auc: 0.885193\n",
            "[90]\ttraining's auc: 0.900175\tvalid_1's auc: 0.887796\n",
            "[100]\ttraining's auc: 0.903054\tvalid_1's auc: 0.890553\n",
            "[110]\ttraining's auc: 0.905344\tvalid_1's auc: 0.89237\n",
            "[120]\ttraining's auc: 0.907317\tvalid_1's auc: 0.894338\n",
            "[130]\ttraining's auc: 0.90919\tvalid_1's auc: 0.896449\n",
            "[140]\ttraining's auc: 0.911355\tvalid_1's auc: 0.898517\n",
            "[150]\ttraining's auc: 0.913852\tvalid_1's auc: 0.900294\n",
            "[160]\ttraining's auc: 0.916032\tvalid_1's auc: 0.901372\n",
            "[170]\ttraining's auc: 0.917735\tvalid_1's auc: 0.902415\n",
            "[180]\ttraining's auc: 0.919284\tvalid_1's auc: 0.903285\n",
            "[190]\ttraining's auc: 0.920773\tvalid_1's auc: 0.903933\n",
            "[200]\ttraining's auc: 0.922639\tvalid_1's auc: 0.905141\n",
            "Did not meet early stopping. Best iteration is:\n",
            "[200]\ttraining's auc: 0.922639\tvalid_1's auc: 0.905141\n"
          ],
          "name": "stdout"
        }
      ]
    },
    {
      "cell_type": "code",
      "metadata": {
        "id": "sI-GLABUfju3"
      },
      "source": [
        "liderboard_score = roc_auc_score(Y, model.predict(X))"
      ],
      "execution_count": 12,
      "outputs": []
    },
    {
      "cell_type": "code",
      "metadata": {
        "colab": {
          "base_uri": "https://localhost:8080/"
        },
        "id": "F_ERZ_NUgpdo",
        "outputId": "c02e34e9-f1e1-4f77-b777-a02a74558914"
      },
      "source": [
        "liderboard_score"
      ],
      "execution_count": 13,
      "outputs": [
        {
          "output_type": "execute_result",
          "data": {
            "text/plain": [
              "0.9175036562846264"
            ]
          },
          "metadata": {
            "tags": []
          },
          "execution_count": 13
        }
      ]
    },
    {
      "cell_type": "code",
      "metadata": {
        "colab": {
          "base_uri": "https://localhost:8080/"
        },
        "id": "NbECcLO5BWWq",
        "outputId": "45330b5d-434b-4e70-8409-78db0a086ab0"
      },
      "source": [
        "train_score = roc_auc_score(y_train, model.predict(x_train))\n",
        "valid_score = roc_auc_score(y_valid, model.predict(x_valid))\n",
        "\n",
        "print(f\"Train-score: {round(train_score, 3)}, Valid-score: {round(valid_score, 3)}, Liderboard_score: {round(liderboard_score, 3)}\")"
      ],
      "execution_count": 14,
      "outputs": [
        {
          "output_type": "stream",
          "text": [
            "Train-score: 0.923, Valid-score: 0.905, Liderboard_score: 0.918\n"
          ],
          "name": "stdout"
        }
      ]
    },
    {
      "cell_type": "markdown",
      "metadata": {
        "id": "V6X9lpKyu_5x"
      },
      "source": [
        "## Задание 1: признак TransactionDT - это смещение в секундах относительно базовой даты. Базовая дата - 2017-12-01, преобразовать признак TransactionDT в datetime, прибавив к базовой дате исходное значение признака. Из полученного признака выделить год, месяц, день недели, час, день."
      ]
    },
    {
      "cell_type": "code",
      "metadata": {
        "id": "MJN7BywOja9H"
      },
      "source": [
        "import datetime"
      ],
      "execution_count": 15,
      "outputs": []
    },
    {
      "cell_type": "code",
      "metadata": {
        "id": "9OnxjQMojgMI"
      },
      "source": [
        "base_date = datetime.date(2017,12,1)"
      ],
      "execution_count": 16,
      "outputs": []
    },
    {
      "cell_type": "code",
      "metadata": {
        "colab": {
          "base_uri": "https://localhost:8080/"
        },
        "id": "v15nMj66mmX1",
        "outputId": "82e02154-fc56-4f11-ef88-077fb71d1fab"
      },
      "source": [
        "base_date"
      ],
      "execution_count": 17,
      "outputs": [
        {
          "output_type": "execute_result",
          "data": {
            "text/plain": [
              "datetime.date(2017, 12, 1)"
            ]
          },
          "metadata": {
            "tags": []
          },
          "execution_count": 17
        }
      ]
    },
    {
      "cell_type": "code",
      "metadata": {
        "id": "-31ufNSGbItO"
      },
      "source": [
        "X['TransactionDT_datetime'] = pd.to_datetime(X['TransactionDT'].apply(lambda x: base_date - datetime.timedelta(seconds=x)))"
      ],
      "execution_count": 18,
      "outputs": []
    },
    {
      "cell_type": "code",
      "metadata": {
        "id": "tLkTLPj8miMa"
      },
      "source": [
        "X['year'], X['month'], X['day'] = X['TransactionDT_datetime'].dt.year,\\\n",
        "                         X['TransactionDT_datetime'].dt.month, X['TransactionDT_datetime'].dt.day"
      ],
      "execution_count": 19,
      "outputs": []
    },
    {
      "cell_type": "code",
      "metadata": {
        "colab": {
          "base_uri": "https://localhost:8080/",
          "height": 107
        },
        "id": "j0nZqdfmpvhX",
        "outputId": "abae7957-6195-4ef8-a70b-811c21decb5d"
      },
      "source": [
        "X[['year', 'month', 'day']].head(2)"
      ],
      "execution_count": 20,
      "outputs": [
        {
          "output_type": "execute_result",
          "data": {
            "text/html": [
              "<div>\n",
              "<style scoped>\n",
              "    .dataframe tbody tr th:only-of-type {\n",
              "        vertical-align: middle;\n",
              "    }\n",
              "\n",
              "    .dataframe tbody tr th {\n",
              "        vertical-align: top;\n",
              "    }\n",
              "\n",
              "    .dataframe thead th {\n",
              "        text-align: right;\n",
              "    }\n",
              "</style>\n",
              "<table border=\"1\" class=\"dataframe\">\n",
              "  <thead>\n",
              "    <tr style=\"text-align: right;\">\n",
              "      <th></th>\n",
              "      <th>year</th>\n",
              "      <th>month</th>\n",
              "      <th>day</th>\n",
              "    </tr>\n",
              "  </thead>\n",
              "  <tbody>\n",
              "    <tr>\n",
              "      <th>0</th>\n",
              "      <td>2017</td>\n",
              "      <td>11</td>\n",
              "      <td>30</td>\n",
              "    </tr>\n",
              "    <tr>\n",
              "      <th>1</th>\n",
              "      <td>2017</td>\n",
              "      <td>11</td>\n",
              "      <td>30</td>\n",
              "    </tr>\n",
              "  </tbody>\n",
              "</table>\n",
              "</div>"
            ],
            "text/plain": [
              "   year  month  day\n",
              "0  2017     11   30\n",
              "1  2017     11   30"
            ]
          },
          "metadata": {
            "tags": []
          },
          "execution_count": 20
        }
      ]
    },
    {
      "cell_type": "code",
      "metadata": {
        "id": "gfgJRqgpsrT2"
      },
      "source": [
        "for c in X[['year', 'month', 'day']]:\n",
        "    X[c] = X[c].astype('category')"
      ],
      "execution_count": 21,
      "outputs": []
    },
    {
      "cell_type": "code",
      "metadata": {
        "id": "zN-EFkDR4Iwv"
      },
      "source": [
        "X = X.drop(['TransactionDT_datetime', 'TransactionDT'],axis=1)"
      ],
      "execution_count": 22,
      "outputs": []
    },
    {
      "cell_type": "code",
      "metadata": {
        "colab": {
          "base_uri": "https://localhost:8080/"
        },
        "id": "6t3jv5eBqM4m",
        "outputId": "9d3f4d3f-765c-4dae-e5a3-465a305671ee"
      },
      "source": [
        "x_train1, x_valid1 = train_test_split(X, train_size=0.7, shuffle=True, random_state=1,)\n",
        "y_train1, y_valid1 = train_test_split(Y, train_size=0.7, shuffle=True, random_state=1,)\n",
        "dtrain1 = lgb.Dataset(data=x_train1, label=y_train1)\n",
        "dvalid1 = lgb.Dataset(data=x_valid1, label=y_valid1)\n",
        "\n",
        "model1 = lgb.train(\n",
        "      params=params,\n",
        "      train_set=dtrain1,\n",
        "      num_boost_round=200,\n",
        "      valid_sets=[dtrain1, dvalid1],\n",
        "      categorical_feature=\"auto\",\n",
        "      early_stopping_rounds=50,\n",
        "      verbose_eval=10,\n",
        "        )\n"
      ],
      "execution_count": 23,
      "outputs": [
        {
          "output_type": "stream",
          "text": [
            "Training until validation scores don't improve for 50 rounds.\n",
            "[10]\ttraining's auc: 0.835413\tvalid_1's auc: 0.829611\n",
            "[20]\ttraining's auc: 0.85137\tvalid_1's auc: 0.842652\n",
            "[30]\ttraining's auc: 0.871406\tvalid_1's auc: 0.862735\n",
            "[40]\ttraining's auc: 0.880225\tvalid_1's auc: 0.869378\n",
            "[50]\ttraining's auc: 0.8855\tvalid_1's auc: 0.874277\n",
            "[60]\ttraining's auc: 0.888351\tvalid_1's auc: 0.877857\n",
            "[70]\ttraining's auc: 0.890667\tvalid_1's auc: 0.880285\n",
            "[80]\ttraining's auc: 0.89696\tvalid_1's auc: 0.884675\n",
            "[90]\ttraining's auc: 0.900316\tvalid_1's auc: 0.887053\n",
            "[100]\ttraining's auc: 0.903403\tvalid_1's auc: 0.889533\n",
            "[110]\ttraining's auc: 0.905459\tvalid_1's auc: 0.891646\n",
            "[120]\ttraining's auc: 0.90789\tvalid_1's auc: 0.893914\n",
            "[130]\ttraining's auc: 0.910175\tvalid_1's auc: 0.89638\n",
            "[140]\ttraining's auc: 0.912137\tvalid_1's auc: 0.898238\n",
            "[150]\ttraining's auc: 0.914199\tvalid_1's auc: 0.899801\n",
            "[160]\ttraining's auc: 0.916435\tvalid_1's auc: 0.901311\n",
            "[170]\ttraining's auc: 0.919091\tvalid_1's auc: 0.902392\n",
            "[180]\ttraining's auc: 0.920469\tvalid_1's auc: 0.903092\n",
            "[190]\ttraining's auc: 0.922214\tvalid_1's auc: 0.904063\n",
            "[200]\ttraining's auc: 0.923678\tvalid_1's auc: 0.904824\n",
            "Did not meet early stopping. Best iteration is:\n",
            "[200]\ttraining's auc: 0.923678\tvalid_1's auc: 0.904824\n"
          ],
          "name": "stdout"
        }
      ]
    },
    {
      "cell_type": "code",
      "metadata": {
        "id": "4SKl98ykuOtS"
      },
      "source": [
        "liderboard_score1 = roc_auc_score(Y, model1.predict(X))\n",
        "train_score1 = roc_auc_score(y_train1, model1.predict(x_train1))\n",
        "valid_score1 = roc_auc_score(y_valid1, model1.predict(x_valid1))"
      ],
      "execution_count": 24,
      "outputs": []
    },
    {
      "cell_type": "markdown",
      "metadata": {
        "id": "PsWd_p9Uu2g1"
      },
      "source": [
        "### Задание 2: сделать конкатенацию признаков\n",
        "* card1 + card2;\n",
        "* card1 + card2 + card_3 + card_5;\n",
        "* card1 + card2 + card_3 + card_5 + addr1 + addr2\n",
        "\n",
        "Рассматривать их как категориальных признаки."
      ]
    },
    {
      "cell_type": "code",
      "metadata": {
        "id": "D9KRet2NvkWy"
      },
      "source": [
        "X['card1_2']=X['card1']+X['card2']\n",
        "X['card1_2'] =X['card1_2'].astype('category')"
      ],
      "execution_count": 25,
      "outputs": []
    },
    {
      "cell_type": "markdown",
      "metadata": {
        "id": "5LihCNcMDx40"
      },
      "source": [
        "Если необходимо сконкатенировать просто имена, то можно использовать код ниже."
      ]
    },
    {
      "cell_type": "code",
      "metadata": {
        "id": "5WF8C8qNDlXc"
      },
      "source": [
        "# X['card1_2']=X['card1'].astype(np.str)+'_'+X['card2'].astype(np.str)\n",
        "# X['card1_2'] = X['card1_2'].astype('category')"
      ],
      "execution_count": 26,
      "outputs": []
    },
    {
      "cell_type": "code",
      "metadata": {
        "colab": {
          "base_uri": "https://localhost:8080/"
        },
        "id": "bpDK6ik0Cguk",
        "outputId": "7224ffc8-b08d-4e65-ffe3-99816941764a"
      },
      "source": [
        "X['card1_2']"
      ],
      "execution_count": 27,
      "outputs": [
        {
          "output_type": "execute_result",
          "data": {
            "text/plain": [
              "0             NaN\n",
              "1          3159.0\n",
              "2          5153.0\n",
              "3         18699.0\n",
              "4          5011.0\n",
              "           ...   \n",
              "179995     2187.0\n",
              "179996    10589.0\n",
              "179997     6175.0\n",
              "179998     8281.0\n",
              "179999    18008.0\n",
              "Name: card1_2, Length: 180000, dtype: category\n",
              "Categories (7534, float64): [1134.0, 1149.0, 1187.0, 1309.0, ..., 18938.0, 18940.0, 18943.0, 18948.0]"
            ]
          },
          "metadata": {
            "tags": []
          },
          "execution_count": 27
        }
      ]
    },
    {
      "cell_type": "code",
      "metadata": {
        "id": "vwC6g1EsvrSy"
      },
      "source": [
        "X['card1_2_3_5']=X['card1']+X['card2']+X['card3']+X['card5']\n",
        "X['card1_2_3_5'] = X['card1_2_3_5'].astype('category')"
      ],
      "execution_count": 28,
      "outputs": []
    },
    {
      "cell_type": "code",
      "metadata": {
        "id": "8JIceGSpzpQN"
      },
      "source": [
        "X['card1_2_3_5_addr1_2']=X['card1']+X['card2']+X['card3']+X['card5']+X['addr1']+X['addr2']\n",
        "X['card1_2_3_5_addr1_2'] = X['card1_2_3_5_addr1_2'].astype('category')"
      ],
      "execution_count": 29,
      "outputs": []
    },
    {
      "cell_type": "code",
      "metadata": {
        "colab": {
          "base_uri": "https://localhost:8080/"
        },
        "id": "LovtzNYi0bs9",
        "outputId": "f50cb12f-5e2c-48d3-da5f-cacbde461dbc"
      },
      "source": [
        "x_train2, x_valid2 = train_test_split(X,train_size=0.7,shuffle=True,random_state = 1,)\n",
        "y_train2, y_valid2 = train_test_split(Y,train_size=0.7, shuffle=True, random_state=1,)\n",
        "dtrain2 = lgb.Dataset(data=x_train2, label=y_train2)\n",
        "dvalid2 = lgb.Dataset(data=x_valid2, label=y_valid2)\n",
        "\n",
        "model2 = lgb.train(\n",
        "      params=params,\n",
        "      train_set=dtrain2,\n",
        "      num_boost_round=200,\n",
        "      valid_sets=[dtrain2, dvalid2],\n",
        "      categorical_feature=\"auto\",\n",
        "      early_stopping_rounds=50,\n",
        "      verbose_eval=10\n",
        "        )\n"
      ],
      "execution_count": 30,
      "outputs": [
        {
          "output_type": "stream",
          "text": [
            "Training until validation scores don't improve for 50 rounds.\n",
            "[10]\ttraining's auc: 0.865399\tvalid_1's auc: 0.836636\n",
            "[20]\ttraining's auc: 0.88348\tvalid_1's auc: 0.85006\n",
            "[30]\ttraining's auc: 0.900615\tvalid_1's auc: 0.865745\n",
            "[40]\ttraining's auc: 0.907189\tvalid_1's auc: 0.871459\n",
            "[50]\ttraining's auc: 0.914394\tvalid_1's auc: 0.877471\n",
            "[60]\ttraining's auc: 0.9214\tvalid_1's auc: 0.883235\n",
            "[70]\ttraining's auc: 0.929313\tvalid_1's auc: 0.889867\n",
            "[80]\ttraining's auc: 0.938018\tvalid_1's auc: 0.899268\n",
            "[90]\ttraining's auc: 0.942963\tvalid_1's auc: 0.902628\n",
            "[100]\ttraining's auc: 0.947075\tvalid_1's auc: 0.905832\n",
            "[110]\ttraining's auc: 0.950679\tvalid_1's auc: 0.90822\n",
            "[120]\ttraining's auc: 0.953414\tvalid_1's auc: 0.910155\n",
            "[130]\ttraining's auc: 0.955571\tvalid_1's auc: 0.912073\n",
            "[140]\ttraining's auc: 0.957563\tvalid_1's auc: 0.913804\n",
            "[150]\ttraining's auc: 0.959384\tvalid_1's auc: 0.915507\n",
            "[160]\ttraining's auc: 0.961009\tvalid_1's auc: 0.916794\n",
            "[170]\ttraining's auc: 0.962732\tvalid_1's auc: 0.91843\n",
            "[180]\ttraining's auc: 0.964018\tvalid_1's auc: 0.919405\n",
            "[190]\ttraining's auc: 0.96523\tvalid_1's auc: 0.920509\n",
            "[200]\ttraining's auc: 0.966372\tvalid_1's auc: 0.921352\n",
            "Did not meet early stopping. Best iteration is:\n",
            "[200]\ttraining's auc: 0.966372\tvalid_1's auc: 0.921352\n"
          ],
          "name": "stdout"
        }
      ]
    },
    {
      "cell_type": "code",
      "metadata": {
        "id": "BP-gedHS2aL3"
      },
      "source": [
        "liderboard_score2 = roc_auc_score(Y, model2.predict(X))\n",
        "train_score2 = roc_auc_score(y_train2, model2.predict(x_train2))\n",
        "valid_score2 = roc_auc_score(y_valid2, model2.predict(x_valid2))"
      ],
      "execution_count": 31,
      "outputs": []
    },
    {
      "cell_type": "markdown",
      "metadata": {
        "id": "AP661_0j5El2"
      },
      "source": [
        "### Задание 3: Сделать FrequencyEncoder для признаков card1 - card6, addr1, addr2."
      ]
    },
    {
      "cell_type": "code",
      "metadata": {
        "id": "wW3r5NQv5Vzi"
      },
      "source": [
        "def frequency_encoder(X, features):\n",
        "    X = X.copy()\n",
        "    for f in features:\n",
        "        name = f'{f}_frequency'\n",
        "        print(name)\n",
        "        X[name] = X[f].map(X[f].value_counts(normalize=True))\n",
        "    return X\n"
      ],
      "execution_count": 32,
      "outputs": []
    },
    {
      "cell_type": "code",
      "metadata": {
        "id": "5YSMeazFIb60"
      },
      "source": [
        "features = ['card1', 'card2','card3','card4','card5','card6', 'addr1', 'addr2']"
      ],
      "execution_count": 33,
      "outputs": []
    },
    {
      "cell_type": "code",
      "metadata": {
        "colab": {
          "base_uri": "https://localhost:8080/"
        },
        "id": "VphMfBg-LYE-",
        "outputId": "d01472fa-ddd8-42b3-9aa3-e2e7b3844667"
      },
      "source": [
        "X = frequency_encoder(X, features)\n"
      ],
      "execution_count": 34,
      "outputs": [
        {
          "output_type": "stream",
          "text": [
            "card1_frequency\n",
            "card2_frequency\n",
            "card3_frequency\n",
            "card4_frequency\n",
            "card5_frequency\n",
            "card6_frequency\n",
            "addr1_frequency\n",
            "addr2_frequency\n"
          ],
          "name": "stdout"
        }
      ]
    },
    {
      "cell_type": "code",
      "metadata": {
        "colab": {
          "base_uri": "https://localhost:8080/",
          "height": 246
        },
        "id": "jf7jy03uYD4u",
        "outputId": "7fbca0ec-16c5-4197-f0fc-848a9bd319bd"
      },
      "source": [
        "X.head()"
      ],
      "execution_count": 35,
      "outputs": [
        {
          "output_type": "execute_result",
          "data": {
            "text/html": [
              "<div>\n",
              "<style scoped>\n",
              "    .dataframe tbody tr th:only-of-type {\n",
              "        vertical-align: middle;\n",
              "    }\n",
              "\n",
              "    .dataframe tbody tr th {\n",
              "        vertical-align: top;\n",
              "    }\n",
              "\n",
              "    .dataframe thead th {\n",
              "        text-align: right;\n",
              "    }\n",
              "</style>\n",
              "<table border=\"1\" class=\"dataframe\">\n",
              "  <thead>\n",
              "    <tr style=\"text-align: right;\">\n",
              "      <th></th>\n",
              "      <th>TransactionID</th>\n",
              "      <th>TransactionAmt</th>\n",
              "      <th>ProductCD</th>\n",
              "      <th>card1</th>\n",
              "      <th>card2</th>\n",
              "      <th>card3</th>\n",
              "      <th>card4</th>\n",
              "      <th>card5</th>\n",
              "      <th>card6</th>\n",
              "      <th>addr1</th>\n",
              "      <th>addr2</th>\n",
              "      <th>dist1</th>\n",
              "      <th>dist2</th>\n",
              "      <th>P_emaildomain</th>\n",
              "      <th>R_emaildomain</th>\n",
              "      <th>C1</th>\n",
              "      <th>C2</th>\n",
              "      <th>C3</th>\n",
              "      <th>C4</th>\n",
              "      <th>C5</th>\n",
              "      <th>C6</th>\n",
              "      <th>C7</th>\n",
              "      <th>C8</th>\n",
              "      <th>C9</th>\n",
              "      <th>C10</th>\n",
              "      <th>C11</th>\n",
              "      <th>C12</th>\n",
              "      <th>C13</th>\n",
              "      <th>C14</th>\n",
              "      <th>D1</th>\n",
              "      <th>D2</th>\n",
              "      <th>D3</th>\n",
              "      <th>D4</th>\n",
              "      <th>D5</th>\n",
              "      <th>D6</th>\n",
              "      <th>D7</th>\n",
              "      <th>D8</th>\n",
              "      <th>D9</th>\n",
              "      <th>D10</th>\n",
              "      <th>D11</th>\n",
              "      <th>...</th>\n",
              "      <th>V314</th>\n",
              "      <th>V315</th>\n",
              "      <th>V316</th>\n",
              "      <th>V317</th>\n",
              "      <th>V318</th>\n",
              "      <th>V319</th>\n",
              "      <th>V320</th>\n",
              "      <th>V321</th>\n",
              "      <th>V322</th>\n",
              "      <th>V323</th>\n",
              "      <th>V324</th>\n",
              "      <th>V325</th>\n",
              "      <th>V326</th>\n",
              "      <th>V327</th>\n",
              "      <th>V328</th>\n",
              "      <th>V329</th>\n",
              "      <th>V330</th>\n",
              "      <th>V331</th>\n",
              "      <th>V332</th>\n",
              "      <th>V333</th>\n",
              "      <th>V334</th>\n",
              "      <th>V335</th>\n",
              "      <th>V336</th>\n",
              "      <th>V337</th>\n",
              "      <th>V338</th>\n",
              "      <th>V339</th>\n",
              "      <th>year</th>\n",
              "      <th>month</th>\n",
              "      <th>day</th>\n",
              "      <th>card1_2</th>\n",
              "      <th>card1_2_3_5</th>\n",
              "      <th>card1_2_3_5_addr1_2</th>\n",
              "      <th>card1_frequency</th>\n",
              "      <th>card2_frequency</th>\n",
              "      <th>card3_frequency</th>\n",
              "      <th>card4_frequency</th>\n",
              "      <th>card5_frequency</th>\n",
              "      <th>card6_frequency</th>\n",
              "      <th>addr1_frequency</th>\n",
              "      <th>addr2_frequency</th>\n",
              "    </tr>\n",
              "  </thead>\n",
              "  <tbody>\n",
              "    <tr>\n",
              "      <th>0</th>\n",
              "      <td>2987000</td>\n",
              "      <td>68.5</td>\n",
              "      <td>W</td>\n",
              "      <td>13926</td>\n",
              "      <td>NaN</td>\n",
              "      <td>150.0</td>\n",
              "      <td>discover</td>\n",
              "      <td>142.0</td>\n",
              "      <td>credit</td>\n",
              "      <td>315.0</td>\n",
              "      <td>87.0</td>\n",
              "      <td>19.0</td>\n",
              "      <td>NaN</td>\n",
              "      <td>NaN</td>\n",
              "      <td>NaN</td>\n",
              "      <td>1.0</td>\n",
              "      <td>1.0</td>\n",
              "      <td>0.0</td>\n",
              "      <td>0.0</td>\n",
              "      <td>0.0</td>\n",
              "      <td>1.0</td>\n",
              "      <td>0.0</td>\n",
              "      <td>0.0</td>\n",
              "      <td>1.0</td>\n",
              "      <td>0.0</td>\n",
              "      <td>2.0</td>\n",
              "      <td>0.0</td>\n",
              "      <td>1.0</td>\n",
              "      <td>1.0</td>\n",
              "      <td>14.0</td>\n",
              "      <td>NaN</td>\n",
              "      <td>13.0</td>\n",
              "      <td>NaN</td>\n",
              "      <td>NaN</td>\n",
              "      <td>NaN</td>\n",
              "      <td>NaN</td>\n",
              "      <td>NaN</td>\n",
              "      <td>NaN</td>\n",
              "      <td>13.0</td>\n",
              "      <td>13.0</td>\n",
              "      <td>...</td>\n",
              "      <td>0.0</td>\n",
              "      <td>0.0</td>\n",
              "      <td>0.0</td>\n",
              "      <td>117.0</td>\n",
              "      <td>0.0</td>\n",
              "      <td>0.0</td>\n",
              "      <td>0.0</td>\n",
              "      <td>0.0</td>\n",
              "      <td>NaN</td>\n",
              "      <td>NaN</td>\n",
              "      <td>NaN</td>\n",
              "      <td>NaN</td>\n",
              "      <td>NaN</td>\n",
              "      <td>NaN</td>\n",
              "      <td>NaN</td>\n",
              "      <td>NaN</td>\n",
              "      <td>NaN</td>\n",
              "      <td>NaN</td>\n",
              "      <td>NaN</td>\n",
              "      <td>NaN</td>\n",
              "      <td>NaN</td>\n",
              "      <td>NaN</td>\n",
              "      <td>NaN</td>\n",
              "      <td>NaN</td>\n",
              "      <td>NaN</td>\n",
              "      <td>NaN</td>\n",
              "      <td>2017</td>\n",
              "      <td>11</td>\n",
              "      <td>30</td>\n",
              "      <td>NaN</td>\n",
              "      <td>NaN</td>\n",
              "      <td>NaN</td>\n",
              "      <td>0.000061</td>\n",
              "      <td>NaN</td>\n",
              "      <td>0.879737</td>\n",
              "      <td>0.013212</td>\n",
              "      <td>0.000274</td>\n",
              "      <td>0.317951</td>\n",
              "      <td>0.042773</td>\n",
              "      <td>0.982344</td>\n",
              "    </tr>\n",
              "    <tr>\n",
              "      <th>1</th>\n",
              "      <td>2987001</td>\n",
              "      <td>29.0</td>\n",
              "      <td>W</td>\n",
              "      <td>2755</td>\n",
              "      <td>404.0</td>\n",
              "      <td>150.0</td>\n",
              "      <td>mastercard</td>\n",
              "      <td>102.0</td>\n",
              "      <td>credit</td>\n",
              "      <td>325.0</td>\n",
              "      <td>87.0</td>\n",
              "      <td>NaN</td>\n",
              "      <td>NaN</td>\n",
              "      <td>gmail.com</td>\n",
              "      <td>NaN</td>\n",
              "      <td>1.0</td>\n",
              "      <td>1.0</td>\n",
              "      <td>0.0</td>\n",
              "      <td>0.0</td>\n",
              "      <td>0.0</td>\n",
              "      <td>1.0</td>\n",
              "      <td>0.0</td>\n",
              "      <td>0.0</td>\n",
              "      <td>0.0</td>\n",
              "      <td>0.0</td>\n",
              "      <td>1.0</td>\n",
              "      <td>0.0</td>\n",
              "      <td>1.0</td>\n",
              "      <td>1.0</td>\n",
              "      <td>0.0</td>\n",
              "      <td>NaN</td>\n",
              "      <td>NaN</td>\n",
              "      <td>0.0</td>\n",
              "      <td>NaN</td>\n",
              "      <td>NaN</td>\n",
              "      <td>NaN</td>\n",
              "      <td>NaN</td>\n",
              "      <td>NaN</td>\n",
              "      <td>0.0</td>\n",
              "      <td>NaN</td>\n",
              "      <td>...</td>\n",
              "      <td>0.0</td>\n",
              "      <td>0.0</td>\n",
              "      <td>0.0</td>\n",
              "      <td>0.0</td>\n",
              "      <td>0.0</td>\n",
              "      <td>0.0</td>\n",
              "      <td>0.0</td>\n",
              "      <td>0.0</td>\n",
              "      <td>NaN</td>\n",
              "      <td>NaN</td>\n",
              "      <td>NaN</td>\n",
              "      <td>NaN</td>\n",
              "      <td>NaN</td>\n",
              "      <td>NaN</td>\n",
              "      <td>NaN</td>\n",
              "      <td>NaN</td>\n",
              "      <td>NaN</td>\n",
              "      <td>NaN</td>\n",
              "      <td>NaN</td>\n",
              "      <td>NaN</td>\n",
              "      <td>NaN</td>\n",
              "      <td>NaN</td>\n",
              "      <td>NaN</td>\n",
              "      <td>NaN</td>\n",
              "      <td>NaN</td>\n",
              "      <td>NaN</td>\n",
              "      <td>2017</td>\n",
              "      <td>11</td>\n",
              "      <td>30</td>\n",
              "      <td>3159.0</td>\n",
              "      <td>3411.0</td>\n",
              "      <td>3823.0</td>\n",
              "      <td>0.001244</td>\n",
              "      <td>0.006855</td>\n",
              "      <td>0.879737</td>\n",
              "      <td>0.302797</td>\n",
              "      <td>0.054723</td>\n",
              "      <td>0.317951</td>\n",
              "      <td>0.080004</td>\n",
              "      <td>0.982344</td>\n",
              "    </tr>\n",
              "    <tr>\n",
              "      <th>2</th>\n",
              "      <td>2987002</td>\n",
              "      <td>59.0</td>\n",
              "      <td>W</td>\n",
              "      <td>4663</td>\n",
              "      <td>490.0</td>\n",
              "      <td>150.0</td>\n",
              "      <td>visa</td>\n",
              "      <td>166.0</td>\n",
              "      <td>debit</td>\n",
              "      <td>330.0</td>\n",
              "      <td>87.0</td>\n",
              "      <td>287.0</td>\n",
              "      <td>NaN</td>\n",
              "      <td>outlook.com</td>\n",
              "      <td>NaN</td>\n",
              "      <td>1.0</td>\n",
              "      <td>1.0</td>\n",
              "      <td>0.0</td>\n",
              "      <td>0.0</td>\n",
              "      <td>0.0</td>\n",
              "      <td>1.0</td>\n",
              "      <td>0.0</td>\n",
              "      <td>0.0</td>\n",
              "      <td>1.0</td>\n",
              "      <td>0.0</td>\n",
              "      <td>1.0</td>\n",
              "      <td>0.0</td>\n",
              "      <td>1.0</td>\n",
              "      <td>1.0</td>\n",
              "      <td>0.0</td>\n",
              "      <td>NaN</td>\n",
              "      <td>NaN</td>\n",
              "      <td>0.0</td>\n",
              "      <td>NaN</td>\n",
              "      <td>NaN</td>\n",
              "      <td>NaN</td>\n",
              "      <td>NaN</td>\n",
              "      <td>NaN</td>\n",
              "      <td>0.0</td>\n",
              "      <td>315.0</td>\n",
              "      <td>...</td>\n",
              "      <td>0.0</td>\n",
              "      <td>0.0</td>\n",
              "      <td>0.0</td>\n",
              "      <td>0.0</td>\n",
              "      <td>0.0</td>\n",
              "      <td>0.0</td>\n",
              "      <td>0.0</td>\n",
              "      <td>0.0</td>\n",
              "      <td>NaN</td>\n",
              "      <td>NaN</td>\n",
              "      <td>NaN</td>\n",
              "      <td>NaN</td>\n",
              "      <td>NaN</td>\n",
              "      <td>NaN</td>\n",
              "      <td>NaN</td>\n",
              "      <td>NaN</td>\n",
              "      <td>NaN</td>\n",
              "      <td>NaN</td>\n",
              "      <td>NaN</td>\n",
              "      <td>NaN</td>\n",
              "      <td>NaN</td>\n",
              "      <td>NaN</td>\n",
              "      <td>NaN</td>\n",
              "      <td>NaN</td>\n",
              "      <td>NaN</td>\n",
              "      <td>NaN</td>\n",
              "      <td>2017</td>\n",
              "      <td>11</td>\n",
              "      <td>30</td>\n",
              "      <td>5153.0</td>\n",
              "      <td>5469.0</td>\n",
              "      <td>5886.0</td>\n",
              "      <td>0.001428</td>\n",
              "      <td>0.061413</td>\n",
              "      <td>0.879737</td>\n",
              "      <td>0.657224</td>\n",
              "      <td>0.080269</td>\n",
              "      <td>0.681949</td>\n",
              "      <td>0.046205</td>\n",
              "      <td>0.982344</td>\n",
              "    </tr>\n",
              "    <tr>\n",
              "      <th>3</th>\n",
              "      <td>2987003</td>\n",
              "      <td>50.0</td>\n",
              "      <td>W</td>\n",
              "      <td>18132</td>\n",
              "      <td>567.0</td>\n",
              "      <td>150.0</td>\n",
              "      <td>mastercard</td>\n",
              "      <td>117.0</td>\n",
              "      <td>debit</td>\n",
              "      <td>476.0</td>\n",
              "      <td>87.0</td>\n",
              "      <td>NaN</td>\n",
              "      <td>NaN</td>\n",
              "      <td>yahoo.com</td>\n",
              "      <td>NaN</td>\n",
              "      <td>2.0</td>\n",
              "      <td>5.0</td>\n",
              "      <td>0.0</td>\n",
              "      <td>0.0</td>\n",
              "      <td>0.0</td>\n",
              "      <td>4.0</td>\n",
              "      <td>0.0</td>\n",
              "      <td>0.0</td>\n",
              "      <td>1.0</td>\n",
              "      <td>0.0</td>\n",
              "      <td>1.0</td>\n",
              "      <td>0.0</td>\n",
              "      <td>25.0</td>\n",
              "      <td>1.0</td>\n",
              "      <td>112.0</td>\n",
              "      <td>112.0</td>\n",
              "      <td>0.0</td>\n",
              "      <td>94.0</td>\n",
              "      <td>0.0</td>\n",
              "      <td>NaN</td>\n",
              "      <td>NaN</td>\n",
              "      <td>NaN</td>\n",
              "      <td>NaN</td>\n",
              "      <td>84.0</td>\n",
              "      <td>NaN</td>\n",
              "      <td>...</td>\n",
              "      <td>0.0</td>\n",
              "      <td>0.0</td>\n",
              "      <td>50.0</td>\n",
              "      <td>1404.0</td>\n",
              "      <td>790.0</td>\n",
              "      <td>0.0</td>\n",
              "      <td>0.0</td>\n",
              "      <td>0.0</td>\n",
              "      <td>NaN</td>\n",
              "      <td>NaN</td>\n",
              "      <td>NaN</td>\n",
              "      <td>NaN</td>\n",
              "      <td>NaN</td>\n",
              "      <td>NaN</td>\n",
              "      <td>NaN</td>\n",
              "      <td>NaN</td>\n",
              "      <td>NaN</td>\n",
              "      <td>NaN</td>\n",
              "      <td>NaN</td>\n",
              "      <td>NaN</td>\n",
              "      <td>NaN</td>\n",
              "      <td>NaN</td>\n",
              "      <td>NaN</td>\n",
              "      <td>NaN</td>\n",
              "      <td>NaN</td>\n",
              "      <td>NaN</td>\n",
              "      <td>2017</td>\n",
              "      <td>11</td>\n",
              "      <td>30</td>\n",
              "      <td>18699.0</td>\n",
              "      <td>18966.0</td>\n",
              "      <td>19529.0</td>\n",
              "      <td>0.006600</td>\n",
              "      <td>0.010012</td>\n",
              "      <td>0.879737</td>\n",
              "      <td>0.302797</td>\n",
              "      <td>0.037303</td>\n",
              "      <td>0.681949</td>\n",
              "      <td>0.017276</td>\n",
              "      <td>0.982344</td>\n",
              "    </tr>\n",
              "    <tr>\n",
              "      <th>4</th>\n",
              "      <td>2987004</td>\n",
              "      <td>50.0</td>\n",
              "      <td>H</td>\n",
              "      <td>4497</td>\n",
              "      <td>514.0</td>\n",
              "      <td>150.0</td>\n",
              "      <td>mastercard</td>\n",
              "      <td>102.0</td>\n",
              "      <td>credit</td>\n",
              "      <td>420.0</td>\n",
              "      <td>87.0</td>\n",
              "      <td>NaN</td>\n",
              "      <td>NaN</td>\n",
              "      <td>gmail.com</td>\n",
              "      <td>NaN</td>\n",
              "      <td>1.0</td>\n",
              "      <td>1.0</td>\n",
              "      <td>0.0</td>\n",
              "      <td>0.0</td>\n",
              "      <td>0.0</td>\n",
              "      <td>1.0</td>\n",
              "      <td>0.0</td>\n",
              "      <td>1.0</td>\n",
              "      <td>0.0</td>\n",
              "      <td>1.0</td>\n",
              "      <td>1.0</td>\n",
              "      <td>0.0</td>\n",
              "      <td>1.0</td>\n",
              "      <td>1.0</td>\n",
              "      <td>0.0</td>\n",
              "      <td>NaN</td>\n",
              "      <td>NaN</td>\n",
              "      <td>NaN</td>\n",
              "      <td>NaN</td>\n",
              "      <td>NaN</td>\n",
              "      <td>NaN</td>\n",
              "      <td>NaN</td>\n",
              "      <td>NaN</td>\n",
              "      <td>NaN</td>\n",
              "      <td>NaN</td>\n",
              "      <td>...</td>\n",
              "      <td>0.0</td>\n",
              "      <td>0.0</td>\n",
              "      <td>0.0</td>\n",
              "      <td>0.0</td>\n",
              "      <td>0.0</td>\n",
              "      <td>0.0</td>\n",
              "      <td>0.0</td>\n",
              "      <td>0.0</td>\n",
              "      <td>0.0</td>\n",
              "      <td>0.0</td>\n",
              "      <td>0.0</td>\n",
              "      <td>0.0</td>\n",
              "      <td>0.0</td>\n",
              "      <td>0.0</td>\n",
              "      <td>0.0</td>\n",
              "      <td>0.0</td>\n",
              "      <td>0.0</td>\n",
              "      <td>0.0</td>\n",
              "      <td>0.0</td>\n",
              "      <td>0.0</td>\n",
              "      <td>0.0</td>\n",
              "      <td>0.0</td>\n",
              "      <td>0.0</td>\n",
              "      <td>0.0</td>\n",
              "      <td>0.0</td>\n",
              "      <td>0.0</td>\n",
              "      <td>2017</td>\n",
              "      <td>11</td>\n",
              "      <td>30</td>\n",
              "      <td>5011.0</td>\n",
              "      <td>5263.0</td>\n",
              "      <td>5770.0</td>\n",
              "      <td>0.000011</td>\n",
              "      <td>0.030836</td>\n",
              "      <td>0.879737</td>\n",
              "      <td>0.302797</td>\n",
              "      <td>0.054723</td>\n",
              "      <td>0.317951</td>\n",
              "      <td>0.007810</td>\n",
              "      <td>0.982344</td>\n",
              "    </tr>\n",
              "  </tbody>\n",
              "</table>\n",
              "<p>5 rows × 406 columns</p>\n",
              "</div>"
            ],
            "text/plain": [
              "   TransactionID  TransactionAmt  ... addr1_frequency  addr2_frequency\n",
              "0        2987000            68.5  ...        0.042773         0.982344\n",
              "1        2987001            29.0  ...        0.080004         0.982344\n",
              "2        2987002            59.0  ...        0.046205         0.982344\n",
              "3        2987003            50.0  ...        0.017276         0.982344\n",
              "4        2987004            50.0  ...        0.007810         0.982344\n",
              "\n",
              "[5 rows x 406 columns]"
            ]
          },
          "metadata": {
            "tags": []
          },
          "execution_count": 35
        }
      ]
    },
    {
      "cell_type": "code",
      "metadata": {
        "colab": {
          "base_uri": "https://localhost:8080/"
        },
        "id": "IlVbgeRlEY1o",
        "outputId": "03719568-3d55-4c44-b9d5-e09b21932401"
      },
      "source": [
        "x_train3, x_valid3 = train_test_split(X,train_size=0.7,shuffle=True,random_state = 1,)\n",
        "y_train3, y_valid3 = train_test_split(Y,train_size=0.7, shuffle=True, random_state=1,)\n",
        "dtrain3 = lgb.Dataset(data=x_train3, label=y_train3)\n",
        "dvalid3 = lgb.Dataset(data=x_valid3, label=y_valid3)\n",
        "\n",
        "model3 = lgb.train(\n",
        "      params=params,\n",
        "      train_set=dtrain3,\n",
        "      num_boost_round=200,\n",
        "      valid_sets=[dtrain3, dvalid3],\n",
        "      categorical_feature=\"auto\",\n",
        "      early_stopping_rounds=50,\n",
        "      verbose_eval=10\n",
        "        )\n"
      ],
      "execution_count": 36,
      "outputs": [
        {
          "output_type": "stream",
          "text": [
            "Training until validation scores don't improve for 50 rounds.\n",
            "[10]\ttraining's auc: 0.862731\tvalid_1's auc: 0.835382\n",
            "[20]\ttraining's auc: 0.88699\tvalid_1's auc: 0.852141\n",
            "[30]\ttraining's auc: 0.900816\tvalid_1's auc: 0.865044\n",
            "[40]\ttraining's auc: 0.907569\tvalid_1's auc: 0.873397\n",
            "[50]\ttraining's auc: 0.917337\tvalid_1's auc: 0.881773\n",
            "[60]\ttraining's auc: 0.921285\tvalid_1's auc: 0.88334\n",
            "[70]\ttraining's auc: 0.93106\tvalid_1's auc: 0.890855\n",
            "[80]\ttraining's auc: 0.937211\tvalid_1's auc: 0.897608\n",
            "[90]\ttraining's auc: 0.943129\tvalid_1's auc: 0.90285\n",
            "[100]\ttraining's auc: 0.947839\tvalid_1's auc: 0.906082\n",
            "[110]\ttraining's auc: 0.952238\tvalid_1's auc: 0.909784\n",
            "[120]\ttraining's auc: 0.955148\tvalid_1's auc: 0.911963\n",
            "[130]\ttraining's auc: 0.95722\tvalid_1's auc: 0.914053\n",
            "[140]\ttraining's auc: 0.95904\tvalid_1's auc: 0.915638\n",
            "[150]\ttraining's auc: 0.96087\tvalid_1's auc: 0.917047\n",
            "[160]\ttraining's auc: 0.96297\tvalid_1's auc: 0.918904\n",
            "[170]\ttraining's auc: 0.964462\tvalid_1's auc: 0.920106\n",
            "[180]\ttraining's auc: 0.965633\tvalid_1's auc: 0.921308\n",
            "[190]\ttraining's auc: 0.966895\tvalid_1's auc: 0.92241\n",
            "[200]\ttraining's auc: 0.968186\tvalid_1's auc: 0.923476\n",
            "Did not meet early stopping. Best iteration is:\n",
            "[200]\ttraining's auc: 0.968186\tvalid_1's auc: 0.923476\n"
          ],
          "name": "stdout"
        }
      ]
    },
    {
      "cell_type": "code",
      "metadata": {
        "id": "uWj3f4BscIaY"
      },
      "source": [
        "liderboard_score3 = roc_auc_score(Y, model3.predict(X))\n",
        "train_score3 = roc_auc_score(y_train3, model3.predict(x_train3))\n",
        "valid_score3 = roc_auc_score(y_valid3, model3.predict(x_valid3))"
      ],
      "execution_count": 37,
      "outputs": []
    },
    {
      "cell_type": "markdown",
      "metadata": {
        "id": "lny5SzKH5Kvd"
      },
      "source": [
        "### Задание 4: Создать признаки на основе отношения: TransactionAmt к вычисленной статистике. Статистика - среднее значение / стандартное отклонение TransactionAmt, сгруппированное по card1 - card6, addr1, addr2, и по признакам, созданным в задании 2."
      ]
    },
    {
      "cell_type": "code",
      "metadata": {
        "id": "booGvNtLNMr9"
      },
      "source": [
        "features = ['card1', 'card2','card3','card4','card5','card6', 'addr1', 'addr2','card1_2_3_5','card1_2','card1_2_3_5_addr1_2']"
      ],
      "execution_count": 38,
      "outputs": []
    },
    {
      "cell_type": "code",
      "metadata": {
        "id": "FbnmWgCXNYsj"
      },
      "source": [
        "def std_features(x,features):\n",
        "    for f in features:\n",
        "        name = f'{f}_Std'\n",
        "        X[name] = X[f].map(X.groupby([f])['TransactionAmt'].std())\n",
        "        return X\n",
        "\n",
        "def mean_features(x,features):\n",
        "    for f in features:\n",
        "        name = f'{f}_Mean'\n",
        "        X[name] = X[f].map(X.groupby([f])['TransactionAmt'].mean())\n",
        "        return X\n"
      ],
      "execution_count": 39,
      "outputs": []
    },
    {
      "cell_type": "code",
      "metadata": {
        "id": "dFGOsl30PxUg"
      },
      "source": [
        "X = std_features(X, features)\n",
        "X = mean_features(X, features)"
      ],
      "execution_count": 40,
      "outputs": []
    },
    {
      "cell_type": "markdown",
      "metadata": {
        "id": "84MOt0xvbyyB"
      },
      "source": [
        "Just to check"
      ]
    },
    {
      "cell_type": "code",
      "metadata": {
        "colab": {
          "base_uri": "https://localhost:8080/"
        },
        "id": "02cD9nzOMvmg",
        "outputId": "740d6e3a-4324-4cdd-f844-b1a0847d0550"
      },
      "source": [
        "X['card1_Mean']"
      ],
      "execution_count": 41,
      "outputs": [
        {
          "output_type": "execute_result",
          "data": {
            "text/plain": [
              "0         193.227273\n",
              "1         229.588080\n",
              "2          88.574163\n",
              "3         112.887660\n",
              "4          40.000000\n",
              "             ...    \n",
              "179995     58.534000\n",
              "179996    146.116966\n",
              "179997    166.518073\n",
              "179998     49.400000\n",
              "179999    238.074385\n",
              "Name: card1_Mean, Length: 180000, dtype: float64"
            ]
          },
          "metadata": {
            "tags": []
          },
          "execution_count": 41
        }
      ]
    },
    {
      "cell_type": "code",
      "metadata": {
        "colab": {
          "base_uri": "https://localhost:8080/"
        },
        "id": "rDBD95fLb2ee",
        "outputId": "ecad6906-a4dc-4d7a-a081-56b38f8f3be6"
      },
      "source": [
        "x_train4, x_valid4 = train_test_split(X,train_size=0.7,shuffle=True,random_state = 1,)\n",
        "y_train4, y_valid4 = train_test_split(Y,train_size=0.7, shuffle=True, random_state=1,)\n",
        "dtrain4 = lgb.Dataset(data=x_train4, label=y_train4)\n",
        "dvalid4 = lgb.Dataset(data=x_valid4, label=y_valid4)\n",
        "\n",
        "model4 = lgb.train(\n",
        "      params=params,\n",
        "      train_set=dtrain4,\n",
        "      num_boost_round=200,\n",
        "      valid_sets=[dtrain4, dvalid4],\n",
        "      categorical_feature=\"auto\",\n",
        "      early_stopping_rounds=50,\n",
        "      verbose_eval=10\n",
        "        )\n"
      ],
      "execution_count": 42,
      "outputs": [
        {
          "output_type": "stream",
          "text": [
            "Training until validation scores don't improve for 50 rounds.\n",
            "[10]\ttraining's auc: 0.862731\tvalid_1's auc: 0.835382\n",
            "[20]\ttraining's auc: 0.885446\tvalid_1's auc: 0.851243\n",
            "[30]\ttraining's auc: 0.900488\tvalid_1's auc: 0.864626\n",
            "[40]\ttraining's auc: 0.905145\tvalid_1's auc: 0.870206\n",
            "[50]\ttraining's auc: 0.914813\tvalid_1's auc: 0.87863\n",
            "[60]\ttraining's auc: 0.917588\tvalid_1's auc: 0.879687\n",
            "[70]\ttraining's auc: 0.925924\tvalid_1's auc: 0.884811\n",
            "[80]\ttraining's auc: 0.938727\tvalid_1's auc: 0.899986\n",
            "[90]\ttraining's auc: 0.943518\tvalid_1's auc: 0.904482\n",
            "[100]\ttraining's auc: 0.948028\tvalid_1's auc: 0.907061\n",
            "[110]\ttraining's auc: 0.95206\tvalid_1's auc: 0.910226\n",
            "[120]\ttraining's auc: 0.954719\tvalid_1's auc: 0.912134\n",
            "[130]\ttraining's auc: 0.956786\tvalid_1's auc: 0.91348\n",
            "[140]\ttraining's auc: 0.958932\tvalid_1's auc: 0.916141\n",
            "[150]\ttraining's auc: 0.96086\tvalid_1's auc: 0.918209\n",
            "[160]\ttraining's auc: 0.962949\tvalid_1's auc: 0.919622\n",
            "[170]\ttraining's auc: 0.964276\tvalid_1's auc: 0.920471\n",
            "[180]\ttraining's auc: 0.965682\tvalid_1's auc: 0.921394\n",
            "[190]\ttraining's auc: 0.966912\tvalid_1's auc: 0.922313\n",
            "[200]\ttraining's auc: 0.968352\tvalid_1's auc: 0.923446\n",
            "Did not meet early stopping. Best iteration is:\n",
            "[200]\ttraining's auc: 0.968352\tvalid_1's auc: 0.923446\n"
          ],
          "name": "stdout"
        }
      ]
    },
    {
      "cell_type": "code",
      "metadata": {
        "id": "UXwruRIPc3eK"
      },
      "source": [
        "liderboard_score4 = roc_auc_score(Y, model4.predict(X))\n"
      ],
      "execution_count": 43,
      "outputs": []
    },
    {
      "cell_type": "code",
      "metadata": {
        "id": "ZJHy6tQqcOeU"
      },
      "source": [
        "train_score4 = roc_auc_score(y_train4, model4.predict(x_train4))\n",
        "valid_score4 = roc_auc_score(y_valid4, model4.predict(x_valid4))"
      ],
      "execution_count": 44,
      "outputs": []
    },
    {
      "cell_type": "markdown",
      "metadata": {
        "id": "OW4K_1Kd5cRl"
      },
      "source": [
        "### Задание 5: Создать признаки на основе отношения: D15 к вычисленной статистике. Статистика - среднее значение / стандартное отклонение D15, сгруппированное по card1 - card6, addr1, addr2, и по признакам, созданным в задании 2."
      ]
    },
    {
      "cell_type": "code",
      "metadata": {
        "id": "_XXRfOC1ScID"
      },
      "source": [
        "def std_features_D15(x):\n",
        "    for f in features:\n",
        "        name = f'{f}_D15_Std'\n",
        "        X[name] = X[f].map(X.groupby([f])['D15'].std())\n",
        "        return X\n",
        "\n",
        "def mean_features_D15(x):\n",
        "    for f in features:\n",
        "        name = f'{f}_D15_Mean'\n",
        "        X[name] = X[f].map(X.groupby([f])['D15'].mean())\n",
        "        return X\n"
      ],
      "execution_count": 45,
      "outputs": []
    },
    {
      "cell_type": "code",
      "metadata": {
        "id": "Y0fH7JjIeVdo"
      },
      "source": [
        "X = std_features(X, features)\n",
        "X = mean_features(X, features)"
      ],
      "execution_count": 46,
      "outputs": []
    },
    {
      "cell_type": "code",
      "metadata": {
        "colab": {
          "base_uri": "https://localhost:8080/"
        },
        "id": "0sCHx3bYeVdp",
        "outputId": "b728fbb2-be55-437b-e945-6e1d03c29eeb"
      },
      "source": [
        "x_train5, x_valid5 = train_test_split(X,train_size=0.7,shuffle=True,random_state = 1,)\n",
        "y_train5, y_valid5 = train_test_split(Y,train_size=0.7, shuffle=True, random_state=1,)\n",
        "dtrain5 = lgb.Dataset(data=x_train5, label=y_train5)\n",
        "dvalid5 = lgb.Dataset(data=x_valid5, label=y_valid5)\n",
        "\n",
        "model5 = lgb.train(\n",
        "      params=params,\n",
        "      train_set=dtrain5,\n",
        "      num_boost_round=200,\n",
        "      valid_sets=[dtrain5, dvalid5],\n",
        "      categorical_feature=\"auto\",\n",
        "      early_stopping_rounds=50,\n",
        "      verbose_eval=10\n",
        "        )\n"
      ],
      "execution_count": 47,
      "outputs": [
        {
          "output_type": "stream",
          "text": [
            "Training until validation scores don't improve for 50 rounds.\n",
            "[10]\ttraining's auc: 0.862731\tvalid_1's auc: 0.835382\n",
            "[20]\ttraining's auc: 0.885446\tvalid_1's auc: 0.851243\n",
            "[30]\ttraining's auc: 0.900488\tvalid_1's auc: 0.864626\n",
            "[40]\ttraining's auc: 0.905145\tvalid_1's auc: 0.870206\n",
            "[50]\ttraining's auc: 0.914813\tvalid_1's auc: 0.87863\n",
            "[60]\ttraining's auc: 0.917588\tvalid_1's auc: 0.879687\n",
            "[70]\ttraining's auc: 0.925924\tvalid_1's auc: 0.884811\n",
            "[80]\ttraining's auc: 0.938727\tvalid_1's auc: 0.899986\n",
            "[90]\ttraining's auc: 0.943518\tvalid_1's auc: 0.904482\n",
            "[100]\ttraining's auc: 0.948028\tvalid_1's auc: 0.907061\n",
            "[110]\ttraining's auc: 0.95206\tvalid_1's auc: 0.910226\n",
            "[120]\ttraining's auc: 0.954719\tvalid_1's auc: 0.912134\n",
            "[130]\ttraining's auc: 0.956786\tvalid_1's auc: 0.91348\n",
            "[140]\ttraining's auc: 0.958932\tvalid_1's auc: 0.916141\n",
            "[150]\ttraining's auc: 0.96086\tvalid_1's auc: 0.918209\n",
            "[160]\ttraining's auc: 0.962949\tvalid_1's auc: 0.919622\n",
            "[170]\ttraining's auc: 0.964276\tvalid_1's auc: 0.920471\n",
            "[180]\ttraining's auc: 0.965682\tvalid_1's auc: 0.921394\n",
            "[190]\ttraining's auc: 0.966912\tvalid_1's auc: 0.922313\n",
            "[200]\ttraining's auc: 0.968352\tvalid_1's auc: 0.923446\n",
            "Did not meet early stopping. Best iteration is:\n",
            "[200]\ttraining's auc: 0.968352\tvalid_1's auc: 0.923446\n"
          ],
          "name": "stdout"
        }
      ]
    },
    {
      "cell_type": "code",
      "metadata": {
        "id": "vPrg50QEeVds"
      },
      "source": [
        "liderboard_score4 = roc_auc_score(Y, model5.predict(X))\n"
      ],
      "execution_count": 48,
      "outputs": []
    },
    {
      "cell_type": "code",
      "metadata": {
        "id": "wWlrYAy7eVdt"
      },
      "source": [
        "train_score5 = roc_auc_score(y_train5, model5.predict(x_train5))\n",
        "valid_score5 = roc_auc_score(y_valid5, model5.predict(x_valid5))"
      ],
      "execution_count": 49,
      "outputs": []
    },
    {
      "cell_type": "markdown",
      "metadata": {
        "id": "QhrdcOgS5eO9"
      },
      "source": [
        "### Задание 6: выделить дробную часть и целую часть признака TransactionAmt в два отдельных признака. После создать отдельных признак - логарифм от TransactionAmt"
      ]
    },
    {
      "cell_type": "code",
      "metadata": {
        "id": "qQ20jRJT5beV"
      },
      "source": [
        "def TransactionAmt_Fraction(x):\n",
        "    x = x.copy()\n",
        "    x['TransactionAmt_whole'] = x['TransactionAmt']//1\n",
        "    x['TransactionAmt_frac'] = x['TransactionAmt']%1\n",
        "    x['TransactionAmt_log'] = np.log(x['TransactionAmt'])\n",
        "    return x"
      ],
      "execution_count": 50,
      "outputs": []
    },
    {
      "cell_type": "code",
      "metadata": {
        "id": "JuhDNmZ6e894"
      },
      "source": [
        "X = TransactionAmt_Fraction(X)"
      ],
      "execution_count": 51,
      "outputs": []
    },
    {
      "cell_type": "code",
      "metadata": {
        "colab": {
          "base_uri": "https://localhost:8080/"
        },
        "id": "I_AI8H75fyzv",
        "outputId": "4cd67b86-ced4-42b7-89fd-5888c394bfd2"
      },
      "source": [
        "x_train6, x_valid6 = train_test_split(X,train_size=0.7,shuffle=True,random_state = 1,)\n",
        "y_train6, y_valid6 = train_test_split(Y,train_size=0.7, shuffle=True, random_state=1,)\n",
        "dtrain6 = lgb.Dataset(data=x_train6, label=y_train6)\n",
        "dvalid6 = lgb.Dataset(data=x_valid6, label=y_valid6)\n",
        "\n",
        "model6 = lgb.train(\n",
        "      params=params,\n",
        "      train_set=dtrain6,\n",
        "      num_boost_round=200,\n",
        "      valid_sets=[dtrain6, dvalid6],\n",
        "      categorical_feature=\"auto\",\n",
        "      early_stopping_rounds=50,\n",
        "      verbose_eval=10\n",
        "        )\n"
      ],
      "execution_count": 52,
      "outputs": [
        {
          "output_type": "stream",
          "text": [
            "Training until validation scores don't improve for 50 rounds.\n",
            "[10]\ttraining's auc: 0.862731\tvalid_1's auc: 0.835382\n",
            "[20]\ttraining's auc: 0.885446\tvalid_1's auc: 0.851243\n",
            "[30]\ttraining's auc: 0.900487\tvalid_1's auc: 0.864626\n",
            "[40]\ttraining's auc: 0.905145\tvalid_1's auc: 0.870206\n",
            "[50]\ttraining's auc: 0.914813\tvalid_1's auc: 0.87863\n",
            "[60]\ttraining's auc: 0.917583\tvalid_1's auc: 0.879566\n",
            "[70]\ttraining's auc: 0.930138\tvalid_1's auc: 0.892567\n",
            "[80]\ttraining's auc: 0.93733\tvalid_1's auc: 0.899611\n",
            "[90]\ttraining's auc: 0.943048\tvalid_1's auc: 0.904679\n",
            "[100]\ttraining's auc: 0.947219\tvalid_1's auc: 0.907507\n",
            "[110]\ttraining's auc: 0.951759\tvalid_1's auc: 0.910721\n",
            "[120]\ttraining's auc: 0.954352\tvalid_1's auc: 0.912088\n",
            "[130]\ttraining's auc: 0.956587\tvalid_1's auc: 0.913994\n",
            "[140]\ttraining's auc: 0.958711\tvalid_1's auc: 0.91509\n",
            "[150]\ttraining's auc: 0.96063\tvalid_1's auc: 0.917052\n",
            "[160]\ttraining's auc: 0.962612\tvalid_1's auc: 0.918355\n",
            "[170]\ttraining's auc: 0.964308\tvalid_1's auc: 0.92\n",
            "[180]\ttraining's auc: 0.965566\tvalid_1's auc: 0.920951\n",
            "[190]\ttraining's auc: 0.966913\tvalid_1's auc: 0.9219\n",
            "[200]\ttraining's auc: 0.968199\tvalid_1's auc: 0.922987\n",
            "Did not meet early stopping. Best iteration is:\n",
            "[200]\ttraining's auc: 0.968199\tvalid_1's auc: 0.922987\n"
          ],
          "name": "stdout"
        }
      ]
    },
    {
      "cell_type": "code",
      "metadata": {
        "id": "BS6Efb2kiSB6"
      },
      "source": [
        "train_score6 = roc_auc_score(y_train6, model6.predict(x_train6))\n",
        "valid_score6 = roc_auc_score(y_valid6, model6.predict(x_valid6))"
      ],
      "execution_count": 53,
      "outputs": []
    },
    {
      "cell_type": "code",
      "metadata": {
        "id": "shnj_jTiiw7c"
      },
      "source": [
        ""
      ],
      "execution_count": 53,
      "outputs": []
    },
    {
      "cell_type": "markdown",
      "metadata": {
        "id": "z5xfcBVLjGpl"
      },
      "source": [
        "And compare"
      ]
    },
    {
      "cell_type": "code",
      "metadata": {
        "id": "kAnS6lKxjfkM"
      },
      "source": [
        "from sklearn.metrics import roc_curve\n",
        "\n",
        "fpr, tpr, _ = roc_curve(\n",
        "    y_train, model.predict(x_train)\n",
        ")\n",
        "fpr1, tpr1, _ = roc_curve(\n",
        "    y_train1, model1.predict(x_train1)\n",
        ")\n",
        "fpr2, tpr2, _ = roc_curve(\n",
        "    y_train2, model2.predict(x_train2)\n",
        ")\n",
        "fpr3, tpr3, _ = roc_curve(\n",
        "    y_train3, model3.predict(x_train3)\n",
        ")\n",
        "\n",
        "fpr4, tpr4, _ = roc_curve(\n",
        "    y_train4, model4.predict(x_train4)\n",
        ")\n",
        "\n",
        "\n",
        "fpr5, tpr5, _ = roc_curve(\n",
        "    y_train5, model5.predict(x_train5)\n",
        ")\n",
        "\n",
        "\n",
        "fpr6, tpr6, _ = roc_curve(\n",
        "    y_train6, model6.predict(x_train6)\n",
        ")\n",
        "\n",
        "\n",
        "fpr6, tpr6, _ = roc_curve(\n",
        "    y_train6, model6.predict(x_train6)\n",
        ")\n",
        "\n"
      ],
      "execution_count": 54,
      "outputs": []
    },
    {
      "cell_type": "code",
      "metadata": {
        "colab": {
          "base_uri": "https://localhost:8080/",
          "height": 903
        },
        "id": "cemA2zmojOOS",
        "outputId": "58fef3e7-497e-426b-9532-fcefd0f26331"
      },
      "source": [
        "fig = plt.figure(figsize=(15, 15))\n",
        "plt.plot(fpr, tpr, linewidth=3, color=\"red\", label=\"model\")\n",
        "plt.plot(fpr1, tpr1, linewidth=3, color=\"yellow\", label=\"model1\")\n",
        "plt.plot(fpr2, tpr2, linewidth=3, color=\"green\", label=\"model2\")\n",
        "plt.plot(fpr3, tpr3, linewidth=3, color=\"blue\", label=\"model3\")\n",
        "plt.plot(fpr4, tpr4, linewidth=3, color=\"orange\", label=\"model4\")\n",
        "plt.plot(fpr5, tpr5, linewidth=3, color=\"black\", label=\"model5\")\n",
        "plt.plot(fpr6, tpr6, linewidth=3, color=\"pink\", label=\"model6\")\n",
        "plt.plot([0, 1], [0, 1], linestyle=\"--\", color=\"black\", alpha=0.25)\n",
        "plt.xlabel(\"FPR\", size=15)\n",
        "plt.ylabel(\"TPR\", size=15)\n",
        "plt.legend(loc=\"best\")\n",
        "plt.xlim(0, 1)\n",
        "plt.ylim(0, 1)"
      ],
      "execution_count": 59,
      "outputs": [
        {
          "output_type": "execute_result",
          "data": {
            "text/plain": [
              "(0.0, 1.0)"
            ]
          },
          "metadata": {
            "tags": []
          },
          "execution_count": 59
        },
        {
          "output_type": "display_data",
          "data": {
            "image/png": "[encoded data removed]",
            "text/plain": [
              "<Figure size 1080x1080 with 1 Axes>"
            ]
          },
          "metadata": {
            "tags": [],
            "needs_background": "light"
          }
        }
      ]
    },
    {
      "cell_type": "markdown",
      "metadata": {
        "id": "VIlHymPFpW59"
      },
      "source": [
        "##According to chart results of model2, model3,model4,model5,model6 are better then model and model1"
      ]
    },
    {
      "cell_type": "code",
      "metadata": {
        "colab": {
          "base_uri": "https://localhost:8080/"
        },
        "id": "cqzUpuxznP7h",
        "outputId": "91120d02-191a-46d4-c78d-437414acf12a"
      },
      "source": [
        "print(f'Модель:   {train_score} {valid_score}') \n",
        "print(f'Модель 1: {train_score1} {valid_score1}') \n",
        "print(f'Модель 2: {train_score2} {valid_score2}') \n",
        "print(f'Модель 3: {train_score3} {valid_score3}') \n",
        "print(f'Модель 4: {train_score4} {valid_score4}') \n",
        "print(f'Модель 5: {train_score5} {valid_score5}')\n",
        "print(f'Модель 6: {train_score6} {valid_score6}') "
      ],
      "execution_count": 56,
      "outputs": [
        {
          "output_type": "stream",
          "text": [
            "Модель:   0.9226391610117767 0.9051411598187495\n",
            "Модель 1: 0.923678307821754 0.9048242644022177\n",
            "Модель 2: 0.9663715156983425 0.9213519543088451\n",
            "Модель 3: 0.9681856851494823 0.9234763770927892\n",
            "Модель 4: 0.9683519555370956 0.9234458934491397\n",
            "Модель 5: 0.9683519555370956 0.9234458934491397\n",
            "Модель 6: 0.9681991903847054 0.9229873317241288\n"
          ],
          "name": "stdout"
        }
      ]
    },
    {
      "cell_type": "markdown",
      "metadata": {
        "id": "8QXNzlQ-yZhA"
      },
      "source": [
        "## Я бы сказал, что модель 3 лучше, так как результат на валидационной и тренировочной выборках ближе к друг другу\n",
        "\n",
        "I would said that now model3 shows the best result"
      ]
    }
  ]
}