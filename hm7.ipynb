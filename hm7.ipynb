{
  "nbformat": 4,
  "nbformat_minor": 0,
  "metadata": {
    "colab": {
      "name": "hm7.ipynb",
      "provenance": [],
      "collapsed_sections": [],
      "mount_file_id": "1OAkYzL2mCrZPXRjzNpqRCqvQHeog1mvK",
      "authorship_tag": "ABX9TyOdzZx4EfoJ4fGxOiqhWWXd",
      "include_colab_link": true
    },
    "kernelspec": {
      "name": "python3",
      "display_name": "Python 3"
    },
    "language_info": {
      "name": "python"
    }
  },
  "cells": [
    {
      "cell_type": "markdown",
      "metadata": {
        "id": "view-in-github",
        "colab_type": "text"
      },
      "source": [
        "<a href=\"https://colab.research.google.com/github/denisakatov/Data-analysis-on-Kaggle/blob/main/hm7.ipynb\" target=\"_parent\"><img src=\"https://colab.research.google.com/assets/colab-badge.svg\" alt=\"Open In Colab\"/></a>"
      ]
    },
    {
      "cell_type": "markdown",
      "metadata": {
        "id": "nHegan9vWohK"
      },
      "source": [
        "В работе"
      ]
    },
    {
      "cell_type": "code",
      "metadata": {
        "id": "lV2CEELSmyg-"
      },
      "source": [
        "import time\n",
        "import numpy as np\n",
        "import pandas as pd\n",
        "import seaborn as sns\n",
        "import xgboost as xgb\n",
        "import lightgbm as lgb\n",
        "import matplotlib.pyplot as plt\n",
        "\n",
        "from tqdm import tqdm\n",
        "from scipy.stats import gmean, rankdata\n",
        "from sklearn.metrics import roc_auc_score\n",
        "from sklearn.model_selection import train_test_split, KFold"
      ],
      "execution_count": 1,
      "outputs": []
    },
    {
      "cell_type": "code",
      "metadata": {
        "id": "SLnVtFI1Wm_0"
      },
      "source": [
        "applications_history = pd.read_csv('/content/drive/MyDrive/Colab_Notebooks/Kaggle /7/applications_history.csv')\n",
        "bki = pd.read_csv('/content/drive/MyDrive/Colab_Notebooks/Kaggle /7/bki.csv')\n",
        "client_profile = pd.read_csv('/content/drive/MyDrive/Colab_Notebooks/Kaggle /7/client_profile.csv')\n",
        "payments = pd.read_csv('/content/drive/MyDrive/Colab_Notebooks/Kaggle /7/payments.csv')\n",
        "sample_submit = pd.read_csv('/content/drive/MyDrive/Colab_Notebooks/Kaggle /7/sample_submit.csv')\n"
      ],
      "execution_count": 2,
      "outputs": []
    },
    {
      "cell_type": "code",
      "metadata": {
        "colab": {
          "base_uri": "https://localhost:8080/"
        },
        "id": "NY2huJeeNM26",
        "outputId": "debc14b9-24e7-419f-ec78-66e6c2e4af9b"
      },
      "source": [
        "data = pd.read_csv(\"/content/drive/MyDrive/Colab_Notebooks/Kaggle /7/train.csv\")\n",
        "\n",
        "test = pd.read_csv(\"/content/drive/MyDrive/Colab_Notebooks/Kaggle /7/test.csv\")\n",
        "print(\"data.shape = {} rows, {} cols\".format(*data.shape))"
      ],
      "execution_count": 3,
      "outputs": [
        {
          "output_type": "stream",
          "text": [
            "data.shape = 110093 rows, 3 cols\n"
          ],
          "name": "stdout"
        }
      ]
    },
    {
      "cell_type": "code",
      "metadata": {
        "id": "7yCKAvbxqOL2"
      },
      "source": [
        "train = pd.concat([data, test], axis=0).reset_index(drop=True)\n",
        "# train = pd.get_dummies(train, columns=categorical)\n",
        "\n",
        "# data_ohe = train.loc[:data.shape[0]-1]\n",
        "# test_ohe = train.loc[data.shape[0]:]"
      ],
      "execution_count": 4,
      "outputs": []
    },
    {
      "cell_type": "code",
      "metadata": {
        "id": "1USA0IChPS1H"
      },
      "source": [
        "data = data.merge(client_profile, on='APPLICATION_NUMBER', how='left')"
      ],
      "execution_count": 5,
      "outputs": []
    },
    {
      "cell_type": "code",
      "metadata": {
        "id": "O2F4utyDksMJ"
      },
      "source": [
        "categorical = data.dtypes[data.dtypes == \"object\"].index\n",
        "numerical = list(set(data.columns) - set(categorical))\n",
        "data[numerical] = data[numerical].astype(float)\n",
        "data[categorical] = data[categorical].astype('category')"
      ],
      "execution_count": 6,
      "outputs": []
    },
    {
      "cell_type": "code",
      "metadata": {
        "colab": {
          "base_uri": "https://localhost:8080/",
          "height": 117
        },
        "id": "4dx-ar1qyKqR",
        "outputId": "feee13bf-892e-4adc-83b0-f6f34d03f4b2"
      },
      "source": [
        "data.head(1)"
      ],
      "execution_count": 7,
      "outputs": [
        {
          "output_type": "execute_result",
          "data": {
            "text/html": [
              "<div>\n",
              "<style scoped>\n",
              "    .dataframe tbody tr th:only-of-type {\n",
              "        vertical-align: middle;\n",
              "    }\n",
              "\n",
              "    .dataframe tbody tr th {\n",
              "        vertical-align: top;\n",
              "    }\n",
              "\n",
              "    .dataframe thead th {\n",
              "        text-align: right;\n",
              "    }\n",
              "</style>\n",
              "<table border=\"1\" class=\"dataframe\">\n",
              "  <thead>\n",
              "    <tr style=\"text-align: right;\">\n",
              "      <th></th>\n",
              "      <th>APPLICATION_NUMBER</th>\n",
              "      <th>TARGET</th>\n",
              "      <th>NAME_CONTRACT_TYPE</th>\n",
              "      <th>GENDER</th>\n",
              "      <th>CHILDRENS</th>\n",
              "      <th>TOTAL_SALARY</th>\n",
              "      <th>AMOUNT_CREDIT</th>\n",
              "      <th>AMOUNT_ANNUITY</th>\n",
              "      <th>EDUCATION_LEVEL</th>\n",
              "      <th>FAMILY_STATUS</th>\n",
              "      <th>REGION_POPULATION</th>\n",
              "      <th>AGE</th>\n",
              "      <th>DAYS_ON_LAST_JOB</th>\n",
              "      <th>OWN_CAR_AGE</th>\n",
              "      <th>FLAG_PHONE</th>\n",
              "      <th>FLAG_EMAIL</th>\n",
              "      <th>FAMILY_SIZE</th>\n",
              "      <th>EXTERNAL_SCORING_RATING_1</th>\n",
              "      <th>EXTERNAL_SCORING_RATING_2</th>\n",
              "      <th>EXTERNAL_SCORING_RATING_3</th>\n",
              "      <th>AMT_REQ_CREDIT_BUREAU_HOUR</th>\n",
              "      <th>AMT_REQ_CREDIT_BUREAU_DAY</th>\n",
              "      <th>AMT_REQ_CREDIT_BUREAU_WEEK</th>\n",
              "      <th>AMT_REQ_CREDIT_BUREAU_MON</th>\n",
              "      <th>AMT_REQ_CREDIT_BUREAU_QRT</th>\n",
              "      <th>AMT_REQ_CREDIT_BUREAU_YEAR</th>\n",
              "    </tr>\n",
              "  </thead>\n",
              "  <tbody>\n",
              "    <tr>\n",
              "      <th>0</th>\n",
              "      <td>123687442.0</td>\n",
              "      <td>0.0</td>\n",
              "      <td>Cash</td>\n",
              "      <td>M</td>\n",
              "      <td>1.0</td>\n",
              "      <td>157500.0</td>\n",
              "      <td>855000.0</td>\n",
              "      <td>25128.0</td>\n",
              "      <td>Secondary / secondary special</td>\n",
              "      <td>Married</td>\n",
              "      <td>0.019101</td>\n",
              "      <td>15728.0</td>\n",
              "      <td>1719.0</td>\n",
              "      <td>11.0</td>\n",
              "      <td>0.0</td>\n",
              "      <td>0.0</td>\n",
              "      <td>3.0</td>\n",
              "      <td>0.700784</td>\n",
              "      <td>0.645914</td>\n",
              "      <td>0.71657</td>\n",
              "      <td>0.0</td>\n",
              "      <td>0.0</td>\n",
              "      <td>1.0</td>\n",
              "      <td>0.0</td>\n",
              "      <td>0.0</td>\n",
              "      <td>2.0</td>\n",
              "    </tr>\n",
              "  </tbody>\n",
              "</table>\n",
              "</div>"
            ],
            "text/plain": [
              "   APPLICATION_NUMBER  ...  AMT_REQ_CREDIT_BUREAU_YEAR\n",
              "0         123687442.0  ...                         2.0\n",
              "\n",
              "[1 rows x 26 columns]"
            ]
          },
          "metadata": {
            "tags": []
          },
          "execution_count": 7
        }
      ]
    },
    {
      "cell_type": "code",
      "metadata": {
        "id": "_CBlmbJ7sc5v"
      },
      "source": [
        "def lightgbm_cross_validation(params, X, y, cv, categorical = None):\n",
        "    \"\"\"\n",
        "    Кросс-валидация для модели catbooost.\n",
        "\n",
        "    Parameters\n",
        "    ----------\n",
        "    params: dict\n",
        "        Словарь гиперпараметров модели.\n",
        "\n",
        "    X: pandas.core.frame.DataFrame\n",
        "        Матрица признако для обучения модели.\n",
        "\n",
        "    y: pandas.core.frame.Series\n",
        "        Вектор целевой переменной для обучения модели.\n",
        "\n",
        "    cv: KFold or StratifiedKFold generator.\n",
        "        Объект KFold / StratifiedKFold для определения\n",
        "        стратегии кросс-валидации модели.\n",
        "\n",
        "    categorical: str, optional, default = None\n",
        "        Список категориальных признаков.\n",
        "        Опциональный параметр, по умолчанию, не используется.\n",
        "\n",
        "    Returns\n",
        "    -------\n",
        "    estimators: list\n",
        "        Список с объектами обученной модели.\n",
        "\n",
        "    oof_preds: np.array\n",
        "        Вектор OOF-прогнозов.\n",
        "\n",
        "    \"\"\"\n",
        "    if not categorical:\n",
        "        categorical = \"auto\"\n",
        "\n",
        "    estimators, folds_scores = [], []\n",
        "    oof_preds = np.zeros(X.shape[0])\n",
        "    print(f\"{time.ctime()}, Cross-Validation, {X.shape[0]} rows, {X.shape[1]} cols\")\n",
        "\n",
        "    for fold, (train_idx, valid_idx) in enumerate(cv.split(X, y)):\n",
        "        x_train, x_valid = X.loc[train_idx], X.loc[valid_idx]\n",
        "        y_train, y_valid = y[train_idx], y[valid_idx]\n",
        "\n",
        "        model = lgb.LGBMClassifier(**params)\n",
        "        model.fit(\n",
        "            x_train, y_train,\n",
        "            eval_set=[(x_valid, y_valid)],\n",
        "            eval_metric=\"auc\", verbose=50, early_stopping_rounds=5000,\n",
        "            categorical_feature=categorical\n",
        "        )\n",
        "        oof_preds[valid_idx] = model.predict_proba(x_valid)[:, 1]\n",
        "        score = roc_auc_score(y_valid, oof_preds[valid_idx])\n",
        "        print(f\"Fold {fold+1}, Valid score = {round(score, 5)}\")\n",
        "        folds_scores.append(round(score, 5))\n",
        "        estimators.append(model)\n",
        "\n",
        "    print(f\"Score by each fold: {folds_scores}\")\n",
        "    print(\"=\"*65)\n",
        "    return estimators, oof_preds\n",
        "\n",
        "\n",
        "def xgboost_cross_validation(params, X, y, cv, categorical = None):\n",
        "    \"\"\"\n",
        "    Кросс-валидация для модели catbooost.\n",
        "\n",
        "    Parameters\n",
        "    ----------\n",
        "    params: dict\n",
        "        Словарь гиперпараметров модели.\n",
        "\n",
        "    X: pandas.core.frame.DataFrame\n",
        "        Матрица признако для обучения модели.\n",
        "\n",
        "    y: pandas.core.frame.Series\n",
        "        Вектор целевой переменной для обучения модели.\n",
        "\n",
        "    cv: KFold or StratifiedKFold generator.\n",
        "        Объект KFold / StratifiedKFold для определения\n",
        "        стратегии кросс-валидации модели.\n",
        "\n",
        "    categorical: str, optional, default = None\n",
        "        Список категориальных признаков.\n",
        "        Опциональный параметр, по умолчанию, не используется.\n",
        "\n",
        "    Returns\n",
        "    -------\n",
        "    estimators: list\n",
        "        Список с объектами обученной модели.\n",
        "\n",
        "    encoders: dict\n",
        "        Список с объектами LabelEncoders.\n",
        "\n",
        "    oof_preds: np.array\n",
        "        Вектор OOF-прогнозов.\n",
        "\n",
        "    \"\"\"\n",
        "    estimators, encoders = [], {}\n",
        "    oof_preds = np.zeros(X.shape[0])\n",
        "\n",
        "    if categorical:\n",
        "        for feature in categorical:\n",
        "            encoder = LabelEncoder()\n",
        "            X[feature] = encoder.fit_transform(X[feature].astype(\"str\").fillna(\"NA\"))\n",
        "            encoders[feature] = encoder\n",
        "\n",
        "    print(f\"{time.ctime()}, Cross-Validation, {X.shape[0]} rows, {X.shape[1]} cols\")\n",
        "\n",
        "    for fold, (train_idx, valid_idx) in enumerate(cv.split(X, y)):\n",
        "\n",
        "        x_train, x_valid = X.loc[train_idx], X.loc[valid_idx]\n",
        "        y_train, y_valid = y[train_idx], y[valid_idx]\n",
        "        dtrain = xgb.DMatrix(x_train, y_train)\n",
        "        dvalid = xgb.DMatrix(x_valid, y_valid)\n",
        "\n",
        "        model = xgb.train(\n",
        "            params=params,\n",
        "            dtrain=dtrain,\n",
        "            maximize=True,\n",
        "            num_boost_round=10000,\n",
        "            early_stopping_rounds=25,\n",
        "            evals=[(dtrain, \"train\"), (dvalid, \"valid\")],\n",
        "            verbose_eval=10,\n",
        "        )\n",
        "        oof_preds[valid_idx] = model.predict(dvalid)\n",
        "        score = roc_auc_score(y_valid, oof_preds[valid_idx])\n",
        "        print(f\"Fold {fold+1}, Valid score = {round(score, 5)}\")\n",
        "        estimators.append(model)\n",
        "\n",
        "    return estimators, encoders, oof_preds"
      ],
      "execution_count": 8,
      "outputs": []
    },
    {
      "cell_type": "code",
      "metadata": {
        "id": "k0jhqyyFsc5w"
      },
      "source": [
        "lgbm_params = {\n",
        "    'boosting_type': 'gbdt',\n",
        "    'n_estimators': 750,\n",
        "    'learning_rate': 0.005134,\n",
        "    'num_leaves': 54,\n",
        "    'max_depth': 10,\n",
        "    'subsample_for_bin': 240000,\n",
        "    'reg_alpha': 0.436193,\n",
        "    'reg_lambda': 0.479169,\n",
        "    'colsample_bytree': 0.508716,\n",
        "    'min_split_gain': 0.024766,\n",
        "    'subsample': 0.7,\n",
        "    'is_unbalance': False,\n",
        "    'random_state': 42,\n",
        "    'silent': -1,\n",
        "    'verbose': -1\n",
        "}\n",
        "\n",
        "cv = KFold(n_splits=7, random_state=435, shuffle=True)\n",
        "target, data = data[\"TARGET\"], data.drop([\"TARGET\"], axis=1)"
      ],
      "execution_count": 9,
      "outputs": []
    },
    {
      "cell_type": "markdown",
      "metadata": {
        "id": "1UWUQDbrsc5w"
      },
      "source": [
        "## BaseModel"
      ]
    },
    {
      "cell_type": "code",
      "metadata": {
        "id": "b1fKwrw1lQZS"
      },
      "source": [
        "for i in categorical:\n",
        "  data[i] = data[i].astype('category')"
      ],
      "execution_count": 10,
      "outputs": []
    },
    {
      "cell_type": "code",
      "metadata": {
        "id": "rtW5kW9hsc5x",
        "colab": {
          "base_uri": "https://localhost:8080/"
        },
        "outputId": "8c9385f2-bd79-4969-b626-26b5022cc2a6"
      },
      "source": [
        "estimators, oof_preds = lightgbm_cross_validation(\n",
        "    lgbm_params, data, target, cv\n",
        ")"
      ],
      "execution_count": 11,
      "outputs": [
        {
          "output_type": "stream",
          "text": [
            "Sat Apr 17 07:42:40 2021, Cross-Validation, 110093 rows, 25 cols\n",
            "Training until validation scores don't improve for 5000 rounds.\n",
            "[50]\tvalid_0's binary_logloss: 0.273474\tvalid_0's auc: 0.728858\n",
            "[100]\tvalid_0's binary_logloss: 0.26848\tvalid_0's auc: 0.729502\n",
            "[150]\tvalid_0's binary_logloss: 0.264825\tvalid_0's auc: 0.73049\n",
            "[200]\tvalid_0's binary_logloss: 0.261872\tvalid_0's auc: 0.730735\n",
            "[250]\tvalid_0's binary_logloss: 0.259636\tvalid_0's auc: 0.731\n",
            "[300]\tvalid_0's binary_logloss: 0.257932\tvalid_0's auc: 0.731701\n",
            "[350]\tvalid_0's binary_logloss: 0.256646\tvalid_0's auc: 0.732072\n",
            "[400]\tvalid_0's binary_logloss: 0.255612\tvalid_0's auc: 0.732674\n",
            "[450]\tvalid_0's binary_logloss: 0.254797\tvalid_0's auc: 0.733158\n",
            "[500]\tvalid_0's binary_logloss: 0.254145\tvalid_0's auc: 0.733602\n",
            "[550]\tvalid_0's binary_logloss: 0.253569\tvalid_0's auc: 0.73344\n",
            "[600]\tvalid_0's binary_logloss: 0.253133\tvalid_0's auc: 0.73333\n",
            "[650]\tvalid_0's binary_logloss: 0.252822\tvalid_0's auc: 0.73349\n",
            "[700]\tvalid_0's binary_logloss: 0.252529\tvalid_0's auc: 0.733458\n",
            "[750]\tvalid_0's binary_logloss: 0.252291\tvalid_0's auc: 0.733739\n",
            "Did not meet early stopping. Best iteration is:\n",
            "[750]\tvalid_0's binary_logloss: 0.252291\tvalid_0's auc: 0.733739\n",
            "Fold 1, Valid score = 0.73374\n",
            "Training until validation scores don't improve for 5000 rounds.\n",
            "[50]\tvalid_0's binary_logloss: 0.274888\tvalid_0's auc: 0.722834\n",
            "[100]\tvalid_0's binary_logloss: 0.270184\tvalid_0's auc: 0.722815\n",
            "[150]\tvalid_0's binary_logloss: 0.266673\tvalid_0's auc: 0.723136\n",
            "[200]\tvalid_0's binary_logloss: 0.263839\tvalid_0's auc: 0.724221\n",
            "[250]\tvalid_0's binary_logloss: 0.261675\tvalid_0's auc: 0.72518\n",
            "[300]\tvalid_0's binary_logloss: 0.260051\tvalid_0's auc: 0.726095\n",
            "[350]\tvalid_0's binary_logloss: 0.258773\tvalid_0's auc: 0.726911\n",
            "[400]\tvalid_0's binary_logloss: 0.257754\tvalid_0's auc: 0.727491\n",
            "[450]\tvalid_0's binary_logloss: 0.25692\tvalid_0's auc: 0.728328\n",
            "[500]\tvalid_0's binary_logloss: 0.256262\tvalid_0's auc: 0.728933\n",
            "[550]\tvalid_0's binary_logloss: 0.255717\tvalid_0's auc: 0.729449\n",
            "[600]\tvalid_0's binary_logloss: 0.255298\tvalid_0's auc: 0.729551\n",
            "[650]\tvalid_0's binary_logloss: 0.254951\tvalid_0's auc: 0.730496\n",
            "[700]\tvalid_0's binary_logloss: 0.254663\tvalid_0's auc: 0.730295\n",
            "[750]\tvalid_0's binary_logloss: 0.25443\tvalid_0's auc: 0.73048\n",
            "Did not meet early stopping. Best iteration is:\n",
            "[750]\tvalid_0's binary_logloss: 0.25443\tvalid_0's auc: 0.73048\n",
            "Fold 2, Valid score = 0.73048\n",
            "Training until validation scores don't improve for 5000 rounds.\n",
            "[50]\tvalid_0's binary_logloss: 0.27944\tvalid_0's auc: 0.722331\n",
            "[100]\tvalid_0's binary_logloss: 0.274846\tvalid_0's auc: 0.724503\n",
            "[150]\tvalid_0's binary_logloss: 0.271468\tvalid_0's auc: 0.725607\n",
            "[200]\tvalid_0's binary_logloss: 0.268831\tvalid_0's auc: 0.72555\n",
            "[250]\tvalid_0's binary_logloss: 0.26687\tvalid_0's auc: 0.724977\n",
            "[300]\tvalid_0's binary_logloss: 0.265409\tvalid_0's auc: 0.724144\n",
            "[350]\tvalid_0's binary_logloss: 0.264311\tvalid_0's auc: 0.724385\n",
            "[400]\tvalid_0's binary_logloss: 0.263429\tvalid_0's auc: 0.724174\n",
            "[450]\tvalid_0's binary_logloss: 0.2627\tvalid_0's auc: 0.72446\n",
            "[500]\tvalid_0's binary_logloss: 0.262138\tvalid_0's auc: 0.724322\n",
            "[550]\tvalid_0's binary_logloss: 0.261726\tvalid_0's auc: 0.723838\n",
            "[600]\tvalid_0's binary_logloss: 0.261379\tvalid_0's auc: 0.724411\n",
            "[650]\tvalid_0's binary_logloss: 0.261092\tvalid_0's auc: 0.725214\n",
            "[700]\tvalid_0's binary_logloss: 0.260854\tvalid_0's auc: 0.724912\n",
            "[750]\tvalid_0's binary_logloss: 0.260692\tvalid_0's auc: 0.724956\n",
            "Did not meet early stopping. Best iteration is:\n",
            "[750]\tvalid_0's binary_logloss: 0.260692\tvalid_0's auc: 0.724956\n",
            "Fold 3, Valid score = 0.72496\n",
            "Training until validation scores don't improve for 5000 rounds.\n",
            "[50]\tvalid_0's binary_logloss: 0.272424\tvalid_0's auc: 0.699755\n",
            "[100]\tvalid_0's binary_logloss: 0.268324\tvalid_0's auc: 0.701571\n",
            "[150]\tvalid_0's binary_logloss: 0.265324\tvalid_0's auc: 0.703055\n",
            "[200]\tvalid_0's binary_logloss: 0.263039\tvalid_0's auc: 0.703537\n",
            "[250]\tvalid_0's binary_logloss: 0.261388\tvalid_0's auc: 0.70476\n",
            "[300]\tvalid_0's binary_logloss: 0.260134\tvalid_0's auc: 0.704673\n",
            "[350]\tvalid_0's binary_logloss: 0.259173\tvalid_0's auc: 0.705286\n",
            "[400]\tvalid_0's binary_logloss: 0.258448\tvalid_0's auc: 0.705542\n",
            "[450]\tvalid_0's binary_logloss: 0.257934\tvalid_0's auc: 0.705583\n",
            "[500]\tvalid_0's binary_logloss: 0.2575\tvalid_0's auc: 0.706015\n",
            "[550]\tvalid_0's binary_logloss: 0.257177\tvalid_0's auc: 0.705697\n",
            "[600]\tvalid_0's binary_logloss: 0.256955\tvalid_0's auc: 0.705754\n",
            "[650]\tvalid_0's binary_logloss: 0.256783\tvalid_0's auc: 0.706116\n",
            "[700]\tvalid_0's binary_logloss: 0.256641\tvalid_0's auc: 0.706161\n",
            "[750]\tvalid_0's binary_logloss: 0.256548\tvalid_0's auc: 0.706553\n",
            "Did not meet early stopping. Best iteration is:\n",
            "[750]\tvalid_0's binary_logloss: 0.256548\tvalid_0's auc: 0.706553\n",
            "Fold 4, Valid score = 0.70655\n",
            "Training until validation scores don't improve for 5000 rounds.\n",
            "[50]\tvalid_0's binary_logloss: 0.275385\tvalid_0's auc: 0.711339\n",
            "[100]\tvalid_0's binary_logloss: 0.270929\tvalid_0's auc: 0.712585\n",
            "[150]\tvalid_0's binary_logloss: 0.267713\tvalid_0's auc: 0.71322\n",
            "[200]\tvalid_0's binary_logloss: 0.265126\tvalid_0's auc: 0.7147\n",
            "[250]\tvalid_0's binary_logloss: 0.263234\tvalid_0's auc: 0.71495\n",
            "[300]\tvalid_0's binary_logloss: 0.261776\tvalid_0's auc: 0.715226\n",
            "[350]\tvalid_0's binary_logloss: 0.260658\tvalid_0's auc: 0.715309\n",
            "[400]\tvalid_0's binary_logloss: 0.259779\tvalid_0's auc: 0.714575\n",
            "[450]\tvalid_0's binary_logloss: 0.259121\tvalid_0's auc: 0.714809\n",
            "[500]\tvalid_0's binary_logloss: 0.258589\tvalid_0's auc: 0.715612\n",
            "[550]\tvalid_0's binary_logloss: 0.258158\tvalid_0's auc: 0.714888\n",
            "[600]\tvalid_0's binary_logloss: 0.257801\tvalid_0's auc: 0.714964\n",
            "[650]\tvalid_0's binary_logloss: 0.257561\tvalid_0's auc: 0.715356\n",
            "[700]\tvalid_0's binary_logloss: 0.257362\tvalid_0's auc: 0.71591\n",
            "[750]\tvalid_0's binary_logloss: 0.257165\tvalid_0's auc: 0.716132\n",
            "Did not meet early stopping. Best iteration is:\n",
            "[750]\tvalid_0's binary_logloss: 0.257165\tvalid_0's auc: 0.716132\n",
            "Fold 5, Valid score = 0.71613\n",
            "Training until validation scores don't improve for 5000 rounds.\n",
            "[50]\tvalid_0's binary_logloss: 0.275308\tvalid_0's auc: 0.703131\n",
            "[100]\tvalid_0's binary_logloss: 0.270966\tvalid_0's auc: 0.703779\n",
            "[150]\tvalid_0's binary_logloss: 0.267862\tvalid_0's auc: 0.704925\n",
            "[200]\tvalid_0's binary_logloss: 0.26543\tvalid_0's auc: 0.70538\n",
            "[250]\tvalid_0's binary_logloss: 0.263644\tvalid_0's auc: 0.70601\n",
            "[300]\tvalid_0's binary_logloss: 0.262338\tvalid_0's auc: 0.706192\n",
            "[350]\tvalid_0's binary_logloss: 0.261395\tvalid_0's auc: 0.706333\n",
            "[400]\tvalid_0's binary_logloss: 0.260673\tvalid_0's auc: 0.706815\n",
            "[450]\tvalid_0's binary_logloss: 0.260133\tvalid_0's auc: 0.706846\n",
            "[500]\tvalid_0's binary_logloss: 0.259707\tvalid_0's auc: 0.707464\n",
            "[550]\tvalid_0's binary_logloss: 0.259368\tvalid_0's auc: 0.707856\n",
            "[600]\tvalid_0's binary_logloss: 0.259094\tvalid_0's auc: 0.708544\n",
            "[650]\tvalid_0's binary_logloss: 0.25888\tvalid_0's auc: 0.708702\n",
            "[700]\tvalid_0's binary_logloss: 0.258706\tvalid_0's auc: 0.70854\n",
            "[750]\tvalid_0's binary_logloss: 0.25858\tvalid_0's auc: 0.70914\n",
            "Did not meet early stopping. Best iteration is:\n",
            "[750]\tvalid_0's binary_logloss: 0.25858\tvalid_0's auc: 0.70914\n",
            "Fold 6, Valid score = 0.70914\n",
            "Training until validation scores don't improve for 5000 rounds.\n",
            "[50]\tvalid_0's binary_logloss: 0.266958\tvalid_0's auc: 0.705633\n",
            "[100]\tvalid_0's binary_logloss: 0.262867\tvalid_0's auc: 0.707633\n",
            "[150]\tvalid_0's binary_logloss: 0.259798\tvalid_0's auc: 0.710542\n",
            "[200]\tvalid_0's binary_logloss: 0.25739\tvalid_0's auc: 0.711457\n",
            "[250]\tvalid_0's binary_logloss: 0.255626\tvalid_0's auc: 0.712353\n",
            "[300]\tvalid_0's binary_logloss: 0.254255\tvalid_0's auc: 0.714035\n",
            "[350]\tvalid_0's binary_logloss: 0.253246\tvalid_0's auc: 0.714278\n",
            "[400]\tvalid_0's binary_logloss: 0.252454\tvalid_0's auc: 0.714264\n",
            "[450]\tvalid_0's binary_logloss: 0.251855\tvalid_0's auc: 0.71395\n",
            "[500]\tvalid_0's binary_logloss: 0.251423\tvalid_0's auc: 0.714407\n",
            "[550]\tvalid_0's binary_logloss: 0.251032\tvalid_0's auc: 0.714259\n",
            "[600]\tvalid_0's binary_logloss: 0.250749\tvalid_0's auc: 0.713896\n",
            "[650]\tvalid_0's binary_logloss: 0.250513\tvalid_0's auc: 0.714436\n",
            "[700]\tvalid_0's binary_logloss: 0.250312\tvalid_0's auc: 0.715325\n",
            "[750]\tvalid_0's binary_logloss: 0.250163\tvalid_0's auc: 0.714951\n",
            "Did not meet early stopping. Best iteration is:\n",
            "[750]\tvalid_0's binary_logloss: 0.250163\tvalid_0's auc: 0.714951\n",
            "Fold 7, Valid score = 0.71495\n",
            "Score by each fold: [0.73374, 0.73048, 0.72496, 0.70655, 0.71613, 0.70914, 0.71495]\n",
            "=================================================================\n"
          ],
          "name": "stdout"
        }
      ]
    },
    {
      "cell_type": "code",
      "metadata": {
        "id": "3xFCbprMsc5x",
        "colab": {
          "base_uri": "https://localhost:8080/"
        },
        "outputId": "1d29d951-6697-46a5-9d5a-80b0c5ce4d74"
      },
      "source": [
        "score = roc_auc_score(target, oof_preds)\n",
        "print(f\"Score = {round(score, 4)}\")"
      ],
      "execution_count": 12,
      "outputs": [
        {
          "output_type": "stream",
          "text": [
            "Score = 0.7188\n"
          ],
          "name": "stdout"
        }
      ]
    },
    {
      "cell_type": "markdown",
      "metadata": {
        "id": "6aDMSzmRsc5y"
      },
      "source": [
        "## BaseModel + OneHotEncoding"
      ]
    },
    {
      "cell_type": "code",
      "metadata": {
        "id": "Yj5V92Q3sc5y"
      },
      "source": [
        "categorical = [col for col in data.columns if col.endswith(\"_cat\")]\n",
        "\n",
        "train = pd.concat([data, test], axis=0).reset_index(drop=True)\n",
        "train = pd.get_dummies(train, columns=categorical)\n",
        "\n",
        "data_ohe = train.loc[:data.shape[0]-1]\n",
        "test_ohe = train.loc[data.shape[0]:]"
      ],
      "execution_count": 13,
      "outputs": []
    },
    {
      "cell_type": "code",
      "metadata": {
        "id": "DmYXij_pwa3O",
        "colab": {
          "base_uri": "https://localhost:8080/",
          "height": 507
        },
        "outputId": "c06ad6dc-2b4c-475b-ca26-8e56974603b6"
      },
      "source": [
        "data_ohe"
      ],
      "execution_count": 14,
      "outputs": [
        {
          "output_type": "execute_result",
          "data": {
            "text/html": [
              "<div>\n",
              "<style scoped>\n",
              "    .dataframe tbody tr th:only-of-type {\n",
              "        vertical-align: middle;\n",
              "    }\n",
              "\n",
              "    .dataframe tbody tr th {\n",
              "        vertical-align: top;\n",
              "    }\n",
              "\n",
              "    .dataframe thead th {\n",
              "        text-align: right;\n",
              "    }\n",
              "</style>\n",
              "<table border=\"1\" class=\"dataframe\">\n",
              "  <thead>\n",
              "    <tr style=\"text-align: right;\">\n",
              "      <th></th>\n",
              "      <th>APPLICATION_NUMBER</th>\n",
              "      <th>NAME_CONTRACT_TYPE</th>\n",
              "      <th>GENDER</th>\n",
              "      <th>CHILDRENS</th>\n",
              "      <th>TOTAL_SALARY</th>\n",
              "      <th>AMOUNT_CREDIT</th>\n",
              "      <th>AMOUNT_ANNUITY</th>\n",
              "      <th>EDUCATION_LEVEL</th>\n",
              "      <th>FAMILY_STATUS</th>\n",
              "      <th>REGION_POPULATION</th>\n",
              "      <th>AGE</th>\n",
              "      <th>DAYS_ON_LAST_JOB</th>\n",
              "      <th>OWN_CAR_AGE</th>\n",
              "      <th>FLAG_PHONE</th>\n",
              "      <th>FLAG_EMAIL</th>\n",
              "      <th>FAMILY_SIZE</th>\n",
              "      <th>EXTERNAL_SCORING_RATING_1</th>\n",
              "      <th>EXTERNAL_SCORING_RATING_2</th>\n",
              "      <th>EXTERNAL_SCORING_RATING_3</th>\n",
              "      <th>AMT_REQ_CREDIT_BUREAU_HOUR</th>\n",
              "      <th>AMT_REQ_CREDIT_BUREAU_DAY</th>\n",
              "      <th>AMT_REQ_CREDIT_BUREAU_WEEK</th>\n",
              "      <th>AMT_REQ_CREDIT_BUREAU_MON</th>\n",
              "      <th>AMT_REQ_CREDIT_BUREAU_QRT</th>\n",
              "      <th>AMT_REQ_CREDIT_BUREAU_YEAR</th>\n",
              "    </tr>\n",
              "  </thead>\n",
              "  <tbody>\n",
              "    <tr>\n",
              "      <th>0</th>\n",
              "      <td>123687442.0</td>\n",
              "      <td>Cash</td>\n",
              "      <td>M</td>\n",
              "      <td>1.0</td>\n",
              "      <td>157500.0</td>\n",
              "      <td>855000.0</td>\n",
              "      <td>25128.0</td>\n",
              "      <td>Secondary / secondary special</td>\n",
              "      <td>Married</td>\n",
              "      <td>0.019101</td>\n",
              "      <td>15728.0</td>\n",
              "      <td>1719.0</td>\n",
              "      <td>11.0</td>\n",
              "      <td>0.0</td>\n",
              "      <td>0.0</td>\n",
              "      <td>3.0</td>\n",
              "      <td>0.700784</td>\n",
              "      <td>0.645914</td>\n",
              "      <td>0.716570</td>\n",
              "      <td>0.0</td>\n",
              "      <td>0.0</td>\n",
              "      <td>1.0</td>\n",
              "      <td>0.0</td>\n",
              "      <td>0.0</td>\n",
              "      <td>2.0</td>\n",
              "    </tr>\n",
              "    <tr>\n",
              "      <th>1</th>\n",
              "      <td>123597908.0</td>\n",
              "      <td>Cash</td>\n",
              "      <td>NaN</td>\n",
              "      <td>NaN</td>\n",
              "      <td>NaN</td>\n",
              "      <td>NaN</td>\n",
              "      <td>NaN</td>\n",
              "      <td>NaN</td>\n",
              "      <td>NaN</td>\n",
              "      <td>NaN</td>\n",
              "      <td>NaN</td>\n",
              "      <td>NaN</td>\n",
              "      <td>NaN</td>\n",
              "      <td>NaN</td>\n",
              "      <td>NaN</td>\n",
              "      <td>NaN</td>\n",
              "      <td>NaN</td>\n",
              "      <td>NaN</td>\n",
              "      <td>NaN</td>\n",
              "      <td>NaN</td>\n",
              "      <td>NaN</td>\n",
              "      <td>NaN</td>\n",
              "      <td>NaN</td>\n",
              "      <td>NaN</td>\n",
              "      <td>NaN</td>\n",
              "    </tr>\n",
              "    <tr>\n",
              "      <th>2</th>\n",
              "      <td>123526683.0</td>\n",
              "      <td>Cash</td>\n",
              "      <td>F</td>\n",
              "      <td>0.0</td>\n",
              "      <td>135000.0</td>\n",
              "      <td>1006920.0</td>\n",
              "      <td>42660.0</td>\n",
              "      <td>Higher education</td>\n",
              "      <td>Married</td>\n",
              "      <td>0.026392</td>\n",
              "      <td>21557.0</td>\n",
              "      <td>3618.0</td>\n",
              "      <td>NaN</td>\n",
              "      <td>1.0</td>\n",
              "      <td>0.0</td>\n",
              "      <td>2.0</td>\n",
              "      <td>NaN</td>\n",
              "      <td>0.682149</td>\n",
              "      <td>0.267869</td>\n",
              "      <td>0.0</td>\n",
              "      <td>0.0</td>\n",
              "      <td>0.0</td>\n",
              "      <td>7.0</td>\n",
              "      <td>0.0</td>\n",
              "      <td>4.0</td>\n",
              "    </tr>\n",
              "    <tr>\n",
              "      <th>3</th>\n",
              "      <td>123710391.0</td>\n",
              "      <td>Cash</td>\n",
              "      <td>M</td>\n",
              "      <td>0.0</td>\n",
              "      <td>180000.0</td>\n",
              "      <td>518562.0</td>\n",
              "      <td>22972.5</td>\n",
              "      <td>Secondary / secondary special</td>\n",
              "      <td>Married</td>\n",
              "      <td>0.031329</td>\n",
              "      <td>22338.0</td>\n",
              "      <td>365243.0</td>\n",
              "      <td>NaN</td>\n",
              "      <td>0.0</td>\n",
              "      <td>0.0</td>\n",
              "      <td>2.0</td>\n",
              "      <td>NaN</td>\n",
              "      <td>0.171299</td>\n",
              "      <td>0.170446</td>\n",
              "      <td>0.0</td>\n",
              "      <td>0.0</td>\n",
              "      <td>0.0</td>\n",
              "      <td>0.0</td>\n",
              "      <td>0.0</td>\n",
              "      <td>0.0</td>\n",
              "    </tr>\n",
              "    <tr>\n",
              "      <th>4</th>\n",
              "      <td>123590329.0</td>\n",
              "      <td>Cash</td>\n",
              "      <td>NaN</td>\n",
              "      <td>NaN</td>\n",
              "      <td>NaN</td>\n",
              "      <td>NaN</td>\n",
              "      <td>NaN</td>\n",
              "      <td>NaN</td>\n",
              "      <td>NaN</td>\n",
              "      <td>NaN</td>\n",
              "      <td>NaN</td>\n",
              "      <td>NaN</td>\n",
              "      <td>NaN</td>\n",
              "      <td>NaN</td>\n",
              "      <td>NaN</td>\n",
              "      <td>NaN</td>\n",
              "      <td>NaN</td>\n",
              "      <td>NaN</td>\n",
              "      <td>NaN</td>\n",
              "      <td>NaN</td>\n",
              "      <td>NaN</td>\n",
              "      <td>NaN</td>\n",
              "      <td>NaN</td>\n",
              "      <td>NaN</td>\n",
              "      <td>NaN</td>\n",
              "    </tr>\n",
              "    <tr>\n",
              "      <th>...</th>\n",
              "      <td>...</td>\n",
              "      <td>...</td>\n",
              "      <td>...</td>\n",
              "      <td>...</td>\n",
              "      <td>...</td>\n",
              "      <td>...</td>\n",
              "      <td>...</td>\n",
              "      <td>...</td>\n",
              "      <td>...</td>\n",
              "      <td>...</td>\n",
              "      <td>...</td>\n",
              "      <td>...</td>\n",
              "      <td>...</td>\n",
              "      <td>...</td>\n",
              "      <td>...</td>\n",
              "      <td>...</td>\n",
              "      <td>...</td>\n",
              "      <td>...</td>\n",
              "      <td>...</td>\n",
              "      <td>...</td>\n",
              "      <td>...</td>\n",
              "      <td>...</td>\n",
              "      <td>...</td>\n",
              "      <td>...</td>\n",
              "      <td>...</td>\n",
              "    </tr>\n",
              "    <tr>\n",
              "      <th>110088</th>\n",
              "      <td>123458312.0</td>\n",
              "      <td>Cash</td>\n",
              "      <td>NaN</td>\n",
              "      <td>NaN</td>\n",
              "      <td>NaN</td>\n",
              "      <td>NaN</td>\n",
              "      <td>NaN</td>\n",
              "      <td>NaN</td>\n",
              "      <td>NaN</td>\n",
              "      <td>NaN</td>\n",
              "      <td>NaN</td>\n",
              "      <td>NaN</td>\n",
              "      <td>NaN</td>\n",
              "      <td>NaN</td>\n",
              "      <td>NaN</td>\n",
              "      <td>NaN</td>\n",
              "      <td>NaN</td>\n",
              "      <td>NaN</td>\n",
              "      <td>NaN</td>\n",
              "      <td>NaN</td>\n",
              "      <td>NaN</td>\n",
              "      <td>NaN</td>\n",
              "      <td>NaN</td>\n",
              "      <td>NaN</td>\n",
              "      <td>NaN</td>\n",
              "    </tr>\n",
              "    <tr>\n",
              "      <th>110089</th>\n",
              "      <td>123672463.0</td>\n",
              "      <td>Cash</td>\n",
              "      <td>F</td>\n",
              "      <td>0.0</td>\n",
              "      <td>175500.0</td>\n",
              "      <td>269550.0</td>\n",
              "      <td>12618.0</td>\n",
              "      <td>Secondary / secondary special</td>\n",
              "      <td>Married</td>\n",
              "      <td>0.010032</td>\n",
              "      <td>10519.0</td>\n",
              "      <td>1354.0</td>\n",
              "      <td>NaN</td>\n",
              "      <td>0.0</td>\n",
              "      <td>0.0</td>\n",
              "      <td>2.0</td>\n",
              "      <td>0.528096</td>\n",
              "      <td>0.471774</td>\n",
              "      <td>0.581484</td>\n",
              "      <td>0.0</td>\n",
              "      <td>0.0</td>\n",
              "      <td>0.0</td>\n",
              "      <td>0.0</td>\n",
              "      <td>0.0</td>\n",
              "      <td>2.0</td>\n",
              "    </tr>\n",
              "    <tr>\n",
              "      <th>110090</th>\n",
              "      <td>123723001.0</td>\n",
              "      <td>Cash</td>\n",
              "      <td>NaN</td>\n",
              "      <td>NaN</td>\n",
              "      <td>NaN</td>\n",
              "      <td>NaN</td>\n",
              "      <td>NaN</td>\n",
              "      <td>NaN</td>\n",
              "      <td>NaN</td>\n",
              "      <td>NaN</td>\n",
              "      <td>NaN</td>\n",
              "      <td>NaN</td>\n",
              "      <td>NaN</td>\n",
              "      <td>NaN</td>\n",
              "      <td>NaN</td>\n",
              "      <td>NaN</td>\n",
              "      <td>NaN</td>\n",
              "      <td>NaN</td>\n",
              "      <td>NaN</td>\n",
              "      <td>NaN</td>\n",
              "      <td>NaN</td>\n",
              "      <td>NaN</td>\n",
              "      <td>NaN</td>\n",
              "      <td>NaN</td>\n",
              "      <td>NaN</td>\n",
              "    </tr>\n",
              "    <tr>\n",
              "      <th>110091</th>\n",
              "      <td>123554358.0</td>\n",
              "      <td>Cash</td>\n",
              "      <td>F</td>\n",
              "      <td>2.0</td>\n",
              "      <td>270000.0</td>\n",
              "      <td>1024740.0</td>\n",
              "      <td>49428.0</td>\n",
              "      <td>Incomplete higher</td>\n",
              "      <td>Married</td>\n",
              "      <td>0.019101</td>\n",
              "      <td>15008.0</td>\n",
              "      <td>361.0</td>\n",
              "      <td>22.0</td>\n",
              "      <td>0.0</td>\n",
              "      <td>0.0</td>\n",
              "      <td>4.0</td>\n",
              "      <td>0.653826</td>\n",
              "      <td>0.651227</td>\n",
              "      <td>0.558507</td>\n",
              "      <td>0.0</td>\n",
              "      <td>0.0</td>\n",
              "      <td>0.0</td>\n",
              "      <td>1.0</td>\n",
              "      <td>0.0</td>\n",
              "      <td>1.0</td>\n",
              "    </tr>\n",
              "    <tr>\n",
              "      <th>110092</th>\n",
              "      <td>123676265.0</td>\n",
              "      <td>Credit Card</td>\n",
              "      <td>F</td>\n",
              "      <td>1.0</td>\n",
              "      <td>112500.0</td>\n",
              "      <td>337500.0</td>\n",
              "      <td>16875.0</td>\n",
              "      <td>Secondary / secondary special</td>\n",
              "      <td>Married</td>\n",
              "      <td>0.031329</td>\n",
              "      <td>15781.0</td>\n",
              "      <td>258.0</td>\n",
              "      <td>NaN</td>\n",
              "      <td>0.0</td>\n",
              "      <td>0.0</td>\n",
              "      <td>3.0</td>\n",
              "      <td>NaN</td>\n",
              "      <td>0.552043</td>\n",
              "      <td>NaN</td>\n",
              "      <td>NaN</td>\n",
              "      <td>NaN</td>\n",
              "      <td>NaN</td>\n",
              "      <td>NaN</td>\n",
              "      <td>NaN</td>\n",
              "      <td>NaN</td>\n",
              "    </tr>\n",
              "  </tbody>\n",
              "</table>\n",
              "<p>110093 rows × 25 columns</p>\n",
              "</div>"
            ],
            "text/plain": [
              "        APPLICATION_NUMBER  ... AMT_REQ_CREDIT_BUREAU_YEAR\n",
              "0              123687442.0  ...                        2.0\n",
              "1              123597908.0  ...                        NaN\n",
              "2              123526683.0  ...                        4.0\n",
              "3              123710391.0  ...                        0.0\n",
              "4              123590329.0  ...                        NaN\n",
              "...                    ...  ...                        ...\n",
              "110088         123458312.0  ...                        NaN\n",
              "110089         123672463.0  ...                        2.0\n",
              "110090         123723001.0  ...                        NaN\n",
              "110091         123554358.0  ...                        1.0\n",
              "110092         123676265.0  ...                        NaN\n",
              "\n",
              "[110093 rows x 25 columns]"
            ]
          },
          "metadata": {
            "tags": []
          },
          "execution_count": 14
        }
      ]
    },
    {
      "cell_type": "code",
      "metadata": {
        "id": "OUAK2p_n2oO-"
      },
      "source": [
        "numerical = data.select_dtypes(include=[np.number]).index\n",
        "\n",
        "\n",
        "categorical = list(set(data.columns) - set(numerical))\n"
      ],
      "execution_count": 15,
      "outputs": []
    },
    {
      "cell_type": "code",
      "metadata": {
        "colab": {
          "base_uri": "https://localhost:8080/"
        },
        "id": "5MNHTr7_4Jf5",
        "outputId": "6f300df9-bce4-44f3-ea15-836890cdccd2"
      },
      "source": [
        "categorical\n"
      ],
      "execution_count": 94,
      "outputs": [
        {
          "output_type": "execute_result",
          "data": {
            "text/plain": [
              "Index(['NAME_CONTRACT_TYPE', 'GENDER', 'EDUCATION_LEVEL', 'FAMILY_STATUS'], dtype='object')"
            ]
          },
          "metadata": {
            "tags": []
          },
          "execution_count": 94
        }
      ]
    },
    {
      "cell_type": "code",
      "metadata": {
        "colab": {
          "base_uri": "https://localhost:8080/"
        },
        "id": "eqi1gdIj6ti3",
        "outputId": "158ebcd0-a127-4ade-c67e-0e1604269a32"
      },
      "source": [
        "for i in categorical:\n",
        "  data_ohe[i] = data_ohe[i].astype('category')"
      ],
      "execution_count": 17,
      "outputs": [
        {
          "output_type": "stream",
          "text": [
            "/usr/local/lib/python3.7/dist-packages/ipykernel_launcher.py:2: SettingWithCopyWarning: \n",
            "A value is trying to be set on a copy of a slice from a DataFrame.\n",
            "Try using .loc[row_indexer,col_indexer] = value instead\n",
            "\n",
            "See the caveats in the documentation: https://pandas.pydata.org/pandas-docs/stable/user_guide/indexing.html#returning-a-view-versus-a-copy\n",
            "  \n"
          ],
          "name": "stderr"
        }
      ]
    },
    {
      "cell_type": "code",
      "metadata": {
        "id": "zo9s-BSZsc5y",
        "colab": {
          "base_uri": "https://localhost:8080/"
        },
        "outputId": "707a71e5-28bf-48fa-ece6-2d4ff062dc7d"
      },
      "source": [
        "estimators_with_ohe, oof_preds_with_ohe = lightgbm_cross_validation(\n",
        "    lgbm_params, data_ohe, target, cv\n",
        ")"
      ],
      "execution_count": 18,
      "outputs": [
        {
          "output_type": "stream",
          "text": [
            "Sat Apr 17 07:44:29 2021, Cross-Validation, 110093 rows, 25 cols\n",
            "Training until validation scores don't improve for 5000 rounds.\n",
            "[50]\tvalid_0's binary_logloss: 0.27738\tvalid_0's auc: 0.653281\n",
            "[100]\tvalid_0's binary_logloss: 0.274854\tvalid_0's auc: 0.658117\n",
            "[150]\tvalid_0's binary_logloss: 0.272924\tvalid_0's auc: 0.660676\n",
            "[200]\tvalid_0's binary_logloss: 0.271658\tvalid_0's auc: 0.660758\n",
            "[250]\tvalid_0's binary_logloss: 0.270529\tvalid_0's auc: 0.661457\n",
            "[300]\tvalid_0's binary_logloss: 0.269767\tvalid_0's auc: 0.661158\n",
            "[350]\tvalid_0's binary_logloss: 0.269052\tvalid_0's auc: 0.661796\n",
            "[400]\tvalid_0's binary_logloss: 0.268539\tvalid_0's auc: 0.662243\n",
            "[450]\tvalid_0's binary_logloss: 0.268166\tvalid_0's auc: 0.66306\n",
            "[500]\tvalid_0's binary_logloss: 0.267827\tvalid_0's auc: 0.663631\n",
            "[550]\tvalid_0's binary_logloss: 0.267599\tvalid_0's auc: 0.664157\n",
            "[600]\tvalid_0's binary_logloss: 0.26741\tvalid_0's auc: 0.66417\n",
            "[650]\tvalid_0's binary_logloss: 0.26734\tvalid_0's auc: 0.663857\n",
            "[700]\tvalid_0's binary_logloss: 0.267296\tvalid_0's auc: 0.663848\n",
            "[750]\tvalid_0's binary_logloss: 0.267336\tvalid_0's auc: 0.663529\n",
            "Did not meet early stopping. Best iteration is:\n",
            "[707]\tvalid_0's binary_logloss: 0.267277\tvalid_0's auc: 0.66395\n",
            "Fold 1, Valid score = 0.66395\n",
            "Training until validation scores don't improve for 5000 rounds.\n",
            "[50]\tvalid_0's binary_logloss: 0.278799\tvalid_0's auc: 0.647558\n",
            "[100]\tvalid_0's binary_logloss: 0.276368\tvalid_0's auc: 0.653492\n",
            "[150]\tvalid_0's binary_logloss: 0.274574\tvalid_0's auc: 0.653161\n",
            "[200]\tvalid_0's binary_logloss: 0.273335\tvalid_0's auc: 0.654134\n",
            "[250]\tvalid_0's binary_logloss: 0.272245\tvalid_0's auc: 0.654919\n",
            "[300]\tvalid_0's binary_logloss: 0.271539\tvalid_0's auc: 0.655583\n",
            "[350]\tvalid_0's binary_logloss: 0.270896\tvalid_0's auc: 0.656472\n",
            "[400]\tvalid_0's binary_logloss: 0.270503\tvalid_0's auc: 0.657079\n",
            "[450]\tvalid_0's binary_logloss: 0.270199\tvalid_0's auc: 0.657865\n",
            "[500]\tvalid_0's binary_logloss: 0.269952\tvalid_0's auc: 0.65868\n",
            "[550]\tvalid_0's binary_logloss: 0.269797\tvalid_0's auc: 0.659151\n",
            "[600]\tvalid_0's binary_logloss: 0.269726\tvalid_0's auc: 0.65835\n",
            "[650]\tvalid_0's binary_logloss: 0.26971\tvalid_0's auc: 0.658328\n",
            "[700]\tvalid_0's binary_logloss: 0.269772\tvalid_0's auc: 0.658112\n",
            "[750]\tvalid_0's binary_logloss: 0.269817\tvalid_0's auc: 0.658758\n",
            "Did not meet early stopping. Best iteration is:\n",
            "[637]\tvalid_0's binary_logloss: 0.269669\tvalid_0's auc: 0.65887\n",
            "Fold 2, Valid score = 0.65887\n",
            "Training until validation scores don't improve for 5000 rounds.\n",
            "[50]\tvalid_0's binary_logloss: 0.282711\tvalid_0's auc: 0.648903\n",
            "[100]\tvalid_0's binary_logloss: 0.280116\tvalid_0's auc: 0.656757\n",
            "[150]\tvalid_0's binary_logloss: 0.278177\tvalid_0's auc: 0.658143\n",
            "[200]\tvalid_0's binary_logloss: 0.276888\tvalid_0's auc: 0.658893\n",
            "[250]\tvalid_0's binary_logloss: 0.27578\tvalid_0's auc: 0.658603\n",
            "[300]\tvalid_0's binary_logloss: 0.275099\tvalid_0's auc: 0.659095\n",
            "[350]\tvalid_0's binary_logloss: 0.274502\tvalid_0's auc: 0.658461\n",
            "[400]\tvalid_0's binary_logloss: 0.274185\tvalid_0's auc: 0.658449\n",
            "[450]\tvalid_0's binary_logloss: 0.273935\tvalid_0's auc: 0.658447\n",
            "[500]\tvalid_0's binary_logloss: 0.273828\tvalid_0's auc: 0.657923\n",
            "[550]\tvalid_0's binary_logloss: 0.273736\tvalid_0's auc: 0.658443\n",
            "[600]\tvalid_0's binary_logloss: 0.273693\tvalid_0's auc: 0.658611\n",
            "[650]\tvalid_0's binary_logloss: 0.273704\tvalid_0's auc: 0.658534\n",
            "[700]\tvalid_0's binary_logloss: 0.273793\tvalid_0's auc: 0.658496\n",
            "[750]\tvalid_0's binary_logloss: 0.273909\tvalid_0's auc: 0.657661\n",
            "Did not meet early stopping. Best iteration is:\n",
            "[630]\tvalid_0's binary_logloss: 0.27366\tvalid_0's auc: 0.658374\n",
            "Fold 3, Valid score = 0.65837\n",
            "Training until validation scores don't improve for 5000 rounds.\n",
            "[50]\tvalid_0's binary_logloss: 0.27578\tvalid_0's auc: 0.634677\n",
            "[100]\tvalid_0's binary_logloss: 0.273748\tvalid_0's auc: 0.638961\n",
            "[150]\tvalid_0's binary_logloss: 0.272228\tvalid_0's auc: 0.642137\n",
            "[200]\tvalid_0's binary_logloss: 0.271247\tvalid_0's auc: 0.641372\n",
            "[250]\tvalid_0's binary_logloss: 0.270445\tvalid_0's auc: 0.642075\n",
            "[300]\tvalid_0's binary_logloss: 0.269914\tvalid_0's auc: 0.643781\n",
            "[350]\tvalid_0's binary_logloss: 0.269404\tvalid_0's auc: 0.645051\n",
            "[400]\tvalid_0's binary_logloss: 0.269145\tvalid_0's auc: 0.645765\n",
            "[450]\tvalid_0's binary_logloss: 0.268957\tvalid_0's auc: 0.646438\n",
            "[500]\tvalid_0's binary_logloss: 0.268858\tvalid_0's auc: 0.646941\n",
            "[550]\tvalid_0's binary_logloss: 0.268799\tvalid_0's auc: 0.646113\n",
            "[600]\tvalid_0's binary_logloss: 0.268806\tvalid_0's auc: 0.64572\n",
            "[650]\tvalid_0's binary_logloss: 0.268845\tvalid_0's auc: 0.645933\n",
            "[700]\tvalid_0's binary_logloss: 0.268924\tvalid_0's auc: 0.645658\n",
            "[750]\tvalid_0's binary_logloss: 0.269052\tvalid_0's auc: 0.645063\n",
            "Did not meet early stopping. Best iteration is:\n",
            "[611]\tvalid_0's binary_logloss: 0.26879\tvalid_0's auc: 0.645965\n",
            "Fold 4, Valid score = 0.64597\n",
            "Training until validation scores don't improve for 5000 rounds.\n",
            "[50]\tvalid_0's binary_logloss: 0.278607\tvalid_0's auc: 0.65036\n",
            "[100]\tvalid_0's binary_logloss: 0.27626\tvalid_0's auc: 0.656559\n",
            "[150]\tvalid_0's binary_logloss: 0.274438\tvalid_0's auc: 0.656507\n",
            "[200]\tvalid_0's binary_logloss: 0.273155\tvalid_0's auc: 0.658087\n",
            "[250]\tvalid_0's binary_logloss: 0.272128\tvalid_0's auc: 0.657287\n",
            "[300]\tvalid_0's binary_logloss: 0.271434\tvalid_0's auc: 0.658549\n",
            "[350]\tvalid_0's binary_logloss: 0.270764\tvalid_0's auc: 0.660523\n",
            "[400]\tvalid_0's binary_logloss: 0.270273\tvalid_0's auc: 0.6613\n",
            "[450]\tvalid_0's binary_logloss: 0.269871\tvalid_0's auc: 0.663086\n",
            "[500]\tvalid_0's binary_logloss: 0.26958\tvalid_0's auc: 0.663564\n",
            "[550]\tvalid_0's binary_logloss: 0.269307\tvalid_0's auc: 0.664478\n",
            "[600]\tvalid_0's binary_logloss: 0.269067\tvalid_0's auc: 0.665426\n",
            "[650]\tvalid_0's binary_logloss: 0.268959\tvalid_0's auc: 0.665757\n",
            "[700]\tvalid_0's binary_logloss: 0.268877\tvalid_0's auc: 0.665812\n",
            "[750]\tvalid_0's binary_logloss: 0.268772\tvalid_0's auc: 0.666953\n",
            "Did not meet early stopping. Best iteration is:\n",
            "[746]\tvalid_0's binary_logloss: 0.268765\tvalid_0's auc: 0.666775\n",
            "Fold 5, Valid score = 0.66677\n",
            "Training until validation scores don't improve for 5000 rounds.\n",
            "[50]\tvalid_0's binary_logloss: 0.278544\tvalid_0's auc: 0.650602\n",
            "[100]\tvalid_0's binary_logloss: 0.276191\tvalid_0's auc: 0.652944\n",
            "[150]\tvalid_0's binary_logloss: 0.274382\tvalid_0's auc: 0.652359\n",
            "[200]\tvalid_0's binary_logloss: 0.27321\tvalid_0's auc: 0.65345\n",
            "[250]\tvalid_0's binary_logloss: 0.272118\tvalid_0's auc: 0.655334\n",
            "[300]\tvalid_0's binary_logloss: 0.271461\tvalid_0's auc: 0.655878\n",
            "[350]\tvalid_0's binary_logloss: 0.270823\tvalid_0's auc: 0.65806\n",
            "[400]\tvalid_0's binary_logloss: 0.270448\tvalid_0's auc: 0.658047\n",
            "[450]\tvalid_0's binary_logloss: 0.270211\tvalid_0's auc: 0.658945\n",
            "[500]\tvalid_0's binary_logloss: 0.270024\tvalid_0's auc: 0.659823\n",
            "[550]\tvalid_0's binary_logloss: 0.269812\tvalid_0's auc: 0.660424\n",
            "[600]\tvalid_0's binary_logloss: 0.269664\tvalid_0's auc: 0.661404\n",
            "[650]\tvalid_0's binary_logloss: 0.269641\tvalid_0's auc: 0.661733\n",
            "[700]\tvalid_0's binary_logloss: 0.269656\tvalid_0's auc: 0.661724\n",
            "[750]\tvalid_0's binary_logloss: 0.269685\tvalid_0's auc: 0.662144\n",
            "Did not meet early stopping. Best iteration is:\n",
            "[633]\tvalid_0's binary_logloss: 0.269619\tvalid_0's auc: 0.662001\n",
            "Fold 6, Valid score = 0.662\n",
            "Training until validation scores don't improve for 5000 rounds.\n",
            "[50]\tvalid_0's binary_logloss: 0.270418\tvalid_0's auc: 0.634463\n",
            "[100]\tvalid_0's binary_logloss: 0.268472\tvalid_0's auc: 0.638711\n",
            "[150]\tvalid_0's binary_logloss: 0.267022\tvalid_0's auc: 0.638901\n",
            "[200]\tvalid_0's binary_logloss: 0.266028\tvalid_0's auc: 0.641123\n",
            "[250]\tvalid_0's binary_logloss: 0.265209\tvalid_0's auc: 0.641658\n",
            "[300]\tvalid_0's binary_logloss: 0.264666\tvalid_0's auc: 0.641716\n",
            "[350]\tvalid_0's binary_logloss: 0.264161\tvalid_0's auc: 0.643217\n",
            "[400]\tvalid_0's binary_logloss: 0.263821\tvalid_0's auc: 0.644853\n",
            "[450]\tvalid_0's binary_logloss: 0.263594\tvalid_0's auc: 0.645611\n",
            "[500]\tvalid_0's binary_logloss: 0.263401\tvalid_0's auc: 0.646436\n",
            "[550]\tvalid_0's binary_logloss: 0.263262\tvalid_0's auc: 0.648262\n",
            "[600]\tvalid_0's binary_logloss: 0.263163\tvalid_0's auc: 0.64868\n",
            "[650]\tvalid_0's binary_logloss: 0.26312\tvalid_0's auc: 0.649674\n",
            "[700]\tvalid_0's binary_logloss: 0.263129\tvalid_0's auc: 0.649141\n",
            "[750]\tvalid_0's binary_logloss: 0.26315\tvalid_0's auc: 0.650283\n",
            "Did not meet early stopping. Best iteration is:\n",
            "[656]\tvalid_0's binary_logloss: 0.263111\tvalid_0's auc: 0.649639\n",
            "Fold 7, Valid score = 0.64964\n",
            "Score by each fold: [0.66395, 0.65887, 0.65837, 0.64597, 0.66677, 0.662, 0.64964]\n",
            "=================================================================\n"
          ],
          "name": "stdout"
        }
      ]
    },
    {
      "cell_type": "code",
      "metadata": {
        "id": "b_0DT3o-sc5z",
        "colab": {
          "base_uri": "https://localhost:8080/"
        },
        "outputId": "e6f343a8-1c45-4431-8dde-124d062b5490"
      },
      "source": [
        "score = roc_auc_score(target, oof_preds_with_ohe)\n",
        "print(f\"Score = {round(score, 4)}\")"
      ],
      "execution_count": 19,
      "outputs": [
        {
          "output_type": "stream",
          "text": [
            "Score = 0.6577\n"
          ],
          "name": "stdout"
        }
      ]
    },
    {
      "cell_type": "markdown",
      "metadata": {
        "id": "uD5eg8gBsc5z"
      },
      "source": [
        "## BaseModel + LightGBM-encoder"
      ]
    },
    {
      "cell_type": "code",
      "metadata": {
        "id": "YzhoK7uwsc5z",
        "colab": {
          "base_uri": "https://localhost:8080/"
        },
        "outputId": "b7bd59e5-8a2f-41f1-e56a-cb01e35fe608"
      },
      "source": [
        "estimators_cat, oof_preds_cat = lightgbm_cross_validation(\n",
        "    lgbm_params, data, target, cv, categorical=categorical\n",
        ")"
      ],
      "execution_count": 20,
      "outputs": [
        {
          "output_type": "stream",
          "text": [
            "Sat Apr 17 07:46:40 2021, Cross-Validation, 110093 rows, 25 cols\n"
          ],
          "name": "stdout"
        },
        {
          "output_type": "stream",
          "text": [
            "/usr/local/lib/python3.7/dist-packages/lightgbm/basic.py:1209: UserWarning: categorical_feature in Dataset is overridden.\n",
            "New categorical_feature is ['AGE', 'AMOUNT_ANNUITY', 'AMOUNT_CREDIT', 'AMT_REQ_CREDIT_BUREAU_DAY', 'AMT_REQ_CREDIT_BUREAU_HOUR', 'AMT_REQ_CREDIT_BUREAU_MON', 'AMT_REQ_CREDIT_BUREAU_QRT', 'AMT_REQ_CREDIT_BUREAU_WEEK', 'AMT_REQ_CREDIT_BUREAU_YEAR', 'APPLICATION_NUMBER', 'CHILDRENS', 'DAYS_ON_LAST_JOB', 'EDUCATION_LEVEL', 'EXTERNAL_SCORING_RATING_1', 'EXTERNAL_SCORING_RATING_2', 'EXTERNAL_SCORING_RATING_3', 'FAMILY_SIZE', 'FAMILY_STATUS', 'FLAG_EMAIL', 'FLAG_PHONE', 'GENDER', 'NAME_CONTRACT_TYPE', 'OWN_CAR_AGE', 'REGION_POPULATION', 'TOTAL_SALARY']\n",
            "  'New categorical_feature is {}'.format(sorted(list(categorical_feature))))\n"
          ],
          "name": "stderr"
        },
        {
          "output_type": "stream",
          "text": [
            "Training until validation scores don't improve for 5000 rounds.\n",
            "[50]\tvalid_0's binary_logloss: 0.278138\tvalid_0's auc: 0.629897\n",
            "[100]\tvalid_0's binary_logloss: 0.276228\tvalid_0's auc: 0.632623\n",
            "[150]\tvalid_0's binary_logloss: 0.274986\tvalid_0's auc: 0.632946\n",
            "[200]\tvalid_0's binary_logloss: 0.274168\tvalid_0's auc: 0.631175\n",
            "[250]\tvalid_0's binary_logloss: 0.273535\tvalid_0's auc: 0.629648\n",
            "[300]\tvalid_0's binary_logloss: 0.273202\tvalid_0's auc: 0.629284\n",
            "[350]\tvalid_0's binary_logloss: 0.272968\tvalid_0's auc: 0.628199\n",
            "[400]\tvalid_0's binary_logloss: 0.272777\tvalid_0's auc: 0.628493\n",
            "[450]\tvalid_0's binary_logloss: 0.272645\tvalid_0's auc: 0.629441\n",
            "[500]\tvalid_0's binary_logloss: 0.272637\tvalid_0's auc: 0.628895\n",
            "[550]\tvalid_0's binary_logloss: 0.272564\tvalid_0's auc: 0.628707\n",
            "[600]\tvalid_0's binary_logloss: 0.272532\tvalid_0's auc: 0.628914\n",
            "[650]\tvalid_0's binary_logloss: 0.272625\tvalid_0's auc: 0.628064\n",
            "[700]\tvalid_0's binary_logloss: 0.27267\tvalid_0's auc: 0.627674\n",
            "[750]\tvalid_0's binary_logloss: 0.272754\tvalid_0's auc: 0.627631\n",
            "Did not meet early stopping. Best iteration is:\n",
            "[587]\tvalid_0's binary_logloss: 0.272504\tvalid_0's auc: 0.62949\n",
            "Fold 1, Valid score = 0.62949\n"
          ],
          "name": "stdout"
        },
        {
          "output_type": "stream",
          "text": [
            "/usr/local/lib/python3.7/dist-packages/lightgbm/basic.py:1209: UserWarning: categorical_feature in Dataset is overridden.\n",
            "New categorical_feature is ['AGE', 'AMOUNT_ANNUITY', 'AMOUNT_CREDIT', 'AMT_REQ_CREDIT_BUREAU_DAY', 'AMT_REQ_CREDIT_BUREAU_HOUR', 'AMT_REQ_CREDIT_BUREAU_MON', 'AMT_REQ_CREDIT_BUREAU_QRT', 'AMT_REQ_CREDIT_BUREAU_WEEK', 'AMT_REQ_CREDIT_BUREAU_YEAR', 'APPLICATION_NUMBER', 'CHILDRENS', 'DAYS_ON_LAST_JOB', 'EDUCATION_LEVEL', 'EXTERNAL_SCORING_RATING_1', 'EXTERNAL_SCORING_RATING_2', 'EXTERNAL_SCORING_RATING_3', 'FAMILY_SIZE', 'FAMILY_STATUS', 'FLAG_EMAIL', 'FLAG_PHONE', 'GENDER', 'NAME_CONTRACT_TYPE', 'OWN_CAR_AGE', 'REGION_POPULATION', 'TOTAL_SALARY']\n",
            "  'New categorical_feature is {}'.format(sorted(list(categorical_feature))))\n"
          ],
          "name": "stderr"
        },
        {
          "output_type": "stream",
          "text": [
            "Training until validation scores don't improve for 5000 rounds.\n",
            "[50]\tvalid_0's binary_logloss: 0.27951\tvalid_0's auc: 0.621066\n",
            "[100]\tvalid_0's binary_logloss: 0.277775\tvalid_0's auc: 0.623543\n",
            "[150]\tvalid_0's binary_logloss: 0.276689\tvalid_0's auc: 0.623869\n",
            "[200]\tvalid_0's binary_logloss: 0.27601\tvalid_0's auc: 0.623029\n",
            "[250]\tvalid_0's binary_logloss: 0.275555\tvalid_0's auc: 0.622964\n",
            "[300]\tvalid_0's binary_logloss: 0.275404\tvalid_0's auc: 0.621611\n",
            "[350]\tvalid_0's binary_logloss: 0.275276\tvalid_0's auc: 0.621917\n",
            "[400]\tvalid_0's binary_logloss: 0.275242\tvalid_0's auc: 0.621914\n",
            "[450]\tvalid_0's binary_logloss: 0.275254\tvalid_0's auc: 0.622665\n",
            "[500]\tvalid_0's binary_logloss: 0.27539\tvalid_0's auc: 0.622788\n",
            "[550]\tvalid_0's binary_logloss: 0.27551\tvalid_0's auc: 0.622939\n",
            "[600]\tvalid_0's binary_logloss: 0.275646\tvalid_0's auc: 0.623149\n",
            "[650]\tvalid_0's binary_logloss: 0.275813\tvalid_0's auc: 0.622802\n",
            "[700]\tvalid_0's binary_logloss: 0.276052\tvalid_0's auc: 0.622271\n",
            "[750]\tvalid_0's binary_logloss: 0.276261\tvalid_0's auc: 0.622173\n",
            "Did not meet early stopping. Best iteration is:\n",
            "[385]\tvalid_0's binary_logloss: 0.27523\tvalid_0's auc: 0.622254\n",
            "Fold 2, Valid score = 0.62225\n"
          ],
          "name": "stdout"
        },
        {
          "output_type": "stream",
          "text": [
            "/usr/local/lib/python3.7/dist-packages/lightgbm/basic.py:1209: UserWarning: categorical_feature in Dataset is overridden.\n",
            "New categorical_feature is ['AGE', 'AMOUNT_ANNUITY', 'AMOUNT_CREDIT', 'AMT_REQ_CREDIT_BUREAU_DAY', 'AMT_REQ_CREDIT_BUREAU_HOUR', 'AMT_REQ_CREDIT_BUREAU_MON', 'AMT_REQ_CREDIT_BUREAU_QRT', 'AMT_REQ_CREDIT_BUREAU_WEEK', 'AMT_REQ_CREDIT_BUREAU_YEAR', 'APPLICATION_NUMBER', 'CHILDRENS', 'DAYS_ON_LAST_JOB', 'EDUCATION_LEVEL', 'EXTERNAL_SCORING_RATING_1', 'EXTERNAL_SCORING_RATING_2', 'EXTERNAL_SCORING_RATING_3', 'FAMILY_SIZE', 'FAMILY_STATUS', 'FLAG_EMAIL', 'FLAG_PHONE', 'GENDER', 'NAME_CONTRACT_TYPE', 'OWN_CAR_AGE', 'REGION_POPULATION', 'TOTAL_SALARY']\n",
            "  'New categorical_feature is {}'.format(sorted(list(categorical_feature))))\n"
          ],
          "name": "stderr"
        },
        {
          "output_type": "stream",
          "text": [
            "Training until validation scores don't improve for 5000 rounds.\n",
            "[50]\tvalid_0's binary_logloss: 0.283286\tvalid_0's auc: 0.632165\n",
            "[100]\tvalid_0's binary_logloss: 0.281198\tvalid_0's auc: 0.634094\n",
            "[150]\tvalid_0's binary_logloss: 0.279806\tvalid_0's auc: 0.634246\n",
            "[200]\tvalid_0's binary_logloss: 0.278861\tvalid_0's auc: 0.635164\n",
            "[250]\tvalid_0's binary_logloss: 0.27818\tvalid_0's auc: 0.634839\n",
            "[300]\tvalid_0's binary_logloss: 0.277853\tvalid_0's auc: 0.634301\n",
            "[350]\tvalid_0's binary_logloss: 0.277622\tvalid_0's auc: 0.633121\n",
            "[400]\tvalid_0's binary_logloss: 0.277439\tvalid_0's auc: 0.633419\n",
            "[450]\tvalid_0's binary_logloss: 0.277357\tvalid_0's auc: 0.632777\n",
            "[500]\tvalid_0's binary_logloss: 0.277354\tvalid_0's auc: 0.633003\n",
            "[550]\tvalid_0's binary_logloss: 0.277384\tvalid_0's auc: 0.632948\n",
            "[600]\tvalid_0's binary_logloss: 0.27743\tvalid_0's auc: 0.633028\n",
            "[650]\tvalid_0's binary_logloss: 0.277559\tvalid_0's auc: 0.632743\n",
            "[700]\tvalid_0's binary_logloss: 0.277682\tvalid_0's auc: 0.631463\n",
            "[750]\tvalid_0's binary_logloss: 0.277825\tvalid_0's auc: 0.631627\n",
            "Did not meet early stopping. Best iteration is:\n",
            "[476]\tvalid_0's binary_logloss: 0.27733\tvalid_0's auc: 0.63297\n",
            "Fold 3, Valid score = 0.63297\n"
          ],
          "name": "stdout"
        },
        {
          "output_type": "stream",
          "text": [
            "/usr/local/lib/python3.7/dist-packages/lightgbm/basic.py:1209: UserWarning: categorical_feature in Dataset is overridden.\n",
            "New categorical_feature is ['AGE', 'AMOUNT_ANNUITY', 'AMOUNT_CREDIT', 'AMT_REQ_CREDIT_BUREAU_DAY', 'AMT_REQ_CREDIT_BUREAU_HOUR', 'AMT_REQ_CREDIT_BUREAU_MON', 'AMT_REQ_CREDIT_BUREAU_QRT', 'AMT_REQ_CREDIT_BUREAU_WEEK', 'AMT_REQ_CREDIT_BUREAU_YEAR', 'APPLICATION_NUMBER', 'CHILDRENS', 'DAYS_ON_LAST_JOB', 'EDUCATION_LEVEL', 'EXTERNAL_SCORING_RATING_1', 'EXTERNAL_SCORING_RATING_2', 'EXTERNAL_SCORING_RATING_3', 'FAMILY_SIZE', 'FAMILY_STATUS', 'FLAG_EMAIL', 'FLAG_PHONE', 'GENDER', 'NAME_CONTRACT_TYPE', 'OWN_CAR_AGE', 'REGION_POPULATION', 'TOTAL_SALARY']\n",
            "  'New categorical_feature is {}'.format(sorted(list(categorical_feature))))\n"
          ],
          "name": "stderr"
        },
        {
          "output_type": "stream",
          "text": [
            "Training until validation scores don't improve for 5000 rounds.\n",
            "[50]\tvalid_0's binary_logloss: 0.276246\tvalid_0's auc: 0.61834\n",
            "[100]\tvalid_0's binary_logloss: 0.274604\tvalid_0's auc: 0.619301\n",
            "[150]\tvalid_0's binary_logloss: 0.273467\tvalid_0's auc: 0.620152\n",
            "[200]\tvalid_0's binary_logloss: 0.272802\tvalid_0's auc: 0.620509\n",
            "[250]\tvalid_0's binary_logloss: 0.27237\tvalid_0's auc: 0.621524\n",
            "[300]\tvalid_0's binary_logloss: 0.272141\tvalid_0's auc: 0.620931\n",
            "[350]\tvalid_0's binary_logloss: 0.272009\tvalid_0's auc: 0.6206\n",
            "[400]\tvalid_0's binary_logloss: 0.271976\tvalid_0's auc: 0.620589\n",
            "[450]\tvalid_0's binary_logloss: 0.271979\tvalid_0's auc: 0.620588\n",
            "[500]\tvalid_0's binary_logloss: 0.27209\tvalid_0's auc: 0.620558\n",
            "[550]\tvalid_0's binary_logloss: 0.272173\tvalid_0's auc: 0.619922\n",
            "[600]\tvalid_0's binary_logloss: 0.272282\tvalid_0's auc: 0.620082\n",
            "[650]\tvalid_0's binary_logloss: 0.272434\tvalid_0's auc: 0.619763\n",
            "[700]\tvalid_0's binary_logloss: 0.272609\tvalid_0's auc: 0.619495\n",
            "[750]\tvalid_0's binary_logloss: 0.272756\tvalid_0's auc: 0.619286\n",
            "Did not meet early stopping. Best iteration is:\n",
            "[395]\tvalid_0's binary_logloss: 0.27197\tvalid_0's auc: 0.620342\n",
            "Fold 4, Valid score = 0.62034\n"
          ],
          "name": "stdout"
        },
        {
          "output_type": "stream",
          "text": [
            "/usr/local/lib/python3.7/dist-packages/lightgbm/basic.py:1209: UserWarning: categorical_feature in Dataset is overridden.\n",
            "New categorical_feature is ['AGE', 'AMOUNT_ANNUITY', 'AMOUNT_CREDIT', 'AMT_REQ_CREDIT_BUREAU_DAY', 'AMT_REQ_CREDIT_BUREAU_HOUR', 'AMT_REQ_CREDIT_BUREAU_MON', 'AMT_REQ_CREDIT_BUREAU_QRT', 'AMT_REQ_CREDIT_BUREAU_WEEK', 'AMT_REQ_CREDIT_BUREAU_YEAR', 'APPLICATION_NUMBER', 'CHILDRENS', 'DAYS_ON_LAST_JOB', 'EDUCATION_LEVEL', 'EXTERNAL_SCORING_RATING_1', 'EXTERNAL_SCORING_RATING_2', 'EXTERNAL_SCORING_RATING_3', 'FAMILY_SIZE', 'FAMILY_STATUS', 'FLAG_EMAIL', 'FLAG_PHONE', 'GENDER', 'NAME_CONTRACT_TYPE', 'OWN_CAR_AGE', 'REGION_POPULATION', 'TOTAL_SALARY']\n",
            "  'New categorical_feature is {}'.format(sorted(list(categorical_feature))))\n"
          ],
          "name": "stderr"
        },
        {
          "output_type": "stream",
          "text": [
            "Training until validation scores don't improve for 5000 rounds.\n",
            "[50]\tvalid_0's binary_logloss: 0.279197\tvalid_0's auc: 0.637002\n",
            "[100]\tvalid_0's binary_logloss: 0.277275\tvalid_0's auc: 0.639679\n",
            "[150]\tvalid_0's binary_logloss: 0.275939\tvalid_0's auc: 0.63997\n",
            "[200]\tvalid_0's binary_logloss: 0.275041\tvalid_0's auc: 0.640765\n",
            "[250]\tvalid_0's binary_logloss: 0.274339\tvalid_0's auc: 0.641166\n",
            "[300]\tvalid_0's binary_logloss: 0.27394\tvalid_0's auc: 0.641813\n",
            "[350]\tvalid_0's binary_logloss: 0.273576\tvalid_0's auc: 0.642903\n",
            "[400]\tvalid_0's binary_logloss: 0.273306\tvalid_0's auc: 0.643522\n",
            "[450]\tvalid_0's binary_logloss: 0.273123\tvalid_0's auc: 0.643318\n",
            "[500]\tvalid_0's binary_logloss: 0.273022\tvalid_0's auc: 0.643265\n",
            "[550]\tvalid_0's binary_logloss: 0.272911\tvalid_0's auc: 0.643621\n",
            "[600]\tvalid_0's binary_logloss: 0.272858\tvalid_0's auc: 0.643263\n",
            "[650]\tvalid_0's binary_logloss: 0.272874\tvalid_0's auc: 0.642922\n",
            "[700]\tvalid_0's binary_logloss: 0.272957\tvalid_0's auc: 0.641828\n",
            "[750]\tvalid_0's binary_logloss: 0.272991\tvalid_0's auc: 0.641193\n",
            "Did not meet early stopping. Best iteration is:\n",
            "[620]\tvalid_0's binary_logloss: 0.272849\tvalid_0's auc: 0.642924\n",
            "Fold 5, Valid score = 0.64292\n"
          ],
          "name": "stdout"
        },
        {
          "output_type": "stream",
          "text": [
            "/usr/local/lib/python3.7/dist-packages/lightgbm/basic.py:1209: UserWarning: categorical_feature in Dataset is overridden.\n",
            "New categorical_feature is ['AGE', 'AMOUNT_ANNUITY', 'AMOUNT_CREDIT', 'AMT_REQ_CREDIT_BUREAU_DAY', 'AMT_REQ_CREDIT_BUREAU_HOUR', 'AMT_REQ_CREDIT_BUREAU_MON', 'AMT_REQ_CREDIT_BUREAU_QRT', 'AMT_REQ_CREDIT_BUREAU_WEEK', 'AMT_REQ_CREDIT_BUREAU_YEAR', 'APPLICATION_NUMBER', 'CHILDRENS', 'DAYS_ON_LAST_JOB', 'EDUCATION_LEVEL', 'EXTERNAL_SCORING_RATING_1', 'EXTERNAL_SCORING_RATING_2', 'EXTERNAL_SCORING_RATING_3', 'FAMILY_SIZE', 'FAMILY_STATUS', 'FLAG_EMAIL', 'FLAG_PHONE', 'GENDER', 'NAME_CONTRACT_TYPE', 'OWN_CAR_AGE', 'REGION_POPULATION', 'TOTAL_SALARY']\n",
            "  'New categorical_feature is {}'.format(sorted(list(categorical_feature))))\n"
          ],
          "name": "stderr"
        },
        {
          "output_type": "stream",
          "text": [
            "Training until validation scores don't improve for 5000 rounds.\n",
            "[50]\tvalid_0's binary_logloss: 0.27932\tvalid_0's auc: 0.618403\n",
            "[100]\tvalid_0's binary_logloss: 0.27753\tvalid_0's auc: 0.621779\n",
            "[150]\tvalid_0's binary_logloss: 0.276363\tvalid_0's auc: 0.623029\n",
            "[200]\tvalid_0's binary_logloss: 0.275648\tvalid_0's auc: 0.623708\n",
            "[250]\tvalid_0's binary_logloss: 0.275119\tvalid_0's auc: 0.62321\n",
            "[300]\tvalid_0's binary_logloss: 0.274893\tvalid_0's auc: 0.622829\n",
            "[350]\tvalid_0's binary_logloss: 0.274733\tvalid_0's auc: 0.623208\n",
            "[400]\tvalid_0's binary_logloss: 0.274668\tvalid_0's auc: 0.623591\n",
            "[450]\tvalid_0's binary_logloss: 0.274682\tvalid_0's auc: 0.623686\n",
            "[500]\tvalid_0's binary_logloss: 0.274753\tvalid_0's auc: 0.623733\n",
            "[550]\tvalid_0's binary_logloss: 0.274802\tvalid_0's auc: 0.624119\n",
            "[600]\tvalid_0's binary_logloss: 0.274921\tvalid_0's auc: 0.623735\n",
            "[650]\tvalid_0's binary_logloss: 0.275086\tvalid_0's auc: 0.624189\n",
            "[700]\tvalid_0's binary_logloss: 0.275245\tvalid_0's auc: 0.623978\n",
            "[750]\tvalid_0's binary_logloss: 0.275374\tvalid_0's auc: 0.624715\n",
            "Did not meet early stopping. Best iteration is:\n",
            "[404]\tvalid_0's binary_logloss: 0.274654\tvalid_0's auc: 0.623786\n",
            "Fold 6, Valid score = 0.62379\n"
          ],
          "name": "stdout"
        },
        {
          "output_type": "stream",
          "text": [
            "/usr/local/lib/python3.7/dist-packages/lightgbm/basic.py:1209: UserWarning: categorical_feature in Dataset is overridden.\n",
            "New categorical_feature is ['AGE', 'AMOUNT_ANNUITY', 'AMOUNT_CREDIT', 'AMT_REQ_CREDIT_BUREAU_DAY', 'AMT_REQ_CREDIT_BUREAU_HOUR', 'AMT_REQ_CREDIT_BUREAU_MON', 'AMT_REQ_CREDIT_BUREAU_QRT', 'AMT_REQ_CREDIT_BUREAU_WEEK', 'AMT_REQ_CREDIT_BUREAU_YEAR', 'APPLICATION_NUMBER', 'CHILDRENS', 'DAYS_ON_LAST_JOB', 'EDUCATION_LEVEL', 'EXTERNAL_SCORING_RATING_1', 'EXTERNAL_SCORING_RATING_2', 'EXTERNAL_SCORING_RATING_3', 'FAMILY_SIZE', 'FAMILY_STATUS', 'FLAG_EMAIL', 'FLAG_PHONE', 'GENDER', 'NAME_CONTRACT_TYPE', 'OWN_CAR_AGE', 'REGION_POPULATION', 'TOTAL_SALARY']\n",
            "  'New categorical_feature is {}'.format(sorted(list(categorical_feature))))\n"
          ],
          "name": "stderr"
        },
        {
          "output_type": "stream",
          "text": [
            "Training until validation scores don't improve for 5000 rounds.\n",
            "[50]\tvalid_0's binary_logloss: 0.270842\tvalid_0's auc: 0.619009\n",
            "[100]\tvalid_0's binary_logloss: 0.269223\tvalid_0's auc: 0.62464\n",
            "[150]\tvalid_0's binary_logloss: 0.268159\tvalid_0's auc: 0.623599\n",
            "[200]\tvalid_0's binary_logloss: 0.267518\tvalid_0's auc: 0.623124\n",
            "[250]\tvalid_0's binary_logloss: 0.267002\tvalid_0's auc: 0.62396\n",
            "[300]\tvalid_0's binary_logloss: 0.26672\tvalid_0's auc: 0.623453\n",
            "[350]\tvalid_0's binary_logloss: 0.26652\tvalid_0's auc: 0.624483\n",
            "[400]\tvalid_0's binary_logloss: 0.266345\tvalid_0's auc: 0.62474\n",
            "[450]\tvalid_0's binary_logloss: 0.266256\tvalid_0's auc: 0.626122\n",
            "[500]\tvalid_0's binary_logloss: 0.266231\tvalid_0's auc: 0.626161\n",
            "[550]\tvalid_0's binary_logloss: 0.266167\tvalid_0's auc: 0.626774\n",
            "[600]\tvalid_0's binary_logloss: 0.266165\tvalid_0's auc: 0.627292\n",
            "[650]\tvalid_0's binary_logloss: 0.266205\tvalid_0's auc: 0.62722\n",
            "[700]\tvalid_0's binary_logloss: 0.266288\tvalid_0's auc: 0.626649\n",
            "[750]\tvalid_0's binary_logloss: 0.266385\tvalid_0's auc: 0.627109\n",
            "Did not meet early stopping. Best iteration is:\n",
            "[587]\tvalid_0's binary_logloss: 0.266123\tvalid_0's auc: 0.627582\n",
            "Fold 7, Valid score = 0.62758\n",
            "Score by each fold: [0.62949, 0.62225, 0.63297, 0.62034, 0.64292, 0.62379, 0.62758]\n",
            "=================================================================\n"
          ],
          "name": "stdout"
        }
      ]
    },
    {
      "cell_type": "code",
      "metadata": {
        "id": "uBXcwA42sc5z",
        "colab": {
          "base_uri": "https://localhost:8080/"
        },
        "outputId": "9da5e80a-ca74-45b2-f05a-c67051f003c9"
      },
      "source": [
        "score = roc_auc_score(target, oof_preds_cat)\n",
        "print(f\"Score = {round(score, 4)}\")"
      ],
      "execution_count": 21,
      "outputs": [
        {
          "output_type": "stream",
          "text": [
            "Score = 0.628\n"
          ],
          "name": "stdout"
        }
      ]
    },
    {
      "cell_type": "markdown",
      "metadata": {
        "id": "NZf2mjsesc51"
      },
      "source": [
        "## LightGBM with different hyperparams"
      ]
    },
    {
      "cell_type": "code",
      "metadata": {
        "id": "aYZaHNFOsc51"
      },
      "source": [
        "params = {\n",
        "    'boosting_type': 'goss',\n",
        "    'n_estimators': 750,\n",
        "    'learning_rate': 0.005134,\n",
        "    'num_leaves': 54,\n",
        "    'max_depth': 10,\n",
        "    'subsample_for_bin': 240000,\n",
        "    'reg_alpha': 0.436193,\n",
        "    'reg_lambda': 0.479169,\n",
        "    'colsample_bytree': 0.508716,\n",
        "    'min_split_gain': 0.024766,\n",
        "    'subsample': 0.7,\n",
        "    'is_unbalance': False,\n",
        "    'random_state': 42,\n",
        "    'silent': -1,\n",
        "    'verbose': -1\n",
        "}"
      ],
      "execution_count": 26,
      "outputs": []
    },
    {
      "cell_type": "code",
      "metadata": {
        "id": "UPJ_eblSsc51",
        "colab": {
          "base_uri": "https://localhost:8080/"
        },
        "outputId": "2f3f669d-72cd-48a5-8eb6-297b816a39cb"
      },
      "source": [
        "estimators_goss, oof_preds_goss = lightgbm_cross_validation(\n",
        "    params, data, target, cv\n",
        ")"
      ],
      "execution_count": 27,
      "outputs": [
        {
          "output_type": "stream",
          "text": [
            "Sat Apr 17 07:51:28 2021, Cross-Validation, 110093 rows, 25 cols\n",
            "Training until validation scores don't improve for 5000 rounds.\n",
            "[50]\tvalid_0's binary_logloss: 0.273474\tvalid_0's auc: 0.728858\n",
            "[100]\tvalid_0's binary_logloss: 0.26848\tvalid_0's auc: 0.729502\n",
            "[150]\tvalid_0's binary_logloss: 0.264825\tvalid_0's auc: 0.73049\n",
            "[200]\tvalid_0's binary_logloss: 0.261856\tvalid_0's auc: 0.730846\n",
            "[250]\tvalid_0's binary_logloss: 0.25963\tvalid_0's auc: 0.732543\n",
            "[300]\tvalid_0's binary_logloss: 0.257897\tvalid_0's auc: 0.732944\n",
            "[350]\tvalid_0's binary_logloss: 0.256642\tvalid_0's auc: 0.732493\n",
            "[400]\tvalid_0's binary_logloss: 0.255611\tvalid_0's auc: 0.733199\n",
            "[450]\tvalid_0's binary_logloss: 0.254809\tvalid_0's auc: 0.733344\n",
            "[500]\tvalid_0's binary_logloss: 0.254147\tvalid_0's auc: 0.733526\n",
            "[550]\tvalid_0's binary_logloss: 0.25359\tvalid_0's auc: 0.733598\n",
            "[600]\tvalid_0's binary_logloss: 0.253194\tvalid_0's auc: 0.733397\n",
            "[650]\tvalid_0's binary_logloss: 0.252862\tvalid_0's auc: 0.733407\n",
            "[700]\tvalid_0's binary_logloss: 0.252582\tvalid_0's auc: 0.733536\n",
            "[750]\tvalid_0's binary_logloss: 0.252315\tvalid_0's auc: 0.733646\n",
            "Did not meet early stopping. Best iteration is:\n",
            "[750]\tvalid_0's binary_logloss: 0.252315\tvalid_0's auc: 0.733646\n",
            "Fold 1, Valid score = 0.73365\n",
            "Training until validation scores don't improve for 5000 rounds.\n",
            "[50]\tvalid_0's binary_logloss: 0.274888\tvalid_0's auc: 0.722834\n",
            "[100]\tvalid_0's binary_logloss: 0.270184\tvalid_0's auc: 0.722815\n",
            "[150]\tvalid_0's binary_logloss: 0.266673\tvalid_0's auc: 0.723136\n",
            "[200]\tvalid_0's binary_logloss: 0.263841\tvalid_0's auc: 0.724503\n",
            "[250]\tvalid_0's binary_logloss: 0.261655\tvalid_0's auc: 0.725636\n",
            "[300]\tvalid_0's binary_logloss: 0.259954\tvalid_0's auc: 0.727888\n",
            "[350]\tvalid_0's binary_logloss: 0.258716\tvalid_0's auc: 0.728214\n",
            "[400]\tvalid_0's binary_logloss: 0.257704\tvalid_0's auc: 0.729169\n",
            "[450]\tvalid_0's binary_logloss: 0.256911\tvalid_0's auc: 0.728916\n",
            "[500]\tvalid_0's binary_logloss: 0.256261\tvalid_0's auc: 0.729464\n",
            "[550]\tvalid_0's binary_logloss: 0.255731\tvalid_0's auc: 0.729834\n",
            "[600]\tvalid_0's binary_logloss: 0.255305\tvalid_0's auc: 0.730401\n",
            "[650]\tvalid_0's binary_logloss: 0.25498\tvalid_0's auc: 0.730728\n",
            "[700]\tvalid_0's binary_logloss: 0.254676\tvalid_0's auc: 0.730885\n",
            "[750]\tvalid_0's binary_logloss: 0.254444\tvalid_0's auc: 0.7311\n",
            "Did not meet early stopping. Best iteration is:\n",
            "[750]\tvalid_0's binary_logloss: 0.254444\tvalid_0's auc: 0.7311\n",
            "Fold 2, Valid score = 0.7311\n",
            "Training until validation scores don't improve for 5000 rounds.\n",
            "[50]\tvalid_0's binary_logloss: 0.27944\tvalid_0's auc: 0.722331\n",
            "[100]\tvalid_0's binary_logloss: 0.274846\tvalid_0's auc: 0.724503\n",
            "[150]\tvalid_0's binary_logloss: 0.271468\tvalid_0's auc: 0.725607\n",
            "[200]\tvalid_0's binary_logloss: 0.268831\tvalid_0's auc: 0.725221\n",
            "[250]\tvalid_0's binary_logloss: 0.266848\tvalid_0's auc: 0.725379\n",
            "[300]\tvalid_0's binary_logloss: 0.265309\tvalid_0's auc: 0.72504\n",
            "[350]\tvalid_0's binary_logloss: 0.264136\tvalid_0's auc: 0.725732\n",
            "[400]\tvalid_0's binary_logloss: 0.26325\tvalid_0's auc: 0.725744\n",
            "[450]\tvalid_0's binary_logloss: 0.26255\tvalid_0's auc: 0.725642\n",
            "[500]\tvalid_0's binary_logloss: 0.262028\tvalid_0's auc: 0.725297\n",
            "[550]\tvalid_0's binary_logloss: 0.261611\tvalid_0's auc: 0.725496\n",
            "[600]\tvalid_0's binary_logloss: 0.26128\tvalid_0's auc: 0.725387\n",
            "[650]\tvalid_0's binary_logloss: 0.261006\tvalid_0's auc: 0.725255\n",
            "[700]\tvalid_0's binary_logloss: 0.260828\tvalid_0's auc: 0.725169\n",
            "[750]\tvalid_0's binary_logloss: 0.260672\tvalid_0's auc: 0.725087\n",
            "Did not meet early stopping. Best iteration is:\n",
            "[750]\tvalid_0's binary_logloss: 0.260672\tvalid_0's auc: 0.725087\n",
            "Fold 3, Valid score = 0.72509\n",
            "Training until validation scores don't improve for 5000 rounds.\n",
            "[50]\tvalid_0's binary_logloss: 0.272424\tvalid_0's auc: 0.699755\n",
            "[100]\tvalid_0's binary_logloss: 0.268324\tvalid_0's auc: 0.701571\n",
            "[150]\tvalid_0's binary_logloss: 0.265324\tvalid_0's auc: 0.703055\n",
            "[200]\tvalid_0's binary_logloss: 0.263042\tvalid_0's auc: 0.703555\n",
            "[250]\tvalid_0's binary_logloss: 0.261418\tvalid_0's auc: 0.703802\n",
            "[300]\tvalid_0's binary_logloss: 0.260202\tvalid_0's auc: 0.703931\n",
            "[350]\tvalid_0's binary_logloss: 0.259318\tvalid_0's auc: 0.703904\n",
            "[400]\tvalid_0's binary_logloss: 0.258614\tvalid_0's auc: 0.704985\n",
            "[450]\tvalid_0's binary_logloss: 0.258122\tvalid_0's auc: 0.704942\n",
            "[500]\tvalid_0's binary_logloss: 0.257708\tvalid_0's auc: 0.70508\n",
            "[550]\tvalid_0's binary_logloss: 0.257376\tvalid_0's auc: 0.705512\n",
            "[600]\tvalid_0's binary_logloss: 0.257106\tvalid_0's auc: 0.705568\n",
            "[650]\tvalid_0's binary_logloss: 0.2569\tvalid_0's auc: 0.705958\n",
            "[700]\tvalid_0's binary_logloss: 0.256779\tvalid_0's auc: 0.706049\n",
            "[750]\tvalid_0's binary_logloss: 0.256665\tvalid_0's auc: 0.706262\n",
            "Did not meet early stopping. Best iteration is:\n",
            "[743]\tvalid_0's binary_logloss: 0.256663\tvalid_0's auc: 0.70635\n",
            "Fold 4, Valid score = 0.70635\n",
            "Training until validation scores don't improve for 5000 rounds.\n",
            "[50]\tvalid_0's binary_logloss: 0.275385\tvalid_0's auc: 0.711339\n",
            "[100]\tvalid_0's binary_logloss: 0.270929\tvalid_0's auc: 0.712585\n",
            "[150]\tvalid_0's binary_logloss: 0.267713\tvalid_0's auc: 0.71322\n",
            "[200]\tvalid_0's binary_logloss: 0.265125\tvalid_0's auc: 0.71476\n",
            "[250]\tvalid_0's binary_logloss: 0.263178\tvalid_0's auc: 0.714993\n",
            "[300]\tvalid_0's binary_logloss: 0.261719\tvalid_0's auc: 0.715941\n",
            "[350]\tvalid_0's binary_logloss: 0.260619\tvalid_0's auc: 0.716026\n",
            "[400]\tvalid_0's binary_logloss: 0.259733\tvalid_0's auc: 0.716711\n",
            "[450]\tvalid_0's binary_logloss: 0.259048\tvalid_0's auc: 0.71683\n",
            "[500]\tvalid_0's binary_logloss: 0.258517\tvalid_0's auc: 0.716747\n",
            "[550]\tvalid_0's binary_logloss: 0.25804\tvalid_0's auc: 0.71756\n",
            "[600]\tvalid_0's binary_logloss: 0.257711\tvalid_0's auc: 0.717383\n",
            "[650]\tvalid_0's binary_logloss: 0.25747\tvalid_0's auc: 0.717085\n",
            "[700]\tvalid_0's binary_logloss: 0.25725\tvalid_0's auc: 0.717135\n",
            "[750]\tvalid_0's binary_logloss: 0.257052\tvalid_0's auc: 0.717533\n",
            "Did not meet early stopping. Best iteration is:\n",
            "[750]\tvalid_0's binary_logloss: 0.257052\tvalid_0's auc: 0.717533\n",
            "Fold 5, Valid score = 0.71753\n",
            "Training until validation scores don't improve for 5000 rounds.\n",
            "[50]\tvalid_0's binary_logloss: 0.275308\tvalid_0's auc: 0.703131\n",
            "[100]\tvalid_0's binary_logloss: 0.270966\tvalid_0's auc: 0.703779\n",
            "[150]\tvalid_0's binary_logloss: 0.267862\tvalid_0's auc: 0.704925\n",
            "[200]\tvalid_0's binary_logloss: 0.265425\tvalid_0's auc: 0.705144\n",
            "[250]\tvalid_0's binary_logloss: 0.263641\tvalid_0's auc: 0.706581\n",
            "[300]\tvalid_0's binary_logloss: 0.2623\tvalid_0's auc: 0.706911\n",
            "[350]\tvalid_0's binary_logloss: 0.261349\tvalid_0's auc: 0.707721\n",
            "[400]\tvalid_0's binary_logloss: 0.26065\tvalid_0's auc: 0.707921\n",
            "[450]\tvalid_0's binary_logloss: 0.260139\tvalid_0's auc: 0.707858\n",
            "[500]\tvalid_0's binary_logloss: 0.259725\tvalid_0's auc: 0.708518\n",
            "[550]\tvalid_0's binary_logloss: 0.259403\tvalid_0's auc: 0.708734\n",
            "[600]\tvalid_0's binary_logloss: 0.259154\tvalid_0's auc: 0.708333\n",
            "[650]\tvalid_0's binary_logloss: 0.258933\tvalid_0's auc: 0.709093\n",
            "[700]\tvalid_0's binary_logloss: 0.25873\tvalid_0's auc: 0.709394\n",
            "[750]\tvalid_0's binary_logloss: 0.258566\tvalid_0's auc: 0.709778\n",
            "Did not meet early stopping. Best iteration is:\n",
            "[745]\tvalid_0's binary_logloss: 0.258562\tvalid_0's auc: 0.709816\n",
            "Fold 6, Valid score = 0.70982\n",
            "Training until validation scores don't improve for 5000 rounds.\n",
            "[50]\tvalid_0's binary_logloss: 0.266958\tvalid_0's auc: 0.705633\n",
            "[100]\tvalid_0's binary_logloss: 0.262867\tvalid_0's auc: 0.707633\n",
            "[150]\tvalid_0's binary_logloss: 0.259798\tvalid_0's auc: 0.710542\n",
            "[200]\tvalid_0's binary_logloss: 0.257395\tvalid_0's auc: 0.711377\n",
            "[250]\tvalid_0's binary_logloss: 0.25564\tvalid_0's auc: 0.712453\n",
            "[300]\tvalid_0's binary_logloss: 0.254296\tvalid_0's auc: 0.71261\n",
            "[350]\tvalid_0's binary_logloss: 0.253302\tvalid_0's auc: 0.712676\n",
            "[400]\tvalid_0's binary_logloss: 0.252511\tvalid_0's auc: 0.713742\n",
            "[450]\tvalid_0's binary_logloss: 0.251909\tvalid_0's auc: 0.714513\n",
            "[500]\tvalid_0's binary_logloss: 0.251422\tvalid_0's auc: 0.71484\n",
            "[550]\tvalid_0's binary_logloss: 0.251043\tvalid_0's auc: 0.714712\n",
            "[600]\tvalid_0's binary_logloss: 0.250764\tvalid_0's auc: 0.714434\n",
            "[650]\tvalid_0's binary_logloss: 0.250536\tvalid_0's auc: 0.714936\n",
            "[700]\tvalid_0's binary_logloss: 0.250365\tvalid_0's auc: 0.714645\n",
            "[750]\tvalid_0's binary_logloss: 0.250181\tvalid_0's auc: 0.714604\n",
            "Did not meet early stopping. Best iteration is:\n",
            "[750]\tvalid_0's binary_logloss: 0.250181\tvalid_0's auc: 0.714604\n",
            "Fold 7, Valid score = 0.7146\n",
            "Score by each fold: [0.73365, 0.7311, 0.72509, 0.70635, 0.71753, 0.70982, 0.7146]\n",
            "=================================================================\n"
          ],
          "name": "stdout"
        }
      ]
    },
    {
      "cell_type": "code",
      "metadata": {
        "id": "oX3vhiz6sc52",
        "colab": {
          "base_uri": "https://localhost:8080/"
        },
        "outputId": "1980b241-3647-4d63-8a9f-970bc078dd75"
      },
      "source": [
        "score = roc_auc_score(target, oof_preds_goss)\n",
        "print(f\"Score = {round(score, 4)}\")"
      ],
      "execution_count": 28,
      "outputs": [
        {
          "output_type": "stream",
          "text": [
            "Score = 0.7193\n"
          ],
          "name": "stdout"
        }
      ]
    },
    {
      "cell_type": "markdown",
      "metadata": {
        "id": "lpaxvP6Usc52"
      },
      "source": [
        "## XGBoost"
      ]
    },
    {
      "cell_type": "code",
      "metadata": {
        "id": "2L4_3IiNMU30"
      },
      "source": [
        "categorical_columns =['NAME_CONTRACT_TYPE', 'GENDER', 'EDUCATION_LEVEL', 'FAMILY_STATUS']\n",
        "\n",
        "for i in categorical_columns:\n",
        "  data[i] = data[i].astype('category')"
      ],
      "execution_count": 29,
      "outputs": []
    },
    {
      "cell_type": "code",
      "metadata": {
        "id": "RL6ieFrTsc52"
      },
      "source": [
        "xgb_params = {\n",
        "    \"objective\": \"binary:logistic\",\n",
        "    \"booster\": \"gbtree\",\n",
        "    \"eval_metric\": \"auc\",\n",
        "    \"eta\": \"0.05\",\n",
        "    \"max_depth\": 6,\n",
        "    \"gamma\": 10,\n",
        "    \"subsample\": 0.85,\n",
        "    \"colsample_bytree\": 0.7,\n",
        "    \"colsample_bylevel\": 0.632,\n",
        "    \"min_child_weight\": 30,\n",
        "    \"alpha\": 0,\n",
        "    \"lambda\": 0,\n",
        "    \"nthread\": 6,\n",
        "    \"random_seed\": 42\n",
        "}\n",
        "\n",
        "xgb_cv = KFold(n_splits=10, random_state=42, shuffle=True)"
      ],
      "execution_count": 30,
      "outputs": []
    },
    {
      "cell_type": "code",
      "metadata": {
        "colab": {
          "base_uri": "https://localhost:8080/"
        },
        "id": "jTG6UiFCOugF",
        "outputId": "eeaffa16-525e-4c92-f952-9cc60d97066d"
      },
      "source": [
        "print(data.dtypes)\n"
      ],
      "execution_count": 31,
      "outputs": [
        {
          "output_type": "stream",
          "text": [
            "APPLICATION_NUMBER             float64\n",
            "NAME_CONTRACT_TYPE            category\n",
            "GENDER                        category\n",
            "CHILDRENS                      float64\n",
            "TOTAL_SALARY                   float64\n",
            "AMOUNT_CREDIT                  float64\n",
            "AMOUNT_ANNUITY                 float64\n",
            "EDUCATION_LEVEL               category\n",
            "FAMILY_STATUS                 category\n",
            "REGION_POPULATION              float64\n",
            "AGE                            float64\n",
            "DAYS_ON_LAST_JOB               float64\n",
            "OWN_CAR_AGE                    float64\n",
            "FLAG_PHONE                     float64\n",
            "FLAG_EMAIL                     float64\n",
            "FAMILY_SIZE                    float64\n",
            "EXTERNAL_SCORING_RATING_1      float64\n",
            "EXTERNAL_SCORING_RATING_2      float64\n",
            "EXTERNAL_SCORING_RATING_3      float64\n",
            "AMT_REQ_CREDIT_BUREAU_HOUR     float64\n",
            "AMT_REQ_CREDIT_BUREAU_DAY      float64\n",
            "AMT_REQ_CREDIT_BUREAU_WEEK     float64\n",
            "AMT_REQ_CREDIT_BUREAU_MON      float64\n",
            "AMT_REQ_CREDIT_BUREAU_QRT      float64\n",
            "AMT_REQ_CREDIT_BUREAU_YEAR     float64\n",
            "dtype: object\n"
          ],
          "name": "stdout"
        }
      ]
    },
    {
      "cell_type": "code",
      "metadata": {
        "id": "VDDuFv1asc53",
        "colab": {
          "base_uri": "https://localhost:8080/"
        },
        "outputId": "c18bb047-b388-4ca4-884c-8504d2fe5ec9"
      },
      "source": [
        "xgb_estimators, _, xgb_oof = xgboost_cross_validation(\n",
        "    xgb_params, data.drop(categorical_columns, axis = 1), target, xgb_cv\n",
        ")"
      ],
      "execution_count": 32,
      "outputs": [
        {
          "output_type": "stream",
          "text": [
            "Sat Apr 17 07:53:34 2021, Cross-Validation, 110093 rows, 21 cols\n",
            "[0]\ttrain-auc:0.658502\tvalid-auc:0.667291\n",
            "Multiple eval metrics have been passed: 'valid-auc' will be used for early stopping.\n",
            "\n",
            "Will train until valid-auc hasn't improved in 25 rounds.\n",
            "[10]\ttrain-auc:0.705295\tvalid-auc:0.713656\n",
            "[20]\ttrain-auc:0.711695\tvalid-auc:0.719588\n",
            "[30]\ttrain-auc:0.713982\tvalid-auc:0.721573\n",
            "[40]\ttrain-auc:0.715253\tvalid-auc:0.723626\n",
            "[50]\ttrain-auc:0.717361\tvalid-auc:0.724666\n",
            "[60]\ttrain-auc:0.718581\tvalid-auc:0.726457\n",
            "[70]\ttrain-auc:0.719584\tvalid-auc:0.727851\n",
            "[80]\ttrain-auc:0.721528\tvalid-auc:0.728879\n",
            "[90]\ttrain-auc:0.723135\tvalid-auc:0.729914\n",
            "[100]\ttrain-auc:0.724538\tvalid-auc:0.729707\n",
            "[110]\ttrain-auc:0.725733\tvalid-auc:0.730104\n",
            "[120]\ttrain-auc:0.726526\tvalid-auc:0.73027\n",
            "[130]\ttrain-auc:0.727348\tvalid-auc:0.729915\n",
            "Stopping. Best iteration:\n",
            "[112]\ttrain-auc:0.725812\tvalid-auc:0.730712\n",
            "\n",
            "Fold 1, Valid score = 0.73012\n",
            "[0]\ttrain-auc:0.65799\tvalid-auc:0.667128\n",
            "Multiple eval metrics have been passed: 'valid-auc' will be used for early stopping.\n",
            "\n",
            "Will train until valid-auc hasn't improved in 25 rounds.\n",
            "[10]\ttrain-auc:0.70589\tvalid-auc:0.708775\n",
            "[20]\ttrain-auc:0.713018\tvalid-auc:0.713909\n",
            "[30]\ttrain-auc:0.714673\tvalid-auc:0.711743\n",
            "[40]\ttrain-auc:0.716794\tvalid-auc:0.712238\n",
            "Stopping. Best iteration:\n",
            "[18]\ttrain-auc:0.712894\tvalid-auc:0.714816\n",
            "\n",
            "Fold 2, Valid score = 0.71147\n",
            "[0]\ttrain-auc:0.65886\tvalid-auc:0.648367\n",
            "Multiple eval metrics have been passed: 'valid-auc' will be used for early stopping.\n",
            "\n",
            "Will train until valid-auc hasn't improved in 25 rounds.\n",
            "[10]\ttrain-auc:0.706415\tvalid-auc:0.694172\n",
            "[20]\ttrain-auc:0.714132\tvalid-auc:0.704007\n",
            "[30]\ttrain-auc:0.714696\tvalid-auc:0.703328\n",
            "[40]\ttrain-auc:0.71676\tvalid-auc:0.704383\n",
            "[50]\ttrain-auc:0.71844\tvalid-auc:0.704345\n",
            "[60]\ttrain-auc:0.720531\tvalid-auc:0.705055\n",
            "[70]\ttrain-auc:0.721953\tvalid-auc:0.705411\n",
            "Stopping. Best iteration:\n",
            "[47]\ttrain-auc:0.718692\tvalid-auc:0.70685\n",
            "\n",
            "Fold 3, Valid score = 0.70537\n",
            "[0]\ttrain-auc:0.656953\tvalid-auc:0.660681\n",
            "Multiple eval metrics have been passed: 'valid-auc' will be used for early stopping.\n",
            "\n",
            "Will train until valid-auc hasn't improved in 25 rounds.\n",
            "[10]\ttrain-auc:0.711715\tvalid-auc:0.694764\n",
            "[20]\ttrain-auc:0.714472\tvalid-auc:0.694129\n",
            "[30]\ttrain-auc:0.716871\tvalid-auc:0.697246\n",
            "[40]\ttrain-auc:0.718399\tvalid-auc:0.698821\n",
            "[50]\ttrain-auc:0.719711\tvalid-auc:0.701123\n",
            "[60]\ttrain-auc:0.721423\tvalid-auc:0.702975\n",
            "[70]\ttrain-auc:0.722747\tvalid-auc:0.702436\n",
            "[80]\ttrain-auc:0.724248\tvalid-auc:0.702447\n",
            "[90]\ttrain-auc:0.725716\tvalid-auc:0.701678\n",
            "[100]\ttrain-auc:0.726962\tvalid-auc:0.70355\n",
            "Stopping. Best iteration:\n",
            "[76]\ttrain-auc:0.723843\tvalid-auc:0.704134\n",
            "\n",
            "Fold 4, Valid score = 0.7039\n",
            "[0]\ttrain-auc:0.656544\tvalid-auc:0.659674\n",
            "Multiple eval metrics have been passed: 'valid-auc' will be used for early stopping.\n",
            "\n",
            "Will train until valid-auc hasn't improved in 25 rounds.\n",
            "[10]\ttrain-auc:0.709441\tvalid-auc:0.711899\n",
            "[20]\ttrain-auc:0.711737\tvalid-auc:0.715559\n",
            "[30]\ttrain-auc:0.713976\tvalid-auc:0.717162\n",
            "[40]\ttrain-auc:0.715222\tvalid-auc:0.720245\n",
            "[50]\ttrain-auc:0.717213\tvalid-auc:0.721735\n",
            "[60]\ttrain-auc:0.719413\tvalid-auc:0.72281\n",
            "[70]\ttrain-auc:0.721004\tvalid-auc:0.722813\n",
            "[80]\ttrain-auc:0.723003\tvalid-auc:0.722771\n",
            "[90]\ttrain-auc:0.724275\tvalid-auc:0.724249\n",
            "[100]\ttrain-auc:0.725041\tvalid-auc:0.723533\n",
            "[110]\ttrain-auc:0.726404\tvalid-auc:0.725078\n",
            "[120]\ttrain-auc:0.727647\tvalid-auc:0.724825\n",
            "[130]\ttrain-auc:0.728304\tvalid-auc:0.725179\n",
            "[140]\ttrain-auc:0.729004\tvalid-auc:0.725267\n",
            "[150]\ttrain-auc:0.729797\tvalid-auc:0.724527\n",
            "[160]\ttrain-auc:0.730041\tvalid-auc:0.724688\n",
            "Stopping. Best iteration:\n",
            "[140]\ttrain-auc:0.729004\tvalid-auc:0.725267\n",
            "\n",
            "Fold 5, Valid score = 0.72494\n",
            "[0]\ttrain-auc:0.66267\tvalid-auc:0.654057\n",
            "Multiple eval metrics have been passed: 'valid-auc' will be used for early stopping.\n",
            "\n",
            "Will train until valid-auc hasn't improved in 25 rounds.\n",
            "[10]\ttrain-auc:0.710204\tvalid-auc:0.699354\n",
            "[20]\ttrain-auc:0.713643\tvalid-auc:0.700552\n",
            "[30]\ttrain-auc:0.715665\tvalid-auc:0.700935\n",
            "[40]\ttrain-auc:0.717411\tvalid-auc:0.702976\n",
            "[50]\ttrain-auc:0.719423\tvalid-auc:0.70352\n",
            "[60]\ttrain-auc:0.720952\tvalid-auc:0.704598\n",
            "[70]\ttrain-auc:0.722756\tvalid-auc:0.705516\n",
            "[80]\ttrain-auc:0.723688\tvalid-auc:0.707184\n",
            "[90]\ttrain-auc:0.725317\tvalid-auc:0.707989\n",
            "[100]\ttrain-auc:0.726285\tvalid-auc:0.707873\n",
            "[110]\ttrain-auc:0.72747\tvalid-auc:0.709716\n",
            "[120]\ttrain-auc:0.728238\tvalid-auc:0.709737\n",
            "[130]\ttrain-auc:0.728828\tvalid-auc:0.710971\n",
            "[140]\ttrain-auc:0.729768\tvalid-auc:0.711252\n",
            "[150]\ttrain-auc:0.730662\tvalid-auc:0.711656\n",
            "[160]\ttrain-auc:0.731223\tvalid-auc:0.711401\n",
            "[170]\ttrain-auc:0.732199\tvalid-auc:0.711838\n",
            "[180]\ttrain-auc:0.732581\tvalid-auc:0.712152\n",
            "[190]\ttrain-auc:0.732853\tvalid-auc:0.712017\n",
            "[200]\ttrain-auc:0.733658\tvalid-auc:0.712227\n",
            "[210]\ttrain-auc:0.73378\tvalid-auc:0.712275\n",
            "[220]\ttrain-auc:0.734239\tvalid-auc:0.712644\n",
            "[230]\ttrain-auc:0.734489\tvalid-auc:0.712695\n",
            "[240]\ttrain-auc:0.734812\tvalid-auc:0.712559\n",
            "[250]\ttrain-auc:0.735287\tvalid-auc:0.713117\n",
            "[260]\ttrain-auc:0.735458\tvalid-auc:0.713377\n",
            "[270]\ttrain-auc:0.73553\tvalid-auc:0.713528\n",
            "[280]\ttrain-auc:0.736024\tvalid-auc:0.713504\n",
            "[290]\ttrain-auc:0.736715\tvalid-auc:0.714466\n",
            "[300]\ttrain-auc:0.736955\tvalid-auc:0.714488\n",
            "[310]\ttrain-auc:0.737158\tvalid-auc:0.714565\n",
            "[320]\ttrain-auc:0.737491\tvalid-auc:0.714717\n",
            "[330]\ttrain-auc:0.737583\tvalid-auc:0.714751\n",
            "Stopping. Best iteration:\n",
            "[308]\ttrain-auc:0.737164\tvalid-auc:0.714838\n",
            "\n",
            "Fold 6, Valid score = 0.71475\n",
            "[0]\ttrain-auc:0.65967\tvalid-auc:0.652024\n",
            "Multiple eval metrics have been passed: 'valid-auc' will be used for early stopping.\n",
            "\n",
            "Will train until valid-auc hasn't improved in 25 rounds.\n",
            "[10]\ttrain-auc:0.709007\tvalid-auc:0.708106\n",
            "[20]\ttrain-auc:0.71213\tvalid-auc:0.710129\n",
            "[30]\ttrain-auc:0.714914\tvalid-auc:0.710506\n",
            "[40]\ttrain-auc:0.71677\tvalid-auc:0.713444\n",
            "[50]\ttrain-auc:0.718513\tvalid-auc:0.713044\n",
            "[60]\ttrain-auc:0.719984\tvalid-auc:0.713049\n",
            "[70]\ttrain-auc:0.721421\tvalid-auc:0.71371\n",
            "[80]\ttrain-auc:0.722421\tvalid-auc:0.715349\n",
            "[90]\ttrain-auc:0.724113\tvalid-auc:0.715445\n",
            "[100]\ttrain-auc:0.725405\tvalid-auc:0.716855\n",
            "[110]\ttrain-auc:0.726142\tvalid-auc:0.717467\n",
            "[120]\ttrain-auc:0.72728\tvalid-auc:0.717634\n",
            "[130]\ttrain-auc:0.728176\tvalid-auc:0.718089\n",
            "[140]\ttrain-auc:0.728869\tvalid-auc:0.718713\n",
            "[150]\ttrain-auc:0.729501\tvalid-auc:0.718444\n",
            "[160]\ttrain-auc:0.729818\tvalid-auc:0.718955\n",
            "[170]\ttrain-auc:0.730571\tvalid-auc:0.718884\n",
            "[180]\ttrain-auc:0.73104\tvalid-auc:0.719298\n",
            "[190]\ttrain-auc:0.731334\tvalid-auc:0.71892\n",
            "[200]\ttrain-auc:0.732536\tvalid-auc:0.719013\n",
            "Stopping. Best iteration:\n",
            "[180]\ttrain-auc:0.73104\tvalid-auc:0.719298\n",
            "\n",
            "Fold 7, Valid score = 0.71914\n",
            "[0]\ttrain-auc:0.663627\tvalid-auc:0.648227\n",
            "Multiple eval metrics have been passed: 'valid-auc' will be used for early stopping.\n",
            "\n",
            "Will train until valid-auc hasn't improved in 25 rounds.\n",
            "[10]\ttrain-auc:0.711126\tvalid-auc:0.692653\n",
            "[20]\ttrain-auc:0.713239\tvalid-auc:0.697979\n",
            "[30]\ttrain-auc:0.716409\tvalid-auc:0.70001\n",
            "[40]\ttrain-auc:0.718694\tvalid-auc:0.700751\n",
            "[50]\ttrain-auc:0.720053\tvalid-auc:0.701935\n",
            "[60]\ttrain-auc:0.722075\tvalid-auc:0.704214\n",
            "[70]\ttrain-auc:0.722937\tvalid-auc:0.706804\n",
            "[80]\ttrain-auc:0.725027\tvalid-auc:0.707071\n",
            "[90]\ttrain-auc:0.726628\tvalid-auc:0.707196\n",
            "[100]\ttrain-auc:0.72751\tvalid-auc:0.707547\n",
            "Stopping. Best iteration:\n",
            "[84]\ttrain-auc:0.7259\tvalid-auc:0.708624\n",
            "\n",
            "Fold 8, Valid score = 0.70855\n",
            "[0]\ttrain-auc:0.657834\tvalid-auc:0.645697\n",
            "Multiple eval metrics have been passed: 'valid-auc' will be used for early stopping.\n",
            "\n",
            "Will train until valid-auc hasn't improved in 25 rounds.\n",
            "[10]\ttrain-auc:0.709135\tvalid-auc:0.69669\n",
            "[20]\ttrain-auc:0.712725\tvalid-auc:0.700646\n",
            "[30]\ttrain-auc:0.715565\tvalid-auc:0.701693\n",
            "[40]\ttrain-auc:0.718037\tvalid-auc:0.703256\n",
            "[50]\ttrain-auc:0.719327\tvalid-auc:0.701505\n",
            "[60]\ttrain-auc:0.721753\tvalid-auc:0.700707\n",
            "Stopping. Best iteration:\n",
            "[42]\ttrain-auc:0.718311\tvalid-auc:0.703323\n",
            "\n",
            "Fold 9, Valid score = 0.70103\n",
            "[0]\ttrain-auc:0.665181\tvalid-auc:0.645023\n",
            "Multiple eval metrics have been passed: 'valid-auc' will be used for early stopping.\n",
            "\n",
            "Will train until valid-auc hasn't improved in 25 rounds.\n",
            "[10]\ttrain-auc:0.710824\tvalid-auc:0.68177\n",
            "[20]\ttrain-auc:0.71399\tvalid-auc:0.685724\n",
            "[30]\ttrain-auc:0.716262\tvalid-auc:0.686128\n",
            "[40]\ttrain-auc:0.718012\tvalid-auc:0.686922\n",
            "[50]\ttrain-auc:0.720601\tvalid-auc:0.689258\n",
            "[60]\ttrain-auc:0.722193\tvalid-auc:0.690469\n",
            "[70]\ttrain-auc:0.723762\tvalid-auc:0.692031\n",
            "[80]\ttrain-auc:0.725899\tvalid-auc:0.694099\n",
            "[90]\ttrain-auc:0.727162\tvalid-auc:0.694768\n",
            "[100]\ttrain-auc:0.728302\tvalid-auc:0.694895\n",
            "[110]\ttrain-auc:0.72932\tvalid-auc:0.695926\n",
            "[120]\ttrain-auc:0.730565\tvalid-auc:0.696833\n",
            "[130]\ttrain-auc:0.731249\tvalid-auc:0.697025\n",
            "[140]\ttrain-auc:0.731714\tvalid-auc:0.697171\n",
            "[150]\ttrain-auc:0.732206\tvalid-auc:0.698287\n",
            "[160]\ttrain-auc:0.732959\tvalid-auc:0.698848\n",
            "[170]\ttrain-auc:0.733599\tvalid-auc:0.699075\n",
            "[180]\ttrain-auc:0.734304\tvalid-auc:0.698581\n",
            "[190]\ttrain-auc:0.734466\tvalid-auc:0.6986\n",
            "Stopping. Best iteration:\n",
            "[167]\ttrain-auc:0.733271\tvalid-auc:0.699312\n",
            "\n",
            "Fold 10, Valid score = 0.69855\n"
          ],
          "name": "stdout"
        }
      ]
    },
    {
      "cell_type": "code",
      "metadata": {
        "id": "05FbzZOosc53",
        "colab": {
          "base_uri": "https://localhost:8080/"
        },
        "outputId": "a19a9492-596d-4dbc-a2c7-6031a339a2b9"
      },
      "source": [
        "score = roc_auc_score(target, xgb_oof)\n",
        "print(f\"Score = {round(score, 4)}\")"
      ],
      "execution_count": 33,
      "outputs": [
        {
          "output_type": "stream",
          "text": [
            "Score = 0.6996\n"
          ],
          "name": "stdout"
        }
      ]
    },
    {
      "cell_type": "markdown",
      "metadata": {
        "id": "HpUeC0cQsc53"
      },
      "source": [
        "## Матрица корреляции"
      ]
    },
    {
      "cell_type": "code",
      "metadata": {
        "id": "D3rt-375sc53"
      },
      "source": [
        "scores = pd.DataFrame({\n",
        "    \"lgbm_numerical\": oof_preds,\n",
        "    \"lgbm_categorical\": oof_preds_cat,\n",
        "    \"lgbm_with_ohe\": oof_preds_with_ohe,\n",
        "    # \"lgbm_numerical_with_permutation\": oof_preds_perm,\n",
        "    \"lgbm_goss_numerical\": oof_preds_goss,\n",
        "    \"xgb_numerical\": xgb_oof,\n",
        "})\n",
        "\n",
        "corr = scores.corr()\n",
        "mask = np.zeros_like(corr, dtype=np.bool)\n",
        "mask[np.triu_indices_from(mask)] = True"
      ],
      "execution_count": 103,
      "outputs": []
    },
    {
      "cell_type": "code",
      "metadata": {
        "id": "-tWe9DOWsc54",
        "colab": {
          "base_uri": "https://localhost:8080/",
          "height": 658
        },
        "outputId": "832e538e-4b28-49ca-8d97-6e5b739f2242"
      },
      "source": [
        "fig, axes = plt.subplots(1, 1, figsize=(10, 10))\n",
        "sns.heatmap(corr, mask=mask, annot=True, fmt=\".4g\", square=True, cmap=\"viridis\", ax=axes)"
      ],
      "execution_count": 104,
      "outputs": [
        {
          "output_type": "execute_result",
          "data": {
            "text/plain": [
              "<matplotlib.axes._subplots.AxesSubplot at 0x7fb7ccf5a890>"
            ]
          },
          "metadata": {
            "tags": []
          },
          "execution_count": 104
        },
        {
          "output_type": "display_data",
          "data": {
            "image/png": "[encoded data removed]",
            "text/plain": [
              "<Figure size 720x720 with 2 Axes>"
            ]
          },
          "metadata": {
            "tags": [],
            "needs_background": "light"
          }
        }
      ]
    },
    {
      "cell_type": "markdown",
      "metadata": {
        "id": "eGEu1Prjsc54"
      },
      "source": [
        "## Среднее"
      ]
    },
    {
      "cell_type": "code",
      "metadata": {
        "id": "N_lmShRtsc54",
        "colab": {
          "base_uri": "https://localhost:8080/"
        },
        "outputId": "6cec6845-ba27-49e4-c0f2-a83620e5ec51"
      },
      "source": [
        "scores_mean = scores.mean(axis=1)\n",
        "score = roc_auc_score(target, scores_mean)\n",
        "print(f\"Score = {round(score, 4)}\")\n",
        "\n",
        "# 0.6*best + 0.4*(best-1)\n",
        "# scipy.optimize"
      ],
      "execution_count": 105,
      "outputs": [
        {
          "output_type": "stream",
          "text": [
            "Score = 0.7191\n"
          ],
          "name": "stdout"
        }
      ]
    },
    {
      "cell_type": "markdown",
      "metadata": {
        "id": "d-Y56A9_sc55"
      },
      "source": [
        "## GMean"
      ]
    },
    {
      "cell_type": "code",
      "metadata": {
        "id": "Vr4YldMWsc55",
        "colab": {
          "base_uri": "https://localhost:8080/"
        },
        "outputId": "3c3479fe-9ed8-4ce7-889d-d1b9fb737d54"
      },
      "source": [
        "scores_mean = gmean(scores, axis=1)\n",
        "score = roc_auc_score(target, scores_mean)\n",
        "print(f\"Score = {round(score, 4)}\")"
      ],
      "execution_count": 106,
      "outputs": [
        {
          "output_type": "stream",
          "text": [
            "Score = 0.7203\n"
          ],
          "name": "stdout"
        }
      ]
    },
    {
      "cell_type": "markdown",
      "metadata": {
        "id": "NQe-8269sc55"
      },
      "source": [
        "## Rankdata"
      ]
    },
    {
      "cell_type": "code",
      "metadata": {
        "id": "ZDQEGJiWsc55",
        "colab": {
          "base_uri": "https://localhost:8080/"
        },
        "outputId": "482dcbc3-4fce-4330-8192-39508f8bd805"
      },
      "source": [
        "# ROC-AUC / GINI\n",
        "scores_mean = scores.rank().mean(axis=1)\n",
        "score = roc_auc_score(target, scores_mean)\n",
        "print(f\"Score = {round(score, 4)}\")"
      ],
      "execution_count": 38,
      "outputs": [
        {
          "output_type": "stream",
          "text": [
            "Score = 0.7067\n"
          ],
          "name": "stdout"
        }
      ]
    },
    {
      "cell_type": "code",
      "metadata": {
        "id": "aI2Z_izNsc56",
        "colab": {
          "base_uri": "https://localhost:8080/"
        },
        "outputId": "d56bc80c-9198-4a8d-9877-f5bbb45a744a"
      },
      "source": [
        "scores_mean = gmean(scores.rank(), axis=1)\n",
        "score = roc_auc_score(target, scores_mean)\n",
        "print(f\"Score = {round(score, 4)}\")"
      ],
      "execution_count": 39,
      "outputs": [
        {
          "output_type": "stream",
          "text": [
            "Score = 0.6941\n"
          ],
          "name": "stdout"
        }
      ]
    },
    {
      "cell_type": "markdown",
      "metadata": {
        "id": "YKKD5h2_bxj5"
      },
      "source": [
        ""
      ]
    },
    {
      "cell_type": "markdown",
      "metadata": {
        "id": "ZqYUZYSMbxgv"
      },
      "source": [
        ""
      ]
    },
    {
      "cell_type": "markdown",
      "metadata": {
        "id": "om3ZOx-Wbxdr"
      },
      "source": [
        ""
      ]
    },
    {
      "cell_type": "code",
      "metadata": {
        "colab": {
          "base_uri": "https://localhost:8080/"
        },
        "id": "Bp5-iAgyb954",
        "outputId": "fb2a56e3-5b16-4e13-fa57-9338f032a5d6"
      },
      "source": [
        "!pip install catboost"
      ],
      "execution_count": 40,
      "outputs": [
        {
          "output_type": "stream",
          "text": [
            "Collecting catboost\n",
            "\u001b[?25l  Downloading https://files.pythonhosted.org/packages/47/80/8e9c57ec32dfed6ba2922bc5c96462cbf8596ce1a6f5de532ad1e43e53fe/catboost-0.25.1-cp37-none-manylinux1_x86_64.whl (67.3MB)\n",
            "\u001b[K     |████████████████████████████████| 67.3MB 55kB/s \n",
            "\u001b[?25hRequirement already satisfied: numpy>=1.16.0 in /usr/local/lib/python3.7/dist-packages (from catboost) (1.19.5)\n",
            "Requirement already satisfied: plotly in /usr/local/lib/python3.7/dist-packages (from catboost) (4.4.1)\n",
            "Requirement already satisfied: six in /usr/local/lib/python3.7/dist-packages (from catboost) (1.15.0)\n",
            "Requirement already satisfied: scipy in /usr/local/lib/python3.7/dist-packages (from catboost) (1.4.1)\n",
            "Requirement already satisfied: matplotlib in /usr/local/lib/python3.7/dist-packages (from catboost) (3.2.2)\n",
            "Requirement already satisfied: graphviz in /usr/local/lib/python3.7/dist-packages (from catboost) (0.10.1)\n",
            "Requirement already satisfied: pandas>=0.24.0 in /usr/local/lib/python3.7/dist-packages (from catboost) (1.1.5)\n",
            "Requirement already satisfied: retrying>=1.3.3 in /usr/local/lib/python3.7/dist-packages (from plotly->catboost) (1.3.3)\n",
            "Requirement already satisfied: cycler>=0.10 in /usr/local/lib/python3.7/dist-packages (from matplotlib->catboost) (0.10.0)\n",
            "Requirement already satisfied: python-dateutil>=2.1 in /usr/local/lib/python3.7/dist-packages (from matplotlib->catboost) (2.8.1)\n",
            "Requirement already satisfied: pyparsing!=2.0.4,!=2.1.2,!=2.1.6,>=2.0.1 in /usr/local/lib/python3.7/dist-packages (from matplotlib->catboost) (2.4.7)\n",
            "Requirement already satisfied: kiwisolver>=1.0.1 in /usr/local/lib/python3.7/dist-packages (from matplotlib->catboost) (1.3.1)\n",
            "Requirement already satisfied: pytz>=2017.2 in /usr/local/lib/python3.7/dist-packages (from pandas>=0.24.0->catboost) (2018.9)\n",
            "Installing collected packages: catboost\n",
            "Successfully installed catboost-0.25.1\n"
          ],
          "name": "stdout"
        }
      ]
    },
    {
      "cell_type": "code",
      "metadata": {
        "id": "GsswYYplcDoZ"
      },
      "source": [
        "import catboost as cb"
      ],
      "execution_count": 41,
      "outputs": []
    },
    {
      "cell_type": "code",
      "metadata": {
        "id": "rZ22dqhMeEB8"
      },
      "source": [
        "# for i in castboost_category:\n",
        "#   data[i] = data[i].astype('object')"
      ],
      "execution_count": 42,
      "outputs": []
    },
    {
      "cell_type": "code",
      "metadata": {
        "colab": {
          "base_uri": "https://localhost:8080/"
        },
        "id": "EjpwiO6IiQUq",
        "outputId": "945e0854-5eb7-47c3-baae-b8697ed8e06b"
      },
      "source": [
        "data = pd.read_csv(\"/content/drive/MyDrive/Colab_Notebooks/Kaggle /7/train.csv\")\n",
        "\n",
        "test = pd.read_csv(\"/content/drive/MyDrive/Colab_Notebooks/Kaggle /7/test.csv\")\n",
        "print(\"data.shape = {} rows, {} cols\".format(*data.shape))"
      ],
      "execution_count": 43,
      "outputs": [
        {
          "output_type": "stream",
          "text": [
            "data.shape = 110093 rows, 3 cols\n"
          ],
          "name": "stdout"
        }
      ]
    },
    {
      "cell_type": "code",
      "metadata": {
        "id": "cTbyvo6YiQUu"
      },
      "source": [
        "train = pd.concat([data, test], axis=0).reset_index(drop=True)\n",
        "# train = pd.get_dummies(train, columns=categorical)\n",
        "\n",
        "# data_ohe = train.loc[:data.shape[0]-1]\n",
        "# test_ohe = train.loc[data.shape[0]:]"
      ],
      "execution_count": 44,
      "outputs": []
    },
    {
      "cell_type": "code",
      "metadata": {
        "id": "s_cZd_pHiQUu"
      },
      "source": [
        "data = data.merge(client_profile, on='APPLICATION_NUMBER', how='left')"
      ],
      "execution_count": 45,
      "outputs": []
    },
    {
      "cell_type": "code",
      "metadata": {
        "id": "IK66swHBxOJK"
      },
      "source": [
        "data_catboost = data.copy()"
      ],
      "execution_count": 46,
      "outputs": []
    },
    {
      "cell_type": "code",
      "metadata": {
        "id": "wspdIiNZqlTy"
      },
      "source": [
        "data_catboost = data_catboost.drop(['APPLICATION_NUMBER',\t'TARGET'], axis=1)"
      ],
      "execution_count": 47,
      "outputs": []
    },
    {
      "cell_type": "code",
      "metadata": {
        "id": "rdmAQucgiQUv"
      },
      "source": [
        "categorical = data_catboost.dtypes[data.dtypes == \"object\"].index\n",
        "numerical = list(set(data_catboost.columns) - set(categorical))\n",
        "data_catboost[numerical] = data_catboost[numerical].astype(float)\n",
        "data_catboost[categorical] = data_catboost[categorical].astype('category')"
      ],
      "execution_count": 48,
      "outputs": []
    },
    {
      "cell_type": "code",
      "metadata": {
        "id": "TcSm3Iio3sFt"
      },
      "source": [
        "cb_params = {\n",
        "    \"n_estimators\": 2000,\n",
        "    \"learning_rate\": 0.01,\n",
        "    \"loss_function\": \"Logloss\",\n",
        "    \"eval_metric\": \"AUC\",\n",
        " #   \"task_type\": \"CPU\",\n",
        "    \"max_bin\": 20,\n",
        "    \"verbose\": 1000,\n",
        "    \"max_depth\": 6,\n",
        "    \"l2_leaf_reg\": 10,\n",
        "    \"early_stopping_rounds\": 50,\n",
        "    \"thread_count\": 6,\n",
        "    \"random_seed\": 42\n",
        "   \n",
        "}"
      ],
      "execution_count": 52,
      "outputs": []
    },
    {
      "cell_type": "code",
      "metadata": {
        "id": "lE7JvDzLeCFS"
      },
      "source": [
        "def catboost_cross_validation(params, X, y, cv, categorical = None):\n",
        "  \n",
        "\n",
        "    estimators, folds_scores = [], []\n",
        "    oof_preds = np.zeros(X.shape[0])\n",
        "\n",
        "    print(f\"{time.ctime()}, Cross-Validation, {X.shape[0]} rows, {X.shape[1]} cols\")\n",
        "    if categorical:\n",
        "      X[categorical] = X[categorical].astype(str)\n",
        "\n",
        "    for fold, (train_idx, valid_idx) in enumerate(cv.split(X, y)):\n",
        "\n",
        "        x_train, x_valid = X.loc[train_idx], X.loc[valid_idx]\n",
        "        y_train, y_valid = y[train_idx], y[valid_idx]\n",
        "\n",
        "        model = cb.CatBoostClassifier(**params)\n",
        "        model.fit(\n",
        "            x_train, y_train, categorical,\n",
        "            eval_set=[(x_train, y_train), (x_valid, y_valid)]\n",
        "        )\n",
        "        oof_preds[valid_idx] = model.predict_proba(x_valid)[:, 1]\n",
        "        score = roc_auc_score(y_valid, oof_preds[valid_idx])\n",
        "        print(f\"Fold {fold+1}, Valid score = {round(score, 5)}\")\n",
        "        folds_scores.append(round(score, 5))\n",
        "        estimators.append(model)\n",
        "\n",
        "    print(f\"Score by each fold: {folds_scores}\")\n",
        "    print(\"=\"*65)\n",
        "    return estimators, oof_preds"
      ],
      "execution_count": 73,
      "outputs": []
    },
    {
      "cell_type": "code",
      "metadata": {
        "colab": {
          "base_uri": "https://localhost:8080/"
        },
        "id": "sbOeGY0yU1nd",
        "outputId": "2b2e9bad-5842-415d-ef52-b62adbbcb60d"
      },
      "source": [
        "estimators_catboost, oof_preds_catboost = catboost_cross_validation(cb_params, data_catboost, target, cv, categorical=categorical)\n",
        "\n",
        "# estimators_cat, oof_preds_cat = lightgbm_cross_validation(\n",
        "#     lgbm_params, data, target, cv, categorical=categorical\n",
        "# )"
      ],
      "execution_count": 55,
      "outputs": [
        {
          "output_type": "stream",
          "text": [
            "Sat Apr 17 08:08:58 2021, Cross-Validation, 110093 rows, 24 cols\n",
            "0:\ttest: 0.6157434\ttest1: 0.6216621\tbest: 0.6216621 (0)\ttotal: 300ms\tremaining: 9m 58s\n",
            "1000:\ttest: 0.7319835\ttest1: 0.7324529\tbest: 0.7325864 (996)\ttotal: 3m 27s\tremaining: 3m 27s\n",
            "Stopped by overfitting detector  (50 iterations wait)\n",
            "\n",
            "bestTest = 0.73264643\n",
            "bestIteration = 1011\n",
            "\n",
            "Shrink model to first 1012 iterations.\n",
            "Fold 1, Valid score = 0.73265\n",
            "0:\ttest: 0.6051227\ttest1: 0.6102662\tbest: 0.6102662 (0)\ttotal: 217ms\tremaining: 7m 12s\n",
            "1000:\ttest: 0.7338864\ttest1: 0.7280825\tbest: 0.7281057 (995)\ttotal: 3m 25s\tremaining: 3m 25s\n",
            "Stopped by overfitting detector  (50 iterations wait)\n",
            "\n",
            "bestTest = 0.7305291498\n",
            "bestIteration = 1416\n",
            "\n",
            "Shrink model to first 1417 iterations.\n",
            "Fold 2, Valid score = 0.73053\n",
            "0:\ttest: 0.6062012\ttest1: 0.6055698\tbest: 0.6055698 (0)\ttotal: 231ms\tremaining: 7m 40s\n",
            "Stopped by overfitting detector  (50 iterations wait)\n",
            "\n",
            "bestTest = 0.7241944569\n",
            "bestIteration = 893\n",
            "\n",
            "Shrink model to first 894 iterations.\n",
            "Fold 3, Valid score = 0.72419\n",
            "0:\ttest: 0.6124330\ttest1: 0.6001044\tbest: 0.6001044 (0)\ttotal: 237ms\tremaining: 7m 54s\n",
            "Stopped by overfitting detector  (50 iterations wait)\n",
            "\n",
            "bestTest = 0.7081788647\n",
            "bestIteration = 927\n",
            "\n",
            "Shrink model to first 928 iterations.\n",
            "Fold 4, Valid score = 0.70818\n",
            "0:\ttest: 0.5199816\ttest1: 0.5105409\tbest: 0.5105409 (0)\ttotal: 233ms\tremaining: 7m 46s\n",
            "Stopped by overfitting detector  (50 iterations wait)\n",
            "\n",
            "bestTest = 0.7203766039\n",
            "bestIteration = 685\n",
            "\n",
            "Shrink model to first 686 iterations.\n",
            "Fold 5, Valid score = 0.72038\n",
            "0:\ttest: 0.5185838\ttest1: 0.5188870\tbest: 0.5188870 (0)\ttotal: 209ms\tremaining: 6m 58s\n",
            "Stopped by overfitting detector  (50 iterations wait)\n",
            "\n",
            "bestTest = 0.6849374955\n",
            "bestIteration = 74\n",
            "\n",
            "Shrink model to first 75 iterations.\n",
            "Fold 6, Valid score = 0.68494\n",
            "0:\ttest: 0.5188031\ttest1: 0.5175913\tbest: 0.5175913 (0)\ttotal: 241ms\tremaining: 8m 1s\n",
            "Stopped by overfitting detector  (50 iterations wait)\n",
            "\n",
            "bestTest = 0.7162465282\n",
            "bestIteration = 809\n",
            "\n",
            "Shrink model to first 810 iterations.\n",
            "Fold 7, Valid score = 0.71625\n",
            "Score by each fold: [0.73265, 0.73053, 0.72419, 0.70818, 0.72038, 0.68494, 0.71625]\n",
            "=================================================================\n"
          ],
          "name": "stdout"
        }
      ]
    },
    {
      "cell_type": "markdown",
      "metadata": {
        "id": "WDnOBnLUo8rR"
      },
      "source": [
        "CatBoost numerical"
      ]
    },
    {
      "cell_type": "code",
      "metadata": {
        "colab": {
          "base_uri": "https://localhost:8080/"
        },
        "id": "3j7ssmXSpU94",
        "outputId": "14f6e9fd-fc2d-4664-c227-b498d916da9c"
      },
      "source": [
        "categorical"
      ],
      "execution_count": 93,
      "outputs": [
        {
          "output_type": "execute_result",
          "data": {
            "text/plain": [
              "Index(['NAME_CONTRACT_TYPE', 'GENDER', 'EDUCATION_LEVEL', 'FAMILY_STATUS'], dtype='object')"
            ]
          },
          "metadata": {
            "tags": []
          },
          "execution_count": 93
        }
      ]
    },
    {
      "cell_type": "code",
      "metadata": {
        "colab": {
          "base_uri": "https://localhost:8080/",
          "height": 224
        },
        "id": "bOoFa6hC99YT",
        "outputId": "6841b810-a081-4acb-e994-417b23f73d6c"
      },
      "source": [
        "data_catboost.drop(categorical, axis = 1).head(2)"
      ],
      "execution_count": 59,
      "outputs": [
        {
          "output_type": "execute_result",
          "data": {
            "text/html": [
              "<div>\n",
              "<style scoped>\n",
              "    .dataframe tbody tr th:only-of-type {\n",
              "        vertical-align: middle;\n",
              "    }\n",
              "\n",
              "    .dataframe tbody tr th {\n",
              "        vertical-align: top;\n",
              "    }\n",
              "\n",
              "    .dataframe thead th {\n",
              "        text-align: right;\n",
              "    }\n",
              "</style>\n",
              "<table border=\"1\" class=\"dataframe\">\n",
              "  <thead>\n",
              "    <tr style=\"text-align: right;\">\n",
              "      <th></th>\n",
              "      <th>CHILDRENS</th>\n",
              "      <th>TOTAL_SALARY</th>\n",
              "      <th>AMOUNT_CREDIT</th>\n",
              "      <th>AMOUNT_ANNUITY</th>\n",
              "      <th>REGION_POPULATION</th>\n",
              "      <th>AGE</th>\n",
              "      <th>DAYS_ON_LAST_JOB</th>\n",
              "      <th>OWN_CAR_AGE</th>\n",
              "      <th>FLAG_PHONE</th>\n",
              "      <th>FLAG_EMAIL</th>\n",
              "      <th>FAMILY_SIZE</th>\n",
              "      <th>EXTERNAL_SCORING_RATING_1</th>\n",
              "      <th>EXTERNAL_SCORING_RATING_2</th>\n",
              "      <th>EXTERNAL_SCORING_RATING_3</th>\n",
              "      <th>AMT_REQ_CREDIT_BUREAU_HOUR</th>\n",
              "      <th>AMT_REQ_CREDIT_BUREAU_DAY</th>\n",
              "      <th>AMT_REQ_CREDIT_BUREAU_WEEK</th>\n",
              "      <th>AMT_REQ_CREDIT_BUREAU_MON</th>\n",
              "      <th>AMT_REQ_CREDIT_BUREAU_QRT</th>\n",
              "      <th>AMT_REQ_CREDIT_BUREAU_YEAR</th>\n",
              "    </tr>\n",
              "  </thead>\n",
              "  <tbody>\n",
              "    <tr>\n",
              "      <th>0</th>\n",
              "      <td>1.0</td>\n",
              "      <td>157500.0</td>\n",
              "      <td>855000.0</td>\n",
              "      <td>25128.0</td>\n",
              "      <td>0.019101</td>\n",
              "      <td>15728.0</td>\n",
              "      <td>1719.0</td>\n",
              "      <td>11.0</td>\n",
              "      <td>0.0</td>\n",
              "      <td>0.0</td>\n",
              "      <td>3.0</td>\n",
              "      <td>0.700784</td>\n",
              "      <td>0.645914</td>\n",
              "      <td>0.716570</td>\n",
              "      <td>0.0</td>\n",
              "      <td>0.0</td>\n",
              "      <td>1.0</td>\n",
              "      <td>0.0</td>\n",
              "      <td>0.0</td>\n",
              "      <td>2.0</td>\n",
              "    </tr>\n",
              "    <tr>\n",
              "      <th>1</th>\n",
              "      <td>NaN</td>\n",
              "      <td>NaN</td>\n",
              "      <td>NaN</td>\n",
              "      <td>NaN</td>\n",
              "      <td>NaN</td>\n",
              "      <td>NaN</td>\n",
              "      <td>NaN</td>\n",
              "      <td>NaN</td>\n",
              "      <td>NaN</td>\n",
              "      <td>NaN</td>\n",
              "      <td>NaN</td>\n",
              "      <td>NaN</td>\n",
              "      <td>NaN</td>\n",
              "      <td>NaN</td>\n",
              "      <td>NaN</td>\n",
              "      <td>NaN</td>\n",
              "      <td>NaN</td>\n",
              "      <td>NaN</td>\n",
              "      <td>NaN</td>\n",
              "      <td>NaN</td>\n",
              "    </tr>\n",
              "    <tr>\n",
              "      <th>2</th>\n",
              "      <td>0.0</td>\n",
              "      <td>135000.0</td>\n",
              "      <td>1006920.0</td>\n",
              "      <td>42660.0</td>\n",
              "      <td>0.026392</td>\n",
              "      <td>21557.0</td>\n",
              "      <td>3618.0</td>\n",
              "      <td>NaN</td>\n",
              "      <td>1.0</td>\n",
              "      <td>0.0</td>\n",
              "      <td>2.0</td>\n",
              "      <td>NaN</td>\n",
              "      <td>0.682149</td>\n",
              "      <td>0.267869</td>\n",
              "      <td>0.0</td>\n",
              "      <td>0.0</td>\n",
              "      <td>0.0</td>\n",
              "      <td>7.0</td>\n",
              "      <td>0.0</td>\n",
              "      <td>4.0</td>\n",
              "    </tr>\n",
              "    <tr>\n",
              "      <th>3</th>\n",
              "      <td>0.0</td>\n",
              "      <td>180000.0</td>\n",
              "      <td>518562.0</td>\n",
              "      <td>22972.5</td>\n",
              "      <td>0.031329</td>\n",
              "      <td>22338.0</td>\n",
              "      <td>365243.0</td>\n",
              "      <td>NaN</td>\n",
              "      <td>0.0</td>\n",
              "      <td>0.0</td>\n",
              "      <td>2.0</td>\n",
              "      <td>NaN</td>\n",
              "      <td>0.171299</td>\n",
              "      <td>0.170446</td>\n",
              "      <td>0.0</td>\n",
              "      <td>0.0</td>\n",
              "      <td>0.0</td>\n",
              "      <td>0.0</td>\n",
              "      <td>0.0</td>\n",
              "      <td>0.0</td>\n",
              "    </tr>\n",
              "    <tr>\n",
              "      <th>4</th>\n",
              "      <td>NaN</td>\n",
              "      <td>NaN</td>\n",
              "      <td>NaN</td>\n",
              "      <td>NaN</td>\n",
              "      <td>NaN</td>\n",
              "      <td>NaN</td>\n",
              "      <td>NaN</td>\n",
              "      <td>NaN</td>\n",
              "      <td>NaN</td>\n",
              "      <td>NaN</td>\n",
              "      <td>NaN</td>\n",
              "      <td>NaN</td>\n",
              "      <td>NaN</td>\n",
              "      <td>NaN</td>\n",
              "      <td>NaN</td>\n",
              "      <td>NaN</td>\n",
              "      <td>NaN</td>\n",
              "      <td>NaN</td>\n",
              "      <td>NaN</td>\n",
              "      <td>NaN</td>\n",
              "    </tr>\n",
              "  </tbody>\n",
              "</table>\n",
              "</div>"
            ],
            "text/plain": [
              "   CHILDRENS  ...  AMT_REQ_CREDIT_BUREAU_YEAR\n",
              "0        1.0  ...                         2.0\n",
              "1        NaN  ...                         NaN\n",
              "2        0.0  ...                         4.0\n",
              "3        0.0  ...                         0.0\n",
              "4        NaN  ...                         NaN\n",
              "\n",
              "[5 rows x 20 columns]"
            ]
          },
          "metadata": {
            "tags": []
          },
          "execution_count": 59
        }
      ]
    },
    {
      "cell_type": "code",
      "metadata": {
        "colab": {
          "base_uri": "https://localhost:8080/"
        },
        "id": "0idBWPG3pAZg",
        "outputId": "05a365fd-e846-4c60-af02-f8fe20926b8e"
      },
      "source": [
        "estimators_catboost, oof_preds_catboost_numeric = catboost_cross_validation(cb_params, data_catboost[numerical], target, cv, categorical=None)"
      ],
      "execution_count": 74,
      "outputs": [
        {
          "output_type": "stream",
          "text": [
            "Sat Apr 17 08:41:35 2021, Cross-Validation, 110093 rows, 20 cols\n",
            "0:\ttest: 0.5662721\ttest1: 0.5830915\tbest: 0.5830915 (0)\ttotal: 87.3ms\tremaining: 2m 54s\n",
            "Stopped by overfitting detector  (50 iterations wait)\n",
            "\n",
            "bestTest = 0.7256090266\n",
            "bestIteration = 576\n",
            "\n",
            "Shrink model to first 577 iterations.\n",
            "Fold 1, Valid score = 0.72561\n",
            "0:\ttest: 0.6144648\ttest1: 0.6171636\tbest: 0.6171636 (0)\ttotal: 46.2ms\tremaining: 1m 32s\n",
            "Stopped by overfitting detector  (50 iterations wait)\n",
            "\n",
            "bestTest = 0.7220546853\n",
            "bestIteration = 893\n",
            "\n",
            "Shrink model to first 894 iterations.\n",
            "Fold 2, Valid score = 0.72205\n",
            "0:\ttest: 0.6125419\ttest1: 0.6082685\tbest: 0.6082685 (0)\ttotal: 51.5ms\tremaining: 1m 42s\n",
            "Stopped by overfitting detector  (50 iterations wait)\n",
            "\n",
            "bestTest = 0.7150164681\n",
            "bestIteration = 649\n",
            "\n",
            "Shrink model to first 650 iterations.\n",
            "Fold 3, Valid score = 0.71502\n",
            "0:\ttest: 0.5845799\ttest1: 0.5693657\tbest: 0.5693657 (0)\ttotal: 70.6ms\tremaining: 2m 21s\n",
            "1000:\ttest: 0.7296439\ttest1: 0.7064474\tbest: 0.7067609 (971)\ttotal: 1m 25s\tremaining: 1m 24s\n",
            "Stopped by overfitting detector  (50 iterations wait)\n",
            "\n",
            "bestTest = 0.7067609318\n",
            "bestIteration = 971\n",
            "\n",
            "Shrink model to first 972 iterations.\n",
            "Fold 4, Valid score = 0.70676\n",
            "0:\ttest: 0.6053630\ttest1: 0.6014166\tbest: 0.6014166 (0)\ttotal: 59.8ms\tremaining: 1m 59s\n",
            "Stopped by overfitting detector  (50 iterations wait)\n",
            "\n",
            "bestTest = 0.7089181325\n",
            "bestIteration = 740\n",
            "\n",
            "Shrink model to first 741 iterations.\n",
            "Fold 5, Valid score = 0.70892\n",
            "0:\ttest: 0.6158369\ttest1: 0.6102821\tbest: 0.6102821 (0)\ttotal: 47.9ms\tremaining: 1m 35s\n",
            "Stopped by overfitting detector  (50 iterations wait)\n",
            "\n",
            "bestTest = 0.6983589798\n",
            "bestIteration = 742\n",
            "\n",
            "Shrink model to first 743 iterations.\n",
            "Fold 6, Valid score = 0.69836\n",
            "0:\ttest: 0.6134914\ttest1: 0.6173537\tbest: 0.6173537 (0)\ttotal: 76.4ms\tremaining: 2m 32s\n",
            "Stopped by overfitting detector  (50 iterations wait)\n",
            "\n",
            "bestTest = 0.7045849363\n",
            "bestIteration = 538\n",
            "\n",
            "Shrink model to first 539 iterations.\n",
            "Fold 7, Valid score = 0.70458\n",
            "Score by each fold: [0.72561, 0.72205, 0.71502, 0.70676, 0.70892, 0.69836, 0.70458]\n",
            "=================================================================\n"
          ],
          "name": "stdout"
        }
      ]
    },
    {
      "cell_type": "markdown",
      "metadata": {
        "id": "i2WS4WqlB1YR"
      },
      "source": [
        "Catboost with categorical features"
      ]
    },
    {
      "cell_type": "code",
      "metadata": {
        "id": "srOwW1RJx11o",
        "colab": {
          "base_uri": "https://localhost:8080/"
        },
        "outputId": "34ec910a-fdc3-4989-ea70-bc07f5783785"
      },
      "source": [
        "estimators_catboost, oof_preds_catboost_cat = catboost_cross_validation(cb_params, data_catboost[categorical], target, cv, categorical=categorical)"
      ],
      "execution_count": 69,
      "outputs": [
        {
          "output_type": "stream",
          "text": [
            "Sat Apr 17 08:38:44 2021, Cross-Validation, 110093 rows, 4 cols\n"
          ],
          "name": "stdout"
        },
        {
          "output_type": "stream",
          "text": [
            "/usr/local/lib/python3.7/dist-packages/pandas/core/frame.py:3069: SettingWithCopyWarning: \n",
            "A value is trying to be set on a copy of a slice from a DataFrame.\n",
            "Try using .loc[row_indexer,col_indexer] = value instead\n",
            "\n",
            "See the caveats in the documentation: https://pandas.pydata.org/pandas-docs/stable/user_guide/indexing.html#returning-a-view-versus-a-copy\n",
            "  self[k1] = value[k2]\n"
          ],
          "name": "stderr"
        },
        {
          "output_type": "stream",
          "text": [
            "0:\ttest: 0.5168666\ttest1: 0.5173221\tbest: 0.5173221 (0)\ttotal: 114ms\tremaining: 3m 47s\n",
            "Stopped by overfitting detector  (50 iterations wait)\n",
            "\n",
            "bestTest = 0.5173221365\n",
            "bestIteration = 0\n",
            "\n",
            "Shrink model to first 1 iterations.\n",
            "Fold 1, Valid score = 0.51732\n",
            "0:\ttest: 0.5165237\ttest1: 0.5193651\tbest: 0.5193651 (0)\ttotal: 92.3ms\tremaining: 3m 4s\n",
            "Stopped by overfitting detector  (50 iterations wait)\n",
            "\n",
            "bestTest = 0.519365137\n",
            "bestIteration = 0\n",
            "\n",
            "Shrink model to first 1 iterations.\n",
            "Fold 2, Valid score = 0.51937\n",
            "0:\ttest: 0.5165908\ttest1: 0.5189079\tbest: 0.5189079 (0)\ttotal: 85.5ms\tremaining: 2m 50s\n",
            "Stopped by overfitting detector  (50 iterations wait)\n",
            "\n",
            "bestTest = 0.5189078592\n",
            "bestIteration = 0\n",
            "\n",
            "Shrink model to first 1 iterations.\n",
            "Fold 3, Valid score = 0.51891\n",
            "0:\ttest: 0.5164222\ttest1: 0.5200180\tbest: 0.5200180 (0)\ttotal: 123ms\tremaining: 4m 4s\n",
            "Stopped by overfitting detector  (50 iterations wait)\n",
            "\n",
            "bestTest = 0.5200180078\n",
            "bestIteration = 0\n",
            "\n",
            "Shrink model to first 1 iterations.\n",
            "Fold 4, Valid score = 0.52002\n",
            "0:\ttest: 0.5177652\ttest1: 0.5119508\tbest: 0.5119508 (0)\ttotal: 120ms\tremaining: 3m 59s\n",
            "Stopped by overfitting detector  (50 iterations wait)\n",
            "\n",
            "bestTest = 0.5119508142\n",
            "bestIteration = 0\n",
            "\n",
            "Shrink model to first 1 iterations.\n",
            "Fold 5, Valid score = 0.51195\n",
            "0:\ttest: 0.5174021\ttest1: 0.5141310\tbest: 0.5141310 (0)\ttotal: 126ms\tremaining: 4m 12s\n",
            "Stopped by overfitting detector  (50 iterations wait)\n",
            "\n",
            "bestTest = 0.5141310468\n",
            "bestIteration = 0\n",
            "\n",
            "Shrink model to first 1 iterations.\n",
            "Fold 6, Valid score = 0.51413\n",
            "0:\ttest: 0.5169495\ttest1: 0.5167459\tbest: 0.5167459 (0)\ttotal: 107ms\tremaining: 3m 34s\n",
            "Stopped by overfitting detector  (50 iterations wait)\n",
            "\n",
            "bestTest = 0.5167459327\n",
            "bestIteration = 0\n",
            "\n",
            "Shrink model to first 1 iterations.\n",
            "Fold 7, Valid score = 0.51675\n",
            "Score by each fold: [0.51732, 0.51937, 0.51891, 0.52002, 0.51195, 0.51413, 0.51675]\n",
            "=================================================================\n"
          ],
          "name": "stdout"
        }
      ]
    },
    {
      "cell_type": "markdown",
      "metadata": {
        "id": "qiYb0-iZB9CQ"
      },
      "source": [
        "the worst result\n"
      ]
    },
    {
      "cell_type": "code",
      "metadata": {
        "id": "gb9HtoPxgjyz"
      },
      "source": [
        "scores = pd.DataFrame({\n",
        "    \"lgbm_numerical\": oof_preds,\n",
        "    \"lgbm_categorical\": oof_preds_cat,\n",
        "    \"lgbm_with_ohe\": oof_preds_with_ohe,\n",
        "    \"lgbm_goss_numerical\": oof_preds_goss,\n",
        "    \"xgb_numerical\": xgb_oof,\n",
        "    \"catbost_base\": oof_preds_catboost,\n",
        "    \"oof_preds_catboost_numeric\": oof_preds_catboost_numeric,\n",
        "    \"oof_preds_catboost_cat\": oof_preds_catboost_cat\n",
        "})\n",
        "\n",
        "corr = scores.corr()\n",
        "mask = np.zeros_like(corr, dtype=np.bool)\n",
        "mask[np.triu_indices_from(mask)] = True"
      ],
      "execution_count": 75,
      "outputs": []
    },
    {
      "cell_type": "code",
      "metadata": {
        "colab": {
          "base_uri": "https://localhost:8080/",
          "height": 723
        },
        "id": "FElRhCWPoxHn",
        "outputId": "a378ba43-4870-41c5-d783-0b0e7e546faf"
      },
      "source": [
        "fig, axes = plt.subplots(1, 1, figsize=(10, 10))\n",
        "sns.heatmap(corr, mask=mask, annot=True, fmt=\".4g\", square=True, cmap=\"viridis\", ax=axes)"
      ],
      "execution_count": 76,
      "outputs": [
        {
          "output_type": "execute_result",
          "data": {
            "text/plain": [
              "<matplotlib.axes._subplots.AxesSubplot at 0x7fb7cd9de2d0>"
            ]
          },
          "metadata": {
            "tags": []
          },
          "execution_count": 76
        },
        {
          "output_type": "display_data",
          "data": {
            "image/png": "[encoded data removed]",
            "text/plain": [
              "<Figure size 720x720 with 2 Axes>"
            ]
          },
          "metadata": {
            "tags": [],
            "needs_background": "light"
          }
        }
      ]
    },
    {
      "cell_type": "markdown",
      "metadata": {
        "id": "_F8mA-aFCYDi"
      },
      "source": [
        "## Среднее"
      ]
    },
    {
      "cell_type": "code",
      "metadata": {
        "colab": {
          "base_uri": "https://localhost:8080/"
        },
        "id": "IcYbmeqrCYDq",
        "outputId": "1c917e02-ba47-49dc-9482-fd0f032a3cd9"
      },
      "source": [
        "scores_mean = scores.mean(axis=1)\n",
        "score = roc_auc_score(target, scores_mean)\n",
        "print(f\"Score = {round(score, 4)}\")\n",
        "\n",
        "# 0.6*best + 0.4*(best-1)\n",
        "# scipy.optimize"
      ],
      "execution_count": 78,
      "outputs": [
        {
          "output_type": "stream",
          "text": [
            "Score = 0.7187\n"
          ],
          "name": "stdout"
        }
      ]
    },
    {
      "cell_type": "markdown",
      "metadata": {
        "id": "lJVz4s-lCYDs"
      },
      "source": [
        "## GMean"
      ]
    },
    {
      "cell_type": "code",
      "metadata": {
        "colab": {
          "base_uri": "https://localhost:8080/"
        },
        "id": "2LJXuGaXCYDt",
        "outputId": "d1516571-81fc-4322-fccc-32f77c7d274f"
      },
      "source": [
        "scores_mean = gmean(scores, axis=1)\n",
        "score = roc_auc_score(target, scores_mean)\n",
        "print(f\"Score = {round(score, 4)}\")"
      ],
      "execution_count": 79,
      "outputs": [
        {
          "output_type": "stream",
          "text": [
            "Score = 0.7212\n"
          ],
          "name": "stdout"
        }
      ]
    },
    {
      "cell_type": "markdown",
      "metadata": {
        "id": "f8ccYtl5CYDt"
      },
      "source": [
        "## Rankdata"
      ]
    },
    {
      "cell_type": "code",
      "metadata": {
        "colab": {
          "base_uri": "https://localhost:8080/"
        },
        "id": "Jts4A_q3CYDu",
        "outputId": "6362bf90-0f93-42c2-d99a-ef0040b2b419"
      },
      "source": [
        "# ROC-AUC / GINI\n",
        "scores_mean = scores.rank().mean(axis=1)\n",
        "score = roc_auc_score(target, scores_mean)\n",
        "print(f\"Score = {round(score, 4)}\")"
      ],
      "execution_count": 80,
      "outputs": [
        {
          "output_type": "stream",
          "text": [
            "Score = 0.7076\n"
          ],
          "name": "stdout"
        }
      ]
    },
    {
      "cell_type": "code",
      "metadata": {
        "colab": {
          "base_uri": "https://localhost:8080/"
        },
        "id": "f9OiVCoCCYDu",
        "outputId": "696a60a2-818e-4230-b390-b53f6b4b5fda"
      },
      "source": [
        "scores_mean = gmean(scores.rank(), axis=1)\n",
        "score = roc_auc_score(target, scores_mean)\n",
        "print(f\"Score = {round(score, 4)}\")"
      ],
      "execution_count": 81,
      "outputs": [
        {
          "output_type": "stream",
          "text": [
            "Score = 0.6939\n"
          ],
          "name": "stdout"
        }
      ]
    },
    {
      "cell_type": "markdown",
      "metadata": {
        "id": "TUazhAtNCeKI"
      },
      "source": [
        "## We had\n",
        "### mean Score = 0.7191\n",
        "### Gmean Score = 0.7203\n",
        "### Rankdata = 0.7067"
      ]
    },
    {
      "cell_type": "markdown",
      "metadata": {
        "id": "AS24ypyCDEnE"
      },
      "source": [
        "with catboost result has become worse"
      ]
    },
    {
      "cell_type": "markdown",
      "metadata": {
        "id": "5MBAnAjHD6vo"
      },
      "source": [
        "We can try not to include catboost base result and result with categorical features "
      ]
    },
    {
      "cell_type": "code",
      "metadata": {
        "id": "IC5eFPgBDnyl"
      },
      "source": [
        "scores = pd.DataFrame({\n",
        "    \"lgbm_numerical\": oof_preds,\n",
        "    \"lgbm_categorical\": oof_preds_cat,\n",
        "    \"lgbm_with_ohe\": oof_preds_with_ohe,\n",
        "    \"lgbm_goss_numerical\": oof_preds_goss,\n",
        "    \"xgb_numerical\": xgb_oof,\n",
        "    \"oof_preds_catboost_numeric\": oof_preds_catboost_numeric\n",
        "  })\n",
        "\n",
        "corr = scores.corr()\n",
        "mask = np.zeros_like(corr, dtype=np.bool)\n",
        "mask[np.triu_indices_from(mask)] = True"
      ],
      "execution_count": 107,
      "outputs": []
    },
    {
      "cell_type": "code",
      "metadata": {
        "colab": {
          "base_uri": "https://localhost:8080/"
        },
        "id": "ABWSeilNDnym",
        "outputId": "d465b0a8-e1db-45c2-8711-939911c23960"
      },
      "source": [
        "scores_mean = scores.mean(axis=1)\n",
        "score = roc_auc_score(target, scores_mean)\n",
        "print(f\"Score = {round(score, 4)}\")\n",
        "\n",
        "# 0.6*best + 0.4*(best-1)\n",
        "# scipy.optimize"
      ],
      "execution_count": 108,
      "outputs": [
        {
          "output_type": "stream",
          "text": [
            "Score = 0.7203\n"
          ],
          "name": "stdout"
        }
      ]
    },
    {
      "cell_type": "code",
      "metadata": {
        "colab": {
          "base_uri": "https://localhost:8080/"
        },
        "id": "jXBZ6lH9Dnyo",
        "outputId": "0e4e3d95-daf7-4801-8575-70099562ff46"
      },
      "source": [
        "scores_mean = gmean(scores, axis=1)\n",
        "score = roc_auc_score(target, scores_mean)\n",
        "print(f\"Score = {round(score, 4)}\")"
      ],
      "execution_count": 109,
      "outputs": [
        {
          "output_type": "stream",
          "text": [
            "Score = 0.7215\n"
          ],
          "name": "stdout"
        }
      ]
    },
    {
      "cell_type": "code",
      "metadata": {
        "colab": {
          "base_uri": "https://localhost:8080/"
        },
        "id": "-j8-XAaVDnyp",
        "outputId": "116474f9-9dce-4513-845a-cf1b53ddd31b"
      },
      "source": [
        "# ROC-AUC / GINI\n",
        "scores_mean = scores.rank().mean(axis=1)\n",
        "score = roc_auc_score(target, scores_mean)\n",
        "print(f\"Score = {round(score, 4)}\")"
      ],
      "execution_count": 110,
      "outputs": [
        {
          "output_type": "stream",
          "text": [
            "Score = 0.7172\n"
          ],
          "name": "stdout"
        }
      ]
    },
    {
      "cell_type": "markdown",
      "metadata": {
        "id": "hqBJbi6BE7MW"
      },
      "source": [
        "# выводы\n",
        "#### Все модели с цисловыми признаками сильно коррелированы.\n",
        "#### Луший результат (0.73265) пока получен при использовании catboost со всеми признаками, но думаю, что при работе с гиперпараметрами другие модели тоже покажут неплохие результаты. "
      ]
    },
    {
      "cell_type": "code",
      "metadata": {
        "id": "VLRkvDobKOlI"
      },
      "source": [
        ""
      ],
      "execution_count": null,
      "outputs": []
    }
  ]
}